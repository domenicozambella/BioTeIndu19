{
 "cells": [
  {
   "cell_type": "markdown",
   "metadata": {},
   "source": [
    "# Prima lezione"
   ]
  },
  {
   "cell_type": "code",
   "execution_count": null,
   "metadata": {},
   "outputs": [],
   "source": [
    "# RUN THIS CELL: it loads some style files\n",
    "from IPython.core.display import HTML\n",
    "with open( './style/custom.css', 'r' ) as f: html_style = f.read()\n",
    "HTML( html_style )\n",
    "\n"
   ]
  },
  {
   "cell_type": "markdown",
   "metadata": {},
   "source": [
    "## Una selezione di linguaggi utili per l'analisi statistica di dati\n",
    "\n",
    "Considereremo e confronteremo i sequenti 3 linguaggi. Ma ci concentreremo principalmente su `Python`.\n",
    "\n",
    "`Python` È un linguaggio con un ampio spettro di applicazioni. Va per la maggiore nell'intelligenza artificiale e nelle data sciences, ma ha anche applicazioni web e UI. Ogni abito usa librerie specifiche.\n",
    "\n",
    "`R` Pensato principalmente per la statistica (ed usato principlamente per questo). Per le più elementari funzioni statistiche non è necessario caricare nessumna libreria.\n",
    "\n",
    "`Julia` Molto recente (versione 0.0 nel 2009, versione 1.0 nel 2018). Tra qualche anno potrebbe superare per diffusione le altre due alternative (almeno nell'ambito calcolo scientifico)."
   ]
  },
  {
   "cell_type": "markdown",
   "metadata": {},
   "source": [
    "## Utilizzo di librerie in `Python`\n",
    "\n",
    "Esistono 3 modi di utilizzare una libreria in `Python`. Per esempio per poter usare la libreria `pandas` (per trattare tabelle di dati) possiamo scrivere"
   ]
  },
  {
   "cell_type": "code",
   "execution_count": null,
   "metadata": {},
   "outputs": [],
   "source": [
    "import pandas"
   ]
  },
  {
   "cell_type": "markdown",
   "metadata": {},
   "source": [
    "Però questo obbliga a usare il prefisso `pandas.` ogni volta che si usa una funzione della libreria. Per esempio per usare la funzione  `read_csv` (funzione che legge una tabella si *coma separated values*) dovremmo scrivere `pandas.read_csv`. Questo rischia di rendere poco leggibile il codice. \n",
    "\n",
    "Un'alternativa è importare singole funzioni della libreria. Per esempio se si vuole usare la solo la funzione `read_csv` potremmo scrivere "
   ]
  },
  {
   "cell_type": "code",
   "execution_count": null,
   "metadata": {},
   "outputs": [],
   "source": [
    "from pandas import read_csv"
   ]
  },
  {
   "cell_type": "markdown",
   "metadata": {},
   "source": [
    "In questo modo possiamo usare `read_csv` senza prefisso. Però questo è scomodo quando dobbiamo importare molte funzioni e quando non siamo ben sicuri di cosa vogliamo/dobbiamo usare.\n",
    "\n",
    "Il problema si risolve usando una *wildcary*. Il seguente comando importa (senza prefisso) *tutte* le funzioni della libreria."
   ]
  },
  {
   "cell_type": "code",
   "execution_count": null,
   "metadata": {},
   "outputs": [],
   "source": [
    "from pandas import *"
   ]
  },
  {
   "cell_type": "markdown",
   "metadata": {},
   "source": [
    "Ma questa soluzione è deprecata perché se usiamo due librerie che definiscono la stessa funzione non siamo sicuri quale stiamo usando.\n",
    "\n",
    "Un compromesso è usare il comando"
   ]
  },
  {
   "cell_type": "code",
   "execution_count": 3,
   "metadata": {},
   "outputs": [],
   "source": [
    "import pandas as pd"
   ]
  },
  {
   "cell_type": "markdown",
   "metadata": {},
   "source": [
    "In questo modo il prefisso da usare per le funzioni della libreria è `pd.` (più breve). Tipicamente ogni libreria ha un abbreviazione standard"
   ]
  },
  {
   "cell_type": "markdown",
   "metadata": {},
   "source": [
    "## Esempio lettura tabella csv\n",
    "\n",
    "I dati della tabella `Cork_Airport.csv` che si trovav nella directory `BioTeIndu19/dati`. Questo notebook è nella directory `BioTeIndu19/lezioni` quindi il percorso relativo per arrivare alla tablella è `../dati/Cork_Airport.csv`.\n",
    "\n",
    "Le prime 24 righe della tabella sono descrizione dei dati quindi dobbiamo saltarle."
   ]
  },
  {
   "cell_type": "code",
   "execution_count": 4,
   "metadata": {},
   "outputs": [],
   "source": [
    "df = pd.read_csv(\"../dati/Cork_Airport.csv\", skiprows=24 )\n",
    "#df"
   ]
  },
  {
   "cell_type": "markdown",
   "metadata": {},
   "source": [
    "Vogliamo tenere solo le colonne:\n",
    "\n",
    "`date`    data\n",
    "\n",
    "`maxtp`  temperatura massima\n",
    "\n",
    "`mintp`  temperatura minima\n",
    "\n",
    "`wdsp`   velocità del vento"
   ]
  },
  {
   "cell_type": "code",
   "execution_count": 5,
   "metadata": {},
   "outputs": [
    {
     "data": {
      "text/html": [
       "<div>\n",
       "<style scoped>\n",
       "    .dataframe tbody tr th:only-of-type {\n",
       "        vertical-align: middle;\n",
       "    }\n",
       "\n",
       "    .dataframe tbody tr th {\n",
       "        vertical-align: top;\n",
       "    }\n",
       "\n",
       "    .dataframe thead th {\n",
       "        text-align: right;\n",
       "    }\n",
       "</style>\n",
       "<table border=\"1\" class=\"dataframe\">\n",
       "  <thead>\n",
       "    <tr style=\"text-align: right;\">\n",
       "      <th></th>\n",
       "      <th>date</th>\n",
       "      <th>maxtp</th>\n",
       "      <th>mintp</th>\n",
       "      <th>wdsp</th>\n",
       "    </tr>\n",
       "  </thead>\n",
       "  <tbody>\n",
       "    <tr>\n",
       "      <th>20848</th>\n",
       "      <td>30-jan-2019</td>\n",
       "      <td>3.4</td>\n",
       "      <td>-2.1</td>\n",
       "      <td>5.0</td>\n",
       "    </tr>\n",
       "    <tr>\n",
       "      <th>20849</th>\n",
       "      <td>31-jan-2019</td>\n",
       "      <td>6.4</td>\n",
       "      <td>1.3</td>\n",
       "      <td>10.5</td>\n",
       "    </tr>\n",
       "  </tbody>\n",
       "</table>\n",
       "</div>"
      ],
      "text/plain": [
       "              date  maxtp  mintp  wdsp\n",
       "20848  30-jan-2019    3.4   -2.1   5.0\n",
       "20849  31-jan-2019    6.4    1.3  10.5"
      ]
     },
     "execution_count": 5,
     "metadata": {},
     "output_type": "execute_result"
    }
   ],
   "source": [
    "df = df[ ['date', 'maxtp', 'mintp', 'wdsp'] ]\n",
    "df.tail(2) # stampiamo le ultime 2 righe del dataframe"
   ]
  },
  {
   "cell_type": "markdown",
   "metadata": {},
   "source": [
    "La velocità del vento è in nodi ma noi la vogliamo in km/h. \n",
    "\n",
    "Dobbiamo moltiplicare per 1.8552 tutti gli elementi della colonna `wdsp`.\n",
    "\n",
    "Per convenienza, prima creiamo una copia del dataframe `df` che chiameremo `df1`.\n",
    "\n",
    "Il metodo `map` applica una funzione a tutti gli elementi di un dataframe. Dobbiamo restringerci alla colonna `wdsp'."
   ]
  },
  {
   "cell_type": "code",
   "execution_count": null,
   "metadata": {},
   "outputs": [],
   "source": [
    "df1 = df.copy()\n",
    "df1['wdsp_kmh'] = df1['wdsp'].map(lambda x: x*1.8552)\n",
    "df1.tail(2)"
   ]
  },
  {
   "cell_type": "markdown",
   "metadata": {},
   "source": [
    "Un altro modo è approfittare del fatto che `pandas` interpreta alune semplici operazioni (come addizine e sottrazione) in modo *vettoriale* cioè applicate ad ogni elemento di un vettore (array, serie, ecc.)"
   ]
  },
  {
   "cell_type": "code",
   "execution_count": 6,
   "metadata": {},
   "outputs": [
    {
     "data": {
      "text/html": [
       "<div>\n",
       "<style scoped>\n",
       "    .dataframe tbody tr th:only-of-type {\n",
       "        vertical-align: middle;\n",
       "    }\n",
       "\n",
       "    .dataframe tbody tr th {\n",
       "        vertical-align: top;\n",
       "    }\n",
       "\n",
       "    .dataframe thead th {\n",
       "        text-align: right;\n",
       "    }\n",
       "</style>\n",
       "<table border=\"1\" class=\"dataframe\">\n",
       "  <thead>\n",
       "    <tr style=\"text-align: right;\">\n",
       "      <th></th>\n",
       "      <th>date</th>\n",
       "      <th>maxtp</th>\n",
       "      <th>mintp</th>\n",
       "      <th>wdsp</th>\n",
       "      <th>wdsp_kmh</th>\n",
       "    </tr>\n",
       "  </thead>\n",
       "  <tbody>\n",
       "    <tr>\n",
       "      <th>20848</th>\n",
       "      <td>30-jan-2019</td>\n",
       "      <td>3.4</td>\n",
       "      <td>-2.1</td>\n",
       "      <td>5.0</td>\n",
       "      <td>9.2760</td>\n",
       "    </tr>\n",
       "    <tr>\n",
       "      <th>20849</th>\n",
       "      <td>31-jan-2019</td>\n",
       "      <td>6.4</td>\n",
       "      <td>1.3</td>\n",
       "      <td>10.5</td>\n",
       "      <td>19.4796</td>\n",
       "    </tr>\n",
       "  </tbody>\n",
       "</table>\n",
       "</div>"
      ],
      "text/plain": [
       "              date  maxtp  mintp  wdsp  wdsp_kmh\n",
       "20848  30-jan-2019    3.4   -2.1   5.0    9.2760\n",
       "20849  31-jan-2019    6.4    1.3  10.5   19.4796"
      ]
     },
     "execution_count": 6,
     "metadata": {},
     "output_type": "execute_result"
    }
   ],
   "source": [
    "df2 = df.copy()\n",
    "df2[ 'wdsp_kmh' ] = df2[ 'wdsp' ] * 1.8552\n",
    "df2.tail(2)"
   ]
  },
  {
   "cell_type": "code",
   "execution_count": 19,
   "metadata": {},
   "outputs": [
    {
     "data": {
      "text/html": [
       "<div>\n",
       "<style scoped>\n",
       "    .dataframe tbody tr th:only-of-type {\n",
       "        vertical-align: middle;\n",
       "    }\n",
       "\n",
       "    .dataframe tbody tr th {\n",
       "        vertical-align: top;\n",
       "    }\n",
       "\n",
       "    .dataframe thead th {\n",
       "        text-align: right;\n",
       "    }\n",
       "</style>\n",
       "<table border=\"1\" class=\"dataframe\">\n",
       "  <thead>\n",
       "    <tr style=\"text-align: right;\">\n",
       "      <th></th>\n",
       "      <th>date</th>\n",
       "      <th>maxtp</th>\n",
       "      <th>mintp</th>\n",
       "      <th>wdsp</th>\n",
       "      <th>wdsp_kmh</th>\n",
       "    </tr>\n",
       "  </thead>\n",
       "  <tbody>\n",
       "    <tr>\n",
       "      <th>373</th>\n",
       "      <td>09-jan-1963</td>\n",
       "      <td>2.3</td>\n",
       "      <td>0.1</td>\n",
       "      <td>27.8</td>\n",
       "      <td>51.57456</td>\n",
       "    </tr>\n",
       "    <tr>\n",
       "      <th>722</th>\n",
       "      <td>24-dec-1963</td>\n",
       "      <td>10.0</td>\n",
       "      <td>4.1</td>\n",
       "      <td>27.8</td>\n",
       "      <td>51.57456</td>\n",
       "    </tr>\n",
       "    <tr>\n",
       "      <th>1564</th>\n",
       "      <td>14-apr-1966</td>\n",
       "      <td>3.6</td>\n",
       "      <td>0.7</td>\n",
       "      <td>27.2</td>\n",
       "      <td>50.46144</td>\n",
       "    </tr>\n",
       "    <tr>\n",
       "      <th>4760</th>\n",
       "      <td>13-jan-1975</td>\n",
       "      <td>10.6</td>\n",
       "      <td>5.4</td>\n",
       "      <td>28.0</td>\n",
       "      <td>51.94560</td>\n",
       "    </tr>\n",
       "    <tr>\n",
       "      <th>7292</th>\n",
       "      <td>19-dec-1981</td>\n",
       "      <td>9.7</td>\n",
       "      <td>0.5</td>\n",
       "      <td>27.2</td>\n",
       "      <td>50.46144</td>\n",
       "    </tr>\n",
       "    <tr>\n",
       "      <th>7674</th>\n",
       "      <td>05-jan-1983</td>\n",
       "      <td>12.0</td>\n",
       "      <td>8.1</td>\n",
       "      <td>27.0</td>\n",
       "      <td>50.09040</td>\n",
       "    </tr>\n",
       "    <tr>\n",
       "      <th>7914</th>\n",
       "      <td>02-sep-1983</td>\n",
       "      <td>18.0</td>\n",
       "      <td>11.1</td>\n",
       "      <td>28.0</td>\n",
       "      <td>51.94560</td>\n",
       "    </tr>\n",
       "    <tr>\n",
       "      <th>7957</th>\n",
       "      <td>15-oct-1983</td>\n",
       "      <td>11.9</td>\n",
       "      <td>7.1</td>\n",
       "      <td>27.6</td>\n",
       "      <td>51.20352</td>\n",
       "    </tr>\n",
       "    <tr>\n",
       "      <th>8071</th>\n",
       "      <td>06-feb-1984</td>\n",
       "      <td>9.9</td>\n",
       "      <td>6.6</td>\n",
       "      <td>27.1</td>\n",
       "      <td>50.27592</td>\n",
       "    </tr>\n",
       "    <tr>\n",
       "      <th>9492</th>\n",
       "      <td>28-dec-1987</td>\n",
       "      <td>11.9</td>\n",
       "      <td>10.5</td>\n",
       "      <td>27.3</td>\n",
       "      <td>50.64696</td>\n",
       "    </tr>\n",
       "    <tr>\n",
       "      <th>9507</th>\n",
       "      <td>12-jan-1988</td>\n",
       "      <td>8.7</td>\n",
       "      <td>3.9</td>\n",
       "      <td>27.2</td>\n",
       "      <td>50.46144</td>\n",
       "    </tr>\n",
       "    <tr>\n",
       "      <th>11664</th>\n",
       "      <td>08-dec-1993</td>\n",
       "      <td>11.8</td>\n",
       "      <td>5.5</td>\n",
       "      <td>27.2</td>\n",
       "      <td>50.46144</td>\n",
       "    </tr>\n",
       "    <tr>\n",
       "      <th>12423</th>\n",
       "      <td>06-jan-1996</td>\n",
       "      <td>10.5</td>\n",
       "      <td>8.0</td>\n",
       "      <td>27.2</td>\n",
       "      <td>50.46144</td>\n",
       "    </tr>\n",
       "    <tr>\n",
       "      <th>15712</th>\n",
       "      <td>07-jan-2005</td>\n",
       "      <td>11.0</td>\n",
       "      <td>9.8</td>\n",
       "      <td>27.8</td>\n",
       "      <td>51.57456</td>\n",
       "    </tr>\n",
       "  </tbody>\n",
       "</table>\n",
       "</div>"
      ],
      "text/plain": [
       "              date  maxtp  mintp  wdsp  wdsp_kmh\n",
       "373    09-jan-1963    2.3    0.1  27.8  51.57456\n",
       "722    24-dec-1963   10.0    4.1  27.8  51.57456\n",
       "1564   14-apr-1966    3.6    0.7  27.2  50.46144\n",
       "4760   13-jan-1975   10.6    5.4  28.0  51.94560\n",
       "7292   19-dec-1981    9.7    0.5  27.2  50.46144\n",
       "7674   05-jan-1983   12.0    8.1  27.0  50.09040\n",
       "7914   02-sep-1983   18.0   11.1  28.0  51.94560\n",
       "7957   15-oct-1983   11.9    7.1  27.6  51.20352\n",
       "8071   06-feb-1984    9.9    6.6  27.1  50.27592\n",
       "9492   28-dec-1987   11.9   10.5  27.3  50.64696\n",
       "9507   12-jan-1988    8.7    3.9  27.2  50.46144\n",
       "11664  08-dec-1993   11.8    5.5  27.2  50.46144\n",
       "12423  06-jan-1996   10.5    8.0  27.2  50.46144\n",
       "15712  07-jan-2005   11.0    9.8  27.8  51.57456"
      ]
     },
     "execution_count": 19,
     "metadata": {},
     "output_type": "execute_result"
    }
   ],
   "source": [
    "mask = (df2[ 'wdsp_kmh' ] >= 50)  &  (df2[ 'wdsp_kmh' ] <= 52)\n",
    "df2[ mask]"
   ]
  },
  {
   "cell_type": "code",
   "execution_count": null,
   "metadata": {},
   "outputs": [],
   "source": []
  },
  {
   "cell_type": "code",
   "execution_count": null,
   "metadata": {},
   "outputs": [],
   "source": []
  },
  {
   "cell_type": "code",
   "execution_count": null,
   "metadata": {},
   "outputs": [],
   "source": []
  },
  {
   "cell_type": "code",
   "execution_count": null,
   "metadata": {},
   "outputs": [],
   "source": [
    "df3 = pd.DataFrame()\n",
    "df3[ 'date' ] = df[ 'date' ]\n",
    "df3[ 'max-min' ] = df[ ['maxtp', 'mintp'] \n",
    "                     ].apply(lambda x: round(x['maxtp']-x['mintp'], 1),\n",
    "                             axis=1,\n",
    "                            )\n",
    "df3[ 'max-min' ] = df3[ 'max-min' ] * (9/5) + 32 \n",
    "df3"
   ]
  },
  {
   "cell_type": "code",
   "execution_count": null,
   "metadata": {},
   "outputs": [],
   "source": [
    "df3.to_csv('../dati/escursione_termica.csv')"
   ]
  },
  {
   "cell_type": "code",
   "execution_count": null,
   "metadata": {},
   "outputs": [],
   "source": [
    "df3[ 'max-min' ].max()"
   ]
  },
  {
   "cell_type": "code",
   "execution_count": null,
   "metadata": {},
   "outputs": [],
   "source": [
    "mask = df3[ 'max-min' ] >= 58\n",
    "df3[mask]"
   ]
  },
  {
   "cell_type": "code",
   "execution_count": null,
   "metadata": {},
   "outputs": [],
   "source": [
    "!jupyter nbconvert 1a_lezione.ipynb --to html\n",
    "!jupyter nbconvert 1a_lezione.ipynb --to pdf"
   ]
  },
  {
   "cell_type": "code",
   "execution_count": null,
   "metadata": {},
   "outputs": [],
   "source": []
  }
 ],
 "metadata": {
  "kernelspec": {
   "display_name": "Python 3",
   "language": "python",
   "name": "python3"
  },
  "language_info": {
   "codemirror_mode": {
    "name": "ipython",
    "version": 3
   },
   "file_extension": ".py",
   "mimetype": "text/x-python",
   "name": "python",
   "nbconvert_exporter": "python",
   "pygments_lexer": "ipython3",
   "version": "3.6.7"
  }
 },
 "nbformat": 4,
 "nbformat_minor": 2
}
