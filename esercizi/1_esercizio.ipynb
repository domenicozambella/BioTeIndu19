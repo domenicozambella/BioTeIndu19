{
 "cells": [
  {
   "cell_type": "markdown",
   "metadata": {},
   "source": [
    "Leggere la tabella `/dati/escursione_termica.csv` in un dataframe `df`. Stampare le prime 3 righe."
   ]
  },
  {
   "cell_type": "code",
   "execution_count": 1,
   "metadata": {},
   "outputs": [],
   "source": [
    "# Qui il vostro script"
   ]
  },
  {
   "cell_type": "markdown",
   "metadata": {},
   "source": [
    "La seconda colonna contiene l'escursione termica in gradi Fahrenheit.\n",
    "\n",
    "Trasformare l'escursione termica in gradi Celsius. Arrotondare i valori a una cifra decimale.\n",
    "\n",
    "N.B. La formula è\n",
    "\n",
    "$\\qquad\\dfrac59\\big(T_F - 32\\big) =\\ T_C$\n",
    "\n",
    "dove\n",
    "\n",
    "$\\qquad T_C$ temperatura in °C\n",
    "\n",
    "$\\qquad T_F$ temperatura in °F "
   ]
  },
  {
   "cell_type": "code",
   "execution_count": 2,
   "metadata": {},
   "outputs": [],
   "source": [
    "# Qui il vostro script"
   ]
  },
  {
   "cell_type": "markdown",
   "metadata": {},
   "source": [
    "Trovare l'escursione termica massima registrata. \n",
    "\n",
    "N.B. se `x` è un vettore numerico il massimo si ottiene con `x.max()`."
   ]
  },
  {
   "cell_type": "code",
   "execution_count": 3,
   "metadata": {},
   "outputs": [],
   "source": [
    "# Qui il vostro script"
   ]
  },
  {
   "cell_type": "markdown",
   "metadata": {},
   "source": [
    "Costruire un dataframe `df1` con i giorni in cui l'escursione è stata di almeno 14°C"
   ]
  },
  {
   "cell_type": "code",
   "execution_count": 4,
   "metadata": {},
   "outputs": [],
   "source": [
    "# Qui il vostro script"
   ]
  },
  {
   "cell_type": "markdown",
   "metadata": {},
   "source": [
    "# Istruzioni per la consegna su Moodle\n",
    "\n",
    "* Rinominare il notebook `1_Cognome.Nome`\n",
    "\n",
    "* Dare il comando `Kernel > Restart & Run All`\n",
    "\n",
    "* Esportare in formato  `.ipynb`, `.html` e `.pdf`  (File > Download as > ... )\n",
    "\n",
    "* Caricare su Moodle i file `.ipynb`, `.html`, `.pdf`."
   ]
  },
  {
   "cell_type": "code",
   "execution_count": null,
   "metadata": {},
   "outputs": [],
   "source": []
  }
 ],
 "metadata": {
  "kernelspec": {
   "display_name": "Python 3",
   "language": "python",
   "name": "python3"
  },
  "language_info": {
   "codemirror_mode": {
    "name": "ipython",
    "version": 3
   },
   "file_extension": ".py",
   "mimetype": "text/x-python",
   "name": "python",
   "nbconvert_exporter": "python",
   "pygments_lexer": "ipython3",
   "version": "3.6.7"
  }
 },
 "nbformat": 4,
 "nbformat_minor": 2
}
