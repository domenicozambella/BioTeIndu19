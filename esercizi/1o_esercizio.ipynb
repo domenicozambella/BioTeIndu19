{
 "cells": [
  {
   "cell_type": "markdown",
   "metadata": {},
   "source": [
    "Trascrivere la tabella nella cartella `dati` in un dataframe `df`."
   ]
  },
  {
   "cell_type": "code",
   "execution_count": 1,
   "metadata": {},
   "outputs": [],
   "source": [
    "# Qui il vostro script"
   ]
  },
  {
   "cell_type": "markdown",
   "metadata": {},
   "source": [
    "Trasformare l'escursione termica in gradi Celsius.\n",
    "\n",
    "N.B. La formula è\n",
    "\n",
    "$$\\big(t_f - 32\\big)\\ \\frac59\\ =\\ t_c$$\n",
    "\n",
    "dove\n",
    "\n",
    "$t_c$ temperatura in $^\\circ\\!$C\n",
    "\n",
    "$t_f$ temperatura in $^\\circ\\!$F "
   ]
  },
  {
   "cell_type": "code",
   "execution_count": null,
   "metadata": {},
   "outputs": [],
   "source": [
    "# Qui il vostro script"
   ]
  },
  {
   "cell_type": "markdown",
   "metadata": {},
   "source": [
    "Trovare l'escursione termica massima registrata. \n",
    "\n",
    "N.B. se `x` è un vettore numerico il massimo si ottiene con `x.max()`."
   ]
  },
  {
   "cell_type": "code",
   "execution_count": null,
   "metadata": {},
   "outputs": [],
   "source": [
    "# Qui il vostro script"
   ]
  },
  {
   "cell_type": "markdown",
   "metadata": {},
   "source": [
    "Costruire un dataframe `df1` con i giorni in cui l'escursione è stata di almeno 14 gradi."
   ]
  },
  {
   "cell_type": "code",
   "execution_count": null,
   "metadata": {},
   "outputs": [],
   "source": [
    "# Qui il vostro script"
   ]
  },
  {
   "cell_type": "markdown",
   "metadata": {},
   "source": [
    "# Istruzioni per la consegna su Moodle\n",
    "\n",
    "* Rinominare il notebook `1o_Cognome.Nome`\n",
    "\n",
    "* Dare il comando `Kernel > Restart & Run All`\n",
    "\n",
    "* Far correre il comando qui sotto (opportunamente redatto)\n",
    "\n",
    "* Caricare su Moodle sia il file `.ipnb` sia `html`."
   ]
  },
  {
   "cell_type": "code",
   "execution_count": null,
   "metadata": {},
   "outputs": [],
   "source": [
    "#!jupyter nbconvert 1o_Cognome.Nome.ipynb --to html\n",
    "#!jupyter nbconvert 1o_Cognome.Nome.ipynb --to pdf"
   ]
  }
 ],
 "metadata": {
  "kernelspec": {
   "display_name": "Python 3",
   "language": "python",
   "name": "python3"
  },
  "language_info": {
   "codemirror_mode": {
    "name": "ipython",
    "version": 3
   },
   "file_extension": ".py",
   "mimetype": "text/x-python",
   "name": "python",
   "nbconvert_exporter": "python",
   "pygments_lexer": "ipython3",
   "version": "3.6.7"
  }
 },
 "nbformat": 4,
 "nbformat_minor": 2
}
