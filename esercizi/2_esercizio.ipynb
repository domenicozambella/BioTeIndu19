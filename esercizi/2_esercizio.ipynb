{
 "cells": [
  {
   "cell_type": "markdown",
   "metadata": {},
   "source": [
    "Leggere la tabella `/dati/iris.csv` in un dataframe.\n",
    "\n",
    "*The **Iris flower data set** is a data set used as an example by the statistician Ronald Fisher in a paper in 1936. It quantifies the morphologic variation of Iris flowers of three related species.*\n",
    "\n",
    "*The data set consists of 50 samples from each of three species of Iris (Iris setosa, Iris virginica and Iris versicolor). Four features were measured from each sample: the length and the width of the sepals and petals, in centimeters.*\n",
    "\n"
   ]
  },
  {
   "cell_type": "code",
   "execution_count": null,
   "metadata": {},
   "outputs": [],
   "source": [
    "# qui il codice"
   ]
  },
  {
   "cell_type": "markdown",
   "metadata": {},
   "source": [
    "Costruire due vettori booleani da usare per filtrare i dati delle specie *setosa* e *virginica*."
   ]
  },
  {
   "cell_type": "code",
   "execution_count": null,
   "metadata": {},
   "outputs": [],
   "source": [
    "# qui il codice"
   ]
  },
  {
   "cell_type": "markdown",
   "metadata": {},
   "source": [
    "Nello stesso grafico plottare lunghezza e largezza per i petali e sepali della specie *setosa*. Si usino due colori diversi e `circle` per plottare i punti."
   ]
  },
  {
   "cell_type": "code",
   "execution_count": null,
   "metadata": {},
   "outputs": [],
   "source": [
    "# qui il codice"
   ]
  },
  {
   "cell_type": "markdown",
   "metadata": {},
   "source": [
    "Si aggiuga al grafico qui sopra i dati per la specie *virginica*. Si usi `triangle` per plottare i punti."
   ]
  },
  {
   "cell_type": "code",
   "execution_count": null,
   "metadata": {
    "scrolled": true
   },
   "outputs": [],
   "source": [
    "# qui il codice"
   ]
  },
  {
   "cell_type": "markdown",
   "metadata": {},
   "source": [
    "# Istruzioni per la consegna su Moodle\n",
    "\n",
    "* Rinominare il notebook `1_Cognome.Nome`\n",
    "\n",
    "* Dare il comando `Kernel > Restart & Run All`\n",
    "\n",
    "* Esportare in formato  `.ipynb` e `.html`  (File > Download as > ... )\n",
    "\n",
    "* Caricare su Moodle i file `.ipynb` e `.html`."
   ]
  }
 ],
 "metadata": {
  "kernelspec": {
   "display_name": "Python 3",
   "language": "python",
   "name": "python3"
  },
  "language_info": {
   "codemirror_mode": {
    "name": "ipython",
    "version": 3
   },
   "file_extension": ".py",
   "mimetype": "text/x-python",
   "name": "python",
   "nbconvert_exporter": "python",
   "pygments_lexer": "ipython3",
   "version": "3.6.7"
  }
 },
 "nbformat": 4,
 "nbformat_minor": 2
}
