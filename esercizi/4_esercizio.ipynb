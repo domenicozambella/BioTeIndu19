{
 "cells": [
  {
   "cell_type": "markdown",
   "metadata": {
    "colab_type": "text",
    "id": "y4KiLHbTNkdG"
   },
   "source": [
    "Questa URL contiene una tabella con valori della concentrazione del substrato e delle corrispondenti velocità di reazione.\n",
    "\n",
    "`https://raw.githubusercontent.com/domenicozambella/BioTeIndu19/master/dati/mm1.csv`\n",
    "\n",
    "Usando la linearizzazione di Hanes\n",
    "\n",
    "$$\n",
    "\\dfrac{s}{v}\n",
    "=\n",
    "\\dfrac{1}{V_\\textrm{max}}\\cdot s\\ +\\ \\dfrac{K_\\textrm{m}}{V_\\textrm{max}}\n",
    "$$\n",
    "\n",
    "calcolare $K_{\\rm m}$ e $V_{\\rm max}$ usano una regressione lineare. \n",
    "\n",
    "Dare una rappresentazione grafica dell'interpolazione."
   ]
  },
  {
   "cell_type": "markdown",
   "metadata": {},
   "source": [
    "# Soluzione\n",
    "\n",
    "La soluzione è stata inserita nel notebook della [lezione 5](../lezioni/5_lezione.ipynb) "
   ]
  },
  {
   "cell_type": "markdown",
   "metadata": {},
   "source": [
    "# Istruzioni per la consegna su Moodle\n",
    "\n",
    "* Rinominare il notebook `4_Cognome.Nome`\n",
    "\n",
    "* Dare il comando `Kernel > Restart & Run All`\n",
    "\n",
    "* Esportare in formato  `.ipynb` e `.html`  (File > Download as > ... )\n",
    "\n",
    "* Caricare su Moodle i file `.ipynb` e `.html`."
   ]
  }
 ],
 "metadata": {
  "colab": {
   "collapsed_sections": [],
   "name": "4_esercizio.ipynb",
   "provenance": [],
   "version": "0.3.2"
  },
  "kernelspec": {
   "display_name": "Python 3",
   "language": "python",
   "name": "python3"
  },
  "language_info": {
   "codemirror_mode": {
    "name": "ipython",
    "version": 3
   },
   "file_extension": ".py",
   "mimetype": "text/x-python",
   "name": "python",
   "nbconvert_exporter": "python",
   "pygments_lexer": "ipython3",
   "version": "3.7.1"
  }
 },
 "nbformat": 4,
 "nbformat_minor": 1
}
