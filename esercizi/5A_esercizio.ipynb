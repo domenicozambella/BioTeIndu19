{
 "cells": [
  {
   "cell_type": "code",
   "execution_count": null,
   "metadata": {},
   "outputs": [],
   "source": [
    "baseURL    = 'https://raw.githubusercontent.com/'\n",
    "user       = 'domenicozambella/'\n",
    "repository = 'BioTeIndu19/'\n",
    "branch     = 'master/'\n",
    "file       = 'dati/mm1.csv'\n",
    "\n",
    "import pandas as pd\n",
    "df = pd.read_csv( baseURL + user + repository + branch + file )"
   ]
  },
  {
   "cell_type": "markdown",
   "metadata": {},
   "source": [
    "Si aggiunga al grafico costruito nella lezione 6A la curva teorica calcolata con la linearizzazione di Lineweaver-Burk per un confronto grafico tra i due risultati."
   ]
  },
  {
   "cell_type": "code",
   "execution_count": null,
   "metadata": {},
   "outputs": [],
   "source": [
    "# Qui il vostro codice."
   ]
  },
  {
   "cell_type": "code",
   "execution_count": null,
   "metadata": {},
   "outputs": [],
   "source": [
    "from bokeh.plotting import figure, show, output_notebook\n",
    "output_notebook()\n",
    "param = dict(width = 700, height = 350,\n",
    "             tools = 'wheel_zoom, reset,pan, box_zoom, crosshair',\n",
    "             x_axis_label = 's', \n",
    "             y_axis_label = 'v',\n",
    "            )"
   ]
  },
  {
   "cell_type": "code",
   "execution_count": null,
   "metadata": {},
   "outputs": [],
   "source": []
  },
  {
   "cell_type": "code",
   "execution_count": null,
   "metadata": {},
   "outputs": [],
   "source": []
  },
  {
   "cell_type": "markdown",
   "metadata": {},
   "source": [
    "# Istruzioni per la consegna su Moodle\n",
    "\n",
    "* Rinominare il notebook `4_Cognome.Nome`\n",
    "\n",
    "* Dare il comando `Kernel > Restart & Run All`\n",
    "\n",
    "* Esportare in formato  `.ipynb` e `.html`  (File > Download as > ... )\n",
    "\n",
    "* Caricare su Moodle i file `.ipynb` e `.html`.\n",
    "\n",
    "# Si facciano correre le seguenti due celle (esperimento)"
   ]
  },
  {
   "cell_type": "code",
   "execution_count": null,
   "metadata": {},
   "outputs": [],
   "source": [
    "%%javascript \n",
    "var kernel = Jupyter.notebook.kernel; \n",
    "var command = [\"notebookPath = \",\n",
    "               \"'\", window.document.body.dataset.notebookPath, \"'\" ].join('')\n",
    "kernel.execute(command)\n",
    "var command = [\"notebookName = \",\n",
    "               \"'\", window.document.body.dataset.notebookName, \"'\" ].join('')\n",
    "kernel.execute(command)"
   ]
  },
  {
   "cell_type": "code",
   "execution_count": null,
   "metadata": {},
   "outputs": [],
   "source": [
    "import os, time\n",
    "time.sleep(5)\n",
    "user = os.environ.get('USER')\n",
    "with open( notebookName, 'r' ) as f: _ = f.read()\n",
    "path = '/home/dzambell/BioTeIndu19/consegne6/'\n",
    "with open( path + 'A' + user + '.ipynb', 'w' ) as f: f.write(_)"
   ]
  }
 ],
 "metadata": {
  "kernelspec": {
   "display_name": "Python 3",
   "language": "python",
   "name": "python3"
  },
  "language_info": {
   "codemirror_mode": {
    "name": "ipython",
    "version": 3
   },
   "file_extension": ".py",
   "mimetype": "text/x-python",
   "name": "python",
   "nbconvert_exporter": "python",
   "pygments_lexer": "ipython3",
   "version": "3.6.7"
  }
 },
 "nbformat": 4,
 "nbformat_minor": 2
}
