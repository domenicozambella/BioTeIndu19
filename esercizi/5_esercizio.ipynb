{
 "cells": [
  {
   "cell_type": "code",
   "execution_count": null,
   "metadata": {},
   "outputs": [],
   "source": [
    "baseURL    = 'https://raw.githubusercontent.com/'\n",
    "user       = 'domenicozambella/'\n",
    "repository = 'BioTeIndu19/'\n",
    "branch     = 'master/'\n",
    "file       = 'dati/mm2.csv'\n",
    "\n",
    "import pandas as pd\n",
    "df = pd.read_csv( baseURL + user + repository + branch + file )"
   ]
  },
  {
   "cell_type": "markdown",
   "metadata": {},
   "source": [
    "Assumiamo che le misure corrispondenti alle concentrazione di inibitore uguale a 100 siano un errore di trascrizione. Si eliminino questi dati dalla tabella. "
   ]
  },
  {
   "cell_type": "code",
   "execution_count": null,
   "metadata": {},
   "outputs": [],
   "source": [
    "# Qui il vostro codice."
   ]
  },
  {
   "cell_type": "markdown",
   "metadata": {},
   "source": [
    "I dati suggeriscono che si tratti di un inibitore misto.\n",
    "\n",
    "La velocità di reazione $v$ dipende dalla concentrazione di substrato $s$ e dell'inibitore $i$ e da 4 parametri $V_\\textrm{max}$, $K_\\textrm{s}$, $K_\\textrm{i}$, $\\alpha K_\\textrm{i}$ secondo la sequente equazione (copiata acriticamente da internet)\n",
    "\n",
    "$$\n",
    "v\\ =\\ \\dfrac{V_\\textrm{max}s}{K_\\textrm{s} \\left(1+\\dfrac{i}{K_\\textrm{i}} \\right)+s \\left(1+\\dfrac{i}{\\alpha K_\\textrm{i}} \\right)}\n",
    "$$\n",
    "\n",
    "Con un procedimento di interpolazione non lineare si stimino i valori di questi 3 parametri.\n",
    "\n",
    "Per semplicità trascrivo in Python la funzione qui sopra (per leggibilità non uso la notazione `lambda`)"
   ]
  },
  {
   "cell_type": "code",
   "execution_count": null,
   "metadata": {},
   "outputs": [],
   "source": [
    "def mminc( x, Vmax, Ks, Ki, aKi):\n",
    "    s,i = x\n",
    "    numeratore   = Vmax * s\n",
    "    denumeratore = Ks * ( 1 + i/Ki) + s * ( 1 + i/aKi )\n",
    "    return numeratore / denumeratore"
   ]
  },
  {
   "cell_type": "markdown",
   "metadata": {},
   "source": [
    "Si faccia attenzione che il primo valore della funzione è letto come coppia di due valori. Questo è necessario perché `curve_fit()` vuole un'unica variabile per i dati indipendenti."
   ]
  },
  {
   "cell_type": "code",
   "execution_count": null,
   "metadata": {},
   "outputs": [],
   "source": [
    "# Qui il vostro codice per calcolare Vmax, Ks, Ki, aKi"
   ]
  },
  {
   "cell_type": "markdown",
   "metadata": {},
   "source": [
    "Aggiungere al seguente grafico le curve teoriche che si ottengono con i valori trovati. (Togliere dal grafico i punti relativi alla concentrazione inibitore 100.)"
   ]
  },
  {
   "cell_type": "code",
   "execution_count": null,
   "metadata": {},
   "outputs": [],
   "source": [
    "from bokeh.plotting import figure, show, output_notebook\n",
    "output_notebook()\n",
    "param = dict(width = 700, height = 350,\n",
    "             tools = 'wheel_zoom, reset,pan, box_zoom, crosshair',\n",
    "             x_axis_label = 's', \n",
    "             y_axis_label = 'v',\n",
    "            )\n",
    "gby = df.groupby('i')\n",
    "p  = figure( **param )\n",
    "palette = [ 'red', 'blue', 'green', 'orange', 'purple']\n",
    "for c, (i, sdf) in zip(palette, gby):\n",
    "    kwarg = dict(color=c, legend='inibitor = {}'.format(i))\n",
    "    p.circle ( sdf['s'],sdf['v'], **kwarg ) \n",
    "p.legend.location = 'bottom_right' \n",
    "p.legend.click_policy = 'hide'\n",
    "show( p )"
   ]
  },
  {
   "cell_type": "code",
   "execution_count": null,
   "metadata": {},
   "outputs": [],
   "source": [
    "%%javascript \n",
    "var kernel = Jupyter.notebook.kernel; \n",
    "var command = [\"notebookPath = \",\n",
    "               \"'\", window.document.body.dataset.notebookPath, \"'\" ].join('')\n",
    "kernel.execute(command)\n",
    "var command = [\"notebookName = \",\n",
    "               \"'\", window.document.body.dataset.notebookName, \"'\" ].join('')\n",
    "kernel.execute(command)"
   ]
  },
  {
   "cell_type": "code",
   "execution_count": null,
   "metadata": {},
   "outputs": [],
   "source": [
    "import os, time\n",
    "time.sleep(5)\n",
    "user = os.environ.get('USER')\n",
    "with open( notebookName, 'r' ) as f: _ = f.read()\n",
    "path = '/home/dzambell/BioTeIndu19/consegne6/'\n",
    "with open( path + user + '.ipynb', 'w' ) as f: f.write(_)"
   ]
  }
 ],
 "metadata": {
  "kernelspec": {
   "display_name": "Python 3",
   "language": "python",
   "name": "python3"
  },
  "language_info": {
   "codemirror_mode": {
    "name": "ipython",
    "version": 3
   },
   "file_extension": ".py",
   "mimetype": "text/x-python",
   "name": "python",
   "nbconvert_exporter": "python",
   "pygments_lexer": "ipython3",
   "version": "3.6.7"
  }
 },
 "nbformat": 4,
 "nbformat_minor": 2
}
