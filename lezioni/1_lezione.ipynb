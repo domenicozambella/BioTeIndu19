{
 "cells": [
  {
   "cell_type": "markdown",
   "metadata": {},
   "source": [
    "# Prima lezione"
   ]
  },
  {
   "cell_type": "code",
   "execution_count": 1,
   "metadata": {},
   "outputs": [
    {
     "data": {
      "text/html": [
       "<style>\n",
       "div.jp-MarkdownOutput {font-family: \"Times New Roman\", Times, serif;   \n",
       "    /* background-color: #eee;  */\n",
       "    /* border-left: 5px solid #00b5b4; */\n",
       "    font-size: 10pt;\n",
       "    line-height: 140%;\n",
       "}\n",
       ".text_cell_render {\n",
       "    font-family: \"Times New Roman\", Times, serif;    \n",
       "    /* background-color: #eee;  */\n",
       "    /* border-left: 5px solid #00b5b4; */\n",
       "    font-size: 10pt;\n",
       "    line-height: 140%;s\n",
       "}\n",
       "\n",
       "h1 {\n",
       "    font-size: x-large  !important;\n",
       "    margin-top: 0ex !important;\n",
       "}\n",
       "\n",
       "h2 {\n",
       "    font-size: larger !important;\n",
       "    margin-top: 0ex !important;\n",
       "    margin-bottom: 0ex !important;\n",
       "    padding-bottom: 0ex !important;\n",
       "}\n",
       "\n",
       "h3 {\n",
       "    font-size: normal !important;\n",
       "    margin-top: 0ex !important;\n",
       "    margin-bottom: 0ex !important;\n",
       "    padding-bottom: 0ex !important;\n",
       "}\n",
       "\n",
       "mark {\n",
       "    background-color: #ffdd00;\n",
       "    border-top-right-radius: 5px;\n",
       "    border-top-left-radius: 5px;\n",
       "    border-bottom-right-radius: 5px;\n",
       "    border-bottom-left-radius: 5px;\n",
       "    padding-top: 0.1ex;\n",
       "    padding-bottom: 0.2ex;\n",
       "    padding-left: 0.7ex;\n",
       "    padding-right: 0.7ex;\n",
       "}\n",
       "\n",
       ".ita {\n",
       "    background-color: #bbddee;\n",
       "}\n",
       "\n",
       ".errore {background-color:#d88;\n",
       "        width:310px;\n",
       "        height:17ex;\n",
       "        display:inline-block;\n",
       "        margin:5px;\n",
       "        padding:8px;\n",
       "}\n",
       "\n",
       ".corretto {background-color:#2d8;\n",
       "        width:310px;\n",
       "        height:17ex;\n",
       "        display:inline-block;\n",
       "        margin:5px;\n",
       "        padding:8px;\n",
       "}\n",
       "\n",
       "n-a {background-color: #ffdddd;}\n",
       "\n",
       "ul, ol {\n",
       "     padding-left: 2ex !important;\n",
       "}\n",
       "ul {\n",
       "     margin-top: 0ex !important;\n",
       "     margin-bottom: 0ex !important;\n",
       "     list-style-type: square !important;\n",
       "}\n",
       "\n",
       "div.warn {    \n",
       "    background-color: #fcf2f2;\n",
       "    border-color: #dFb5b4;\n",
       "    border-left: 5px solid #dfb5b4;\n",
       "    margin-top: 1ex;\n",
       "    padding: 1ex;\n",
       "}\n",
       ".right{\n",
       "    float:right\n",
       "}\n",
       "\n",
       "hr { \n",
       "    display: block;\n",
       "    margin-top: 0.5ex;\n",
       "    margin-bottom: 0.5ex;\n",
       "    margin-left: auto;\n",
       "    margin-right: auto;\n",
       "    border-style: inset;\n",
       "    border-width: 1px;\n",
       "}\n",
       "</style>\n"
      ],
      "text/plain": [
       "<IPython.core.display.HTML object>"
      ]
     },
     "execution_count": 1,
     "metadata": {},
     "output_type": "execute_result"
    }
   ],
   "source": [
    "# THIS CELL loads some html style files (it may be ignored)\n",
    "from IPython.core.display import HTML\n",
    "with open( '../lezioni/style/custom.css', 'r' ) as f: html_style = f.read()\n",
    "HTML( html_style )"
   ]
  },
  {
   "cell_type": "markdown",
   "metadata": {},
   "source": [
    "## Una selezione di linguaggi utili per l'analisi statistica di dati\n",
    "\n",
    "Considereremo e confronteremo i sequenti 3 linguaggi. Ma ci concentreremo principalmente su `Python`.\n",
    "\n",
    "`Python` È un linguaggio con un ampio spettro di applicazioni (la prima vesione stabile è del 1990). Va per la maggiore nell'intelligenza artificiale e nelle data sciences, ma ha anche applicazioni web e UI. Ogni abito usa librerie specifiche.\n",
    "\n",
    "`R` Pensato principalmente per la statistica ed usato principlamente per questo (la prima vesione stabile è del 1990). Per le più elementari funzioni statistiche non è necessario caricare nessumna libreria.\n",
    "\n",
    "`Julia` Molto recente (versione 0.0 nel 2009, versione 1.0 nel 2018). Tra qualche anno potrebbe superare per diffusione le altre due alternative (almeno nell'ambito calcolo scientifico).\n",
    "\n",
    "Questi linguaggi sono *open source*. Altri linguaggi con funzionalità silmile, ma proprietari, sono per esempio `Matlab`, `SAS`, `Excel`."
   ]
  },
  {
   "cell_type": "markdown",
   "metadata": {},
   "source": [
    "## Che cos'è un IDE\n",
    "\n",
    "Un Integrated Development Environment (IDE), o ambiente di sviluppo è del sofware che integra un editore, l'interpreted (o il compiler) di un linguaggio di programmazione, il terminale per output, grafico o numerico del programma.\n",
    "\n",
    "`Jupyter` è, tra l'altro, un IDE. Può essere usato per una miriade di linguaggi di programmazione (si dice che è *language agnositc*). \n",
    "\n",
    "Un IDE molto usato per `R` è `Rstudio`. La versione per desktop è molto avanzata. Esiste anche una versione cloud utilizzabile via web."
   ]
  },
  {
   "cell_type": "markdown",
   "metadata": {},
   "source": [
    "## Che cos'è Git\n",
    "\n",
    "`Git` è un protocollo per *version control system*. Serve per registrare l'evoluzione storica di un progetto. Il problema è molto complesso soprattutto se si tratta un progetto decentralizzato con molti collaboratori (anche migliaia). \n",
    "\n",
    "`Github` è una repositora pubblica in cui si possono archiviare progetti che usano il protocollo `Git`. Chiunque può col comando `git clone`, clonare un progetto archiviato in `Github`, ovvero creare in locale (sul proprio computer) una copia di quel progetto e svilupparlo indipendentemente.\n",
    "\n",
    "Se nel frattempo il progetto su `Github` cambia, i campiamenti si possono integrare nella repositoria locale col comando `git pull`.\n",
    "\n",
    "Se si vuole (e se si ha il permesso) di trascrivere le modifiche fatte in locale sulla repositoria pubblica si usa il comando `git push`.\n",
    "\n",
    "I comandi `git pull` e `git push` funzionano bene finchè non ci sono conflitti che git non riesce a risorvere automaticamente. Altrimenti git si blocca e chiede all'utente di risolvere/rimuovere manualmente i conflitti.\n",
    "\n",
    "La repositoria pubblica che contiene il materiale del corso è [github.com/domenicozambella/BioTeIndu19](https://github.com/domenicozambella/BioTeIndu19)"
   ]
  },
  {
   "cell_type": "markdown",
   "metadata": {},
   "source": [
    "## Utilizzo di librerie in `Python`\n",
    "\n",
    "Esistono 3 modi di utilizzare una libreria in `Python`. Per esempio per poter usare la libreria `pandas` (per trattare tabelle di dati) possiamo scrivere"
   ]
  },
  {
   "cell_type": "code",
   "execution_count": 3,
   "metadata": {},
   "outputs": [],
   "source": [
    "import pandas"
   ]
  },
  {
   "cell_type": "markdown",
   "metadata": {},
   "source": [
    "Però questo obbliga a usare il prefisso `pandas.` ogni volta che si usa una funzione della libreria. Per esempio per usare la funzione  `read_csv` (funzione che legge una tabella si *coma separated values*) dovremmo scrivere `pandas.read_csv`. Questo rischia di rendere poco leggibile il codice. \n",
    "\n",
    "Un'alternativa è importare singole funzioni della libreria. Per esempio se si vuole usare la solo la funzione `read_csv` potremmo scrivere "
   ]
  },
  {
   "cell_type": "code",
   "execution_count": 4,
   "metadata": {},
   "outputs": [],
   "source": [
    "from pandas import read_csv"
   ]
  },
  {
   "cell_type": "markdown",
   "metadata": {},
   "source": [
    "In questo modo possiamo usare `read_csv` senza prefisso. Però questo è scomodo quando dobbiamo importare molte funzioni e quando non siamo ben sicuri di cosa vogliamo/dobbiamo usare.\n",
    "\n",
    "Il problema si risolve usando una *wildcary*. Il seguente comando importa (senza prefisso) *tutte* le funzioni della libreria."
   ]
  },
  {
   "cell_type": "code",
   "execution_count": 5,
   "metadata": {},
   "outputs": [],
   "source": [
    "from pandas import *"
   ]
  },
  {
   "cell_type": "markdown",
   "metadata": {},
   "source": [
    "Ma questa soluzione è deprecata perché se usiamo due librerie che definiscono la stessa funzione non siamo sicuri quale stiamo usando.\n",
    "\n",
    "Un compromesso è usare il comando"
   ]
  },
  {
   "cell_type": "code",
   "execution_count": 4,
   "metadata": {},
   "outputs": [],
   "source": [
    "import pandas as pd"
   ]
  },
  {
   "cell_type": "markdown",
   "metadata": {},
   "source": [
    "In questo modo il prefisso da usare per le funzioni della libreria è `pd.` (più breve). Tipicamente ogni libreria ha un abbreviazione standard"
   ]
  },
  {
   "cell_type": "markdown",
   "metadata": {},
   "source": [
    "## Come si invoca l'help\n",
    "\n",
    "Per avere informazioni sull'uso di una funzione, si prefissa il mome della funzione con un punto di domanda:\n",
    "\n",
    "`￼?pd.read_csv`"
   ]
  },
  {
   "cell_type": "markdown",
   "metadata": {},
   "source": [
    "## Esempio lettura tabella csv\n",
    "\n",
    "I dati della tabella `Cork_Airport.csv` che si trovav nella directory `BioTeIndu19/dati`. Questo notebook è nella directory `BioTeIndu19/lezioni` quindi il percorso relativo per arrivare alla tablella è `../dati/Cork_Airport.csv`.\n",
    "\n",
    "Le prime 24 righe della tabella sono descrizione dei dati quindi dobbiamo saltarle.\n",
    "\n",
    "inoltre vogliamo tenere solo le colonne:\n",
    "\n",
    "`date`    data\n",
    "\n",
    "`maxtp`  temperatura massima\n",
    "\n",
    "`mintp`  temperatura minima\n",
    "\n",
    "`wdsp`   velocità del vento"
   ]
  },
  {
   "cell_type": "code",
   "execution_count": 5,
   "metadata": {},
   "outputs": [
    {
     "data": {
      "text/html": [
       "<div>\n",
       "<style scoped>\n",
       "    .dataframe tbody tr th:only-of-type {\n",
       "        vertical-align: middle;\n",
       "    }\n",
       "\n",
       "    .dataframe tbody tr th {\n",
       "        vertical-align: top;\n",
       "    }\n",
       "\n",
       "    .dataframe thead th {\n",
       "        text-align: right;\n",
       "    }\n",
       "</style>\n",
       "<table border=\"1\" class=\"dataframe\">\n",
       "  <thead>\n",
       "    <tr style=\"text-align: right;\">\n",
       "      <th></th>\n",
       "      <th>date</th>\n",
       "      <th>maxtp</th>\n",
       "      <th>mintp</th>\n",
       "      <th>wdsp</th>\n",
       "    </tr>\n",
       "  </thead>\n",
       "  <tbody>\n",
       "    <tr>\n",
       "      <th>20848</th>\n",
       "      <td>30-jan-2019</td>\n",
       "      <td>3.4</td>\n",
       "      <td>-2.1</td>\n",
       "      <td>5.0</td>\n",
       "    </tr>\n",
       "    <tr>\n",
       "      <th>20849</th>\n",
       "      <td>31-jan-2019</td>\n",
       "      <td>6.4</td>\n",
       "      <td>1.3</td>\n",
       "      <td>10.5</td>\n",
       "    </tr>\n",
       "  </tbody>\n",
       "</table>\n",
       "</div>"
      ],
      "text/plain": [
       "              date  maxtp  mintp  wdsp\n",
       "20848  30-jan-2019    3.4   -2.1   5.0\n",
       "20849  31-jan-2019    6.4    1.3  10.5"
      ]
     },
     "execution_count": 5,
     "metadata": {},
     "output_type": "execute_result"
    }
   ],
   "source": [
    "df = pd.read_csv(\"../dati/Cork_Airport.csv\", skiprows=24, usecols=['date', 'maxtp', 'mintp', 'wdsp'] )\n",
    "df.tail(2) # stampiamo le ultime 2 righe del dataframe"
   ]
  },
  {
   "cell_type": "markdown",
   "metadata": {},
   "source": [
    "La velocità del vento è in nodi ma noi la vogliamo in km/h. \n",
    "\n",
    "Dobbiamo moltiplicare per 1.8552 tutti gli elementi della colonna `wdsp`.\n",
    "\n",
    "Per convenienza, prima creiamo una copia del dataframe `df` che chiameremo `df1`.\n",
    "\n",
    "Il metodo `map` applica una funzione a tutti gli elementi di un dataframe. Dobbiamo restringerci alla colonna `wdsp'."
   ]
  },
  {
   "cell_type": "markdown",
   "metadata": {},
   "source": [
    "Un altro modo è approfittare del fatto che `pandas` interpreta alune semplici operazioni (come addizine e sottrazione) in modo *vettoriale* cioè applicate ad ogni elemento di un vettore (array, serie, ecc.)"
   ]
  },
  {
   "cell_type": "code",
   "execution_count": 7,
   "metadata": {},
   "outputs": [
    {
     "data": {
      "text/html": [
       "<div>\n",
       "<style scoped>\n",
       "    .dataframe tbody tr th:only-of-type {\n",
       "        vertical-align: middle;\n",
       "    }\n",
       "\n",
       "    .dataframe tbody tr th {\n",
       "        vertical-align: top;\n",
       "    }\n",
       "\n",
       "    .dataframe thead th {\n",
       "        text-align: right;\n",
       "    }\n",
       "</style>\n",
       "<table border=\"1\" class=\"dataframe\">\n",
       "  <thead>\n",
       "    <tr style=\"text-align: right;\">\n",
       "      <th></th>\n",
       "      <th>date</th>\n",
       "      <th>maxtp</th>\n",
       "      <th>mintp</th>\n",
       "      <th>wdsp</th>\n",
       "      <th>wdsp_kmh</th>\n",
       "    </tr>\n",
       "  </thead>\n",
       "  <tbody>\n",
       "    <tr>\n",
       "      <th>20848</th>\n",
       "      <td>30-jan-2019</td>\n",
       "      <td>3.4</td>\n",
       "      <td>-2.1</td>\n",
       "      <td>5.0</td>\n",
       "      <td>9.2760</td>\n",
       "    </tr>\n",
       "    <tr>\n",
       "      <th>20849</th>\n",
       "      <td>31-jan-2019</td>\n",
       "      <td>6.4</td>\n",
       "      <td>1.3</td>\n",
       "      <td>10.5</td>\n",
       "      <td>19.4796</td>\n",
       "    </tr>\n",
       "  </tbody>\n",
       "</table>\n",
       "</div>"
      ],
      "text/plain": [
       "              date  maxtp  mintp  wdsp  wdsp_kmh\n",
       "20848  30-jan-2019    3.4   -2.1   5.0    9.2760\n",
       "20849  31-jan-2019    6.4    1.3  10.5   19.4796"
      ]
     },
     "execution_count": 7,
     "metadata": {},
     "output_type": "execute_result"
    }
   ],
   "source": [
    "df1 = df.copy()\n",
    "df1[ 'wdsp_kmh' ] = df1[ 'wdsp' ] * 1.8552\n",
    "df1.tail(2)"
   ]
  },
  {
   "cell_type": "markdown",
   "metadata": {},
   "source": [
    "La seguente è una procedura più generale per ottenere lo stesso risultato"
   ]
  },
  {
   "cell_type": "code",
   "execution_count": 8,
   "metadata": {},
   "outputs": [
    {
     "data": {
      "text/html": [
       "<div>\n",
       "<style scoped>\n",
       "    .dataframe tbody tr th:only-of-type {\n",
       "        vertical-align: middle;\n",
       "    }\n",
       "\n",
       "    .dataframe tbody tr th {\n",
       "        vertical-align: top;\n",
       "    }\n",
       "\n",
       "    .dataframe thead th {\n",
       "        text-align: right;\n",
       "    }\n",
       "</style>\n",
       "<table border=\"1\" class=\"dataframe\">\n",
       "  <thead>\n",
       "    <tr style=\"text-align: right;\">\n",
       "      <th></th>\n",
       "      <th>date</th>\n",
       "      <th>maxtp</th>\n",
       "      <th>mintp</th>\n",
       "      <th>wdsp</th>\n",
       "      <th>wdsp_kmh</th>\n",
       "    </tr>\n",
       "  </thead>\n",
       "  <tbody>\n",
       "    <tr>\n",
       "      <th>20848</th>\n",
       "      <td>30-jan-2019</td>\n",
       "      <td>3.4</td>\n",
       "      <td>-2.1</td>\n",
       "      <td>5.0</td>\n",
       "      <td>9.2760</td>\n",
       "    </tr>\n",
       "    <tr>\n",
       "      <th>20849</th>\n",
       "      <td>31-jan-2019</td>\n",
       "      <td>6.4</td>\n",
       "      <td>1.3</td>\n",
       "      <td>10.5</td>\n",
       "      <td>19.4796</td>\n",
       "    </tr>\n",
       "  </tbody>\n",
       "</table>\n",
       "</div>"
      ],
      "text/plain": [
       "              date  maxtp  mintp  wdsp  wdsp_kmh\n",
       "20848  30-jan-2019    3.4   -2.1   5.0    9.2760\n",
       "20849  31-jan-2019    6.4    1.3  10.5   19.4796"
      ]
     },
     "execution_count": 8,
     "metadata": {},
     "output_type": "execute_result"
    }
   ],
   "source": [
    "df1 = df.copy()\n",
    "df1['wdsp_kmh'] = df1['wdsp'].map(lambda x: x*1.8552)\n",
    "df1.tail(2)"
   ]
  },
  {
   "cell_type": "markdown",
   "metadata": {},
   "source": [
    "Supponiamo di volere dei valori arrotondati alla prima cifra decimale: "
   ]
  },
  {
   "cell_type": "code",
   "execution_count": 9,
   "metadata": {},
   "outputs": [
    {
     "data": {
      "text/html": [
       "<div>\n",
       "<style scoped>\n",
       "    .dataframe tbody tr th:only-of-type {\n",
       "        vertical-align: middle;\n",
       "    }\n",
       "\n",
       "    .dataframe tbody tr th {\n",
       "        vertical-align: top;\n",
       "    }\n",
       "\n",
       "    .dataframe thead th {\n",
       "        text-align: right;\n",
       "    }\n",
       "</style>\n",
       "<table border=\"1\" class=\"dataframe\">\n",
       "  <thead>\n",
       "    <tr style=\"text-align: right;\">\n",
       "      <th></th>\n",
       "      <th>date</th>\n",
       "      <th>maxtp</th>\n",
       "      <th>mintp</th>\n",
       "      <th>wdsp</th>\n",
       "      <th>wdsp_kmh</th>\n",
       "    </tr>\n",
       "  </thead>\n",
       "  <tbody>\n",
       "    <tr>\n",
       "      <th>20848</th>\n",
       "      <td>30-jan-2019</td>\n",
       "      <td>3.4</td>\n",
       "      <td>-2.1</td>\n",
       "      <td>5.0</td>\n",
       "      <td>9.3</td>\n",
       "    </tr>\n",
       "    <tr>\n",
       "      <th>20849</th>\n",
       "      <td>31-jan-2019</td>\n",
       "      <td>6.4</td>\n",
       "      <td>1.3</td>\n",
       "      <td>10.5</td>\n",
       "      <td>19.5</td>\n",
       "    </tr>\n",
       "  </tbody>\n",
       "</table>\n",
       "</div>"
      ],
      "text/plain": [
       "              date  maxtp  mintp  wdsp  wdsp_kmh\n",
       "20848  30-jan-2019    3.4   -2.1   5.0       9.3\n",
       "20849  31-jan-2019    6.4    1.3  10.5      19.5"
      ]
     },
     "execution_count": 9,
     "metadata": {},
     "output_type": "execute_result"
    }
   ],
   "source": [
    "df1 = df.copy()\n",
    "df1['wdsp_kmh'] = df1['wdsp'].map(lambda x: round(x*1.8552, 1))\n",
    "df1.tail(2)"
   ]
  }
 ],
 "metadata": {
  "kernelspec": {
   "display_name": "Python 3",
   "language": "python",
   "name": "python3"
  },
  "language_info": {
   "codemirror_mode": {
    "name": "ipython",
    "version": 3
   },
   "file_extension": ".py",
   "mimetype": "text/x-python",
   "name": "python",
   "nbconvert_exporter": "python",
   "pygments_lexer": "ipython3",
   "version": "3.6.7"
  }
 },
 "nbformat": 4,
 "nbformat_minor": 2
}
