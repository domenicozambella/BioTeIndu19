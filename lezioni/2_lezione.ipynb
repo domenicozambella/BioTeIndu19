{
 "cells": [
  {
   "cell_type": "markdown",
   "metadata": {},
   "source": [
    "# Seconda lezione"
   ]
  },
  {
   "cell_type": "code",
   "execution_count": 2,
   "metadata": {},
   "outputs": [
    {
     "data": {
      "text/html": [
       "<style>\n",
       "div.jp-MarkdownOutput {font-family: \"Times New Roman\", Times, serif;   \n",
       "    /* background-color: #eee;  */\n",
       "    /* border-left: 5px solid #00b5b4; */\n",
       "    font-size: 10pt;\n",
       "    line-height: 140%;\n",
       "}\n",
       ".text_cell_render {\n",
       "    font-family: \"Times New Roman\", Times, serif;    \n",
       "    /* background-color: #eee;  */\n",
       "    /* border-left: 5px solid #00b5b4; */\n",
       "    font-size: 14pt;\n",
       "    line-height: 140%;s\n",
       "}\n",
       "\n",
       "h1 {\n",
       "    font-size: x-large  !important;\n",
       "    margin-top: 0ex !important;\n",
       "}\n",
       "\n",
       "h2 {\n",
       "    font-size: largre !important;\n",
       "    margin-top: 0ex !important;\n",
       "    margin-bottom: 0ex !important;\n",
       "    padding-bottom: 0ex !important;\n",
       "}\n",
       "\n",
       "h3 {\n",
       "    font-size: large !important;\n",
       "    margin-top: 0ex !important;\n",
       "    margin-bottom: 0ex !important;\n",
       "    padding-bottom: 0ex !important;\n",
       "}\n",
       "\n",
       "mark {\n",
       "    background-color: #ffdd00;\n",
       "    border-top-right-radius: 5px;\n",
       "    border-top-left-radius: 5px;\n",
       "    border-bottom-right-radius: 5px;\n",
       "    border-bottom-left-radius: 5px;\n",
       "    padding-top: 0.1ex;\n",
       "    padding-bottom: 0.2ex;\n",
       "    padding-left: 0.7ex;\n",
       "    padding-right: 0.7ex;\n",
       "}\n",
       "\n",
       ".ita {\n",
       "    background-color: #bbddee;\n",
       "}\n",
       "\n",
       ".errore {background-color:#d88;\n",
       "        width:310px;\n",
       "        height:17ex;\n",
       "        display:inline-block;\n",
       "        margin:5px;\n",
       "        padding:8px;\n",
       "}\n",
       "\n",
       ".corretto {background-color:#2d8;\n",
       "        width:310px;\n",
       "        height:17ex;\n",
       "        display:inline-block;\n",
       "        margin:5px;\n",
       "        padding:8px;\n",
       "}\n",
       "\n",
       "n-a {background-color: #ffdddd;}\n",
       "\n",
       "ul, ol {\n",
       "     padding-left: 2ex !important;\n",
       "}\n",
       "ul {\n",
       "     margin-top: 0ex !important;\n",
       "     margin-bottom: 0ex !important;\n",
       "     list-style-type: square !important;\n",
       "}\n",
       "\n",
       "div.warn {    \n",
       "    background-color: #fcf2f2;\n",
       "    border-color: #dFb5b4;\n",
       "    border-left: 5px solid #dfb5b4;\n",
       "    margin-top: 1ex;\n",
       "    padding: 1ex;\n",
       "}\n",
       ".right{\n",
       "    float:right\n",
       "}\n",
       "\n",
       "hr { \n",
       "    display: block;\n",
       "    margin-top: 0.5ex;\n",
       "    margin-bottom: 0.5ex;\n",
       "    margin-left: auto;\n",
       "    margin-right: auto;\n",
       "    border-style: inset;\n",
       "    border-width: 1px;\n",
       "}\n",
       "</style>\n"
      ],
      "text/plain": [
       "<IPython.core.display.HTML object>"
      ]
     },
     "execution_count": 2,
     "metadata": {},
     "output_type": "execute_result"
    }
   ],
   "source": [
    "# This cell loads some html style files (it may be run/ignored/deleted)\n",
    "from IPython.core.display import HTML\n",
    "with open( 'style/custom.css', 'r' ) as f: html_style = f.read()\n",
    "HTML( html_style )"
   ]
  },
  {
   "cell_type": "markdown",
   "metadata": {},
   "source": [
    "Leggiamo la stessa tabella della lezione scorsa:"
   ]
  },
  {
   "cell_type": "code",
   "execution_count": 18,
   "metadata": {},
   "outputs": [
    {
     "data": {
      "text/html": [
       "<div>\n",
       "<style scoped>\n",
       "    .dataframe tbody tr th:only-of-type {\n",
       "        vertical-align: middle;\n",
       "    }\n",
       "\n",
       "    .dataframe tbody tr th {\n",
       "        vertical-align: top;\n",
       "    }\n",
       "\n",
       "    .dataframe thead th {\n",
       "        text-align: right;\n",
       "    }\n",
       "</style>\n",
       "<table border=\"1\" class=\"dataframe\">\n",
       "  <thead>\n",
       "    <tr style=\"text-align: right;\">\n",
       "      <th></th>\n",
       "      <th>date</th>\n",
       "      <th>ind</th>\n",
       "      <th>maxtp</th>\n",
       "      <th>ind.1</th>\n",
       "      <th>mintp</th>\n",
       "      <th>igmin</th>\n",
       "      <th>gmin</th>\n",
       "      <th>ind.2</th>\n",
       "      <th>rain</th>\n",
       "      <th>cbl</th>\n",
       "      <th>...</th>\n",
       "      <th>ind.5</th>\n",
       "      <th>hg</th>\n",
       "      <th>sun</th>\n",
       "      <th>dos</th>\n",
       "      <th>soil</th>\n",
       "      <th>pe</th>\n",
       "      <th>evap</th>\n",
       "      <th>smd_wd</th>\n",
       "      <th>smd_md</th>\n",
       "      <th>smd_pd</th>\n",
       "    </tr>\n",
       "  </thead>\n",
       "  <tbody>\n",
       "    <tr>\n",
       "      <th>20848</th>\n",
       "      <td>30-jan-2019</td>\n",
       "      <td>0</td>\n",
       "      <td>3.4</td>\n",
       "      <td>1</td>\n",
       "      <td>-2.1</td>\n",
       "      <td>1</td>\n",
       "      <td>-2.0</td>\n",
       "      <td>0</td>\n",
       "      <td>1.6</td>\n",
       "      <td>976.5</td>\n",
       "      <td>...</td>\n",
       "      <td>0</td>\n",
       "      <td>13</td>\n",
       "      <td>3.9</td>\n",
       "      <td>3</td>\n",
       "      <td>2.600</td>\n",
       "      <td>0.3</td>\n",
       "      <td>0.4</td>\n",
       "      <td>0.0</td>\n",
       "      <td>-1.3</td>\n",
       "      <td>-10.0</td>\n",
       "    </tr>\n",
       "    <tr>\n",
       "      <th>20849</th>\n",
       "      <td>31-jan-2019</td>\n",
       "      <td>0</td>\n",
       "      <td>6.4</td>\n",
       "      <td>0</td>\n",
       "      <td>1.3</td>\n",
       "      <td>1</td>\n",
       "      <td>-8.8</td>\n",
       "      <td>0</td>\n",
       "      <td>15.0</td>\n",
       "      <td>965.3</td>\n",
       "      <td>...</td>\n",
       "      <td>0</td>\n",
       "      <td>31</td>\n",
       "      <td>2.2</td>\n",
       "      <td>0</td>\n",
       "      <td>3.300</td>\n",
       "      <td>0.6</td>\n",
       "      <td>0.8</td>\n",
       "      <td>0.0</td>\n",
       "      <td>-10.0</td>\n",
       "      <td>-10.0</td>\n",
       "    </tr>\n",
       "  </tbody>\n",
       "</table>\n",
       "<p>2 rows × 25 columns</p>\n",
       "</div>"
      ],
      "text/plain": [
       "              date  ind  maxtp  ind.1  mintp igmin  gmin  ind.2  rain    cbl  \\\n",
       "20848  30-jan-2019    0    3.4      1   -2.1     1  -2.0      0   1.6  976.5   \n",
       "20849  31-jan-2019    0    6.4      0    1.3     1  -8.8      0  15.0  965.3   \n",
       "\n",
       "       ...    ind.5  hg  sun  dos   soil   pe  evap smd_wd  smd_md smd_pd  \n",
       "20848  ...        0  13  3.9    3  2.600  0.3   0.4    0.0    -1.3  -10.0  \n",
       "20849  ...        0  31  2.2    0  3.300  0.6   0.8    0.0   -10.0  -10.0  \n",
       "\n",
       "[2 rows x 25 columns]"
      ]
     },
     "execution_count": 18,
     "metadata": {},
     "output_type": "execute_result"
    }
   ],
   "source": [
    "import pandas as pd\n",
    "df = pd.read_csv('../dati/Cork_Airport.csv', \n",
    "                 skiprows=24,\n",
    "                )\n",
    "df.tail(2) # questo solo per controllo"
   ]
  },
  {
   "cell_type": "markdown",
   "metadata": {},
   "source": [
    "Eliminiamo le colonne che non ci interessano:"
   ]
  },
  {
   "cell_type": "code",
   "execution_count": 19,
   "metadata": {},
   "outputs": [
    {
     "data": {
      "text/html": [
       "<div>\n",
       "<style scoped>\n",
       "    .dataframe tbody tr th:only-of-type {\n",
       "        vertical-align: middle;\n",
       "    }\n",
       "\n",
       "    .dataframe tbody tr th {\n",
       "        vertical-align: top;\n",
       "    }\n",
       "\n",
       "    .dataframe thead th {\n",
       "        text-align: right;\n",
       "    }\n",
       "</style>\n",
       "<table border=\"1\" class=\"dataframe\">\n",
       "  <thead>\n",
       "    <tr style=\"text-align: right;\">\n",
       "      <th></th>\n",
       "      <th>date</th>\n",
       "      <th>maxtp</th>\n",
       "      <th>mintp</th>\n",
       "    </tr>\n",
       "  </thead>\n",
       "  <tbody>\n",
       "    <tr>\n",
       "      <th>0</th>\n",
       "      <td>01-jan-1962</td>\n",
       "      <td>2.8</td>\n",
       "      <td>-2.5</td>\n",
       "    </tr>\n",
       "    <tr>\n",
       "      <th>1</th>\n",
       "      <td>02-jan-1962</td>\n",
       "      <td>2.8</td>\n",
       "      <td>-3.7</td>\n",
       "    </tr>\n",
       "  </tbody>\n",
       "</table>\n",
       "</div>"
      ],
      "text/plain": [
       "          date  maxtp  mintp\n",
       "0  01-jan-1962    2.8   -2.5\n",
       "1  02-jan-1962    2.8   -3.7"
      ]
     },
     "execution_count": 19,
     "metadata": {},
     "output_type": "execute_result"
    }
   ],
   "source": [
    "df = df[ ['date', 'maxtp', 'mintp'] ]\n",
    "df.head(2) # questo solo per controllo"
   ]
  },
  {
   "cell_type": "markdown",
   "metadata": {},
   "source": [
    "## Filtrare righe di un dataframe\n",
    "\n",
    "Osserviamo prima che alcune espressioni danno come risultato i valori booleani `True` e `False`"
   ]
  },
  {
   "cell_type": "code",
   "execution_count": 20,
   "metadata": {},
   "outputs": [
    {
     "data": {
      "text/plain": [
       "False"
      ]
     },
     "execution_count": 20,
     "metadata": {},
     "output_type": "execute_result"
    }
   ],
   "source": [
    "28 > 28"
   ]
  },
  {
   "cell_type": "code",
   "execution_count": 21,
   "metadata": {},
   "outputs": [
    {
     "data": {
      "text/plain": [
       "True"
      ]
     },
     "execution_count": 21,
     "metadata": {},
     "output_type": "execute_result"
    }
   ],
   "source": [
    "28 >= 28"
   ]
  },
  {
   "cell_type": "code",
   "execution_count": 22,
   "metadata": {},
   "outputs": [
    {
     "data": {
      "text/plain": [
       "True"
      ]
     },
     "execution_count": 22,
     "metadata": {},
     "output_type": "execute_result"
    }
   ],
   "source": [
    "28 == 28"
   ]
  },
  {
   "cell_type": "markdown",
   "metadata": {},
   "source": [
    "La stessa cosa succede se confronto due variabili numeriche. "
   ]
  },
  {
   "cell_type": "code",
   "execution_count": 23,
   "metadata": {},
   "outputs": [
    {
     "data": {
      "text/plain": [
       "False"
      ]
     },
     "execution_count": 23,
     "metadata": {},
     "output_type": "execute_result"
    }
   ],
   "source": [
    "x1 = 28\n",
    "x2 = 29\n",
    "x2 <= x1"
   ]
  },
  {
   "cell_type": "markdown",
   "metadata": {},
   "source": [
    "Queste operazioni posso essere vettorializzate, come nei seguenti esempi:"
   ]
  },
  {
   "cell_type": "code",
   "execution_count": 24,
   "metadata": {},
   "outputs": [
    {
     "data": {
      "text/plain": [
       "0    False\n",
       "1    False\n",
       "2    False\n",
       "3     True\n",
       "4     True\n",
       "Name: maxtp, dtype: bool"
      ]
     },
     "execution_count": 24,
     "metadata": {},
     "output_type": "execute_result"
    }
   ],
   "source": [
    "maxtp_maggiore_di_5 = df['maxtp'] > 5\n",
    "maxtp_maggiore_di_5.head()"
   ]
  },
  {
   "cell_type": "markdown",
   "metadata": {},
   "source": [
    "Un vettore boolean può essere usato per filtrare determinate righe di un dataframe. Nel seguente esempio filtriamo i gioni in cui la temperatura massima è (strttamemte) superiore a 28°C.\n",
    "\n",
    "`df[maxtp_maggiore_di_5]`\n",
    "\n",
    "Tra vettori a valori Booliani (vero o falso) possiamo fare le seguenti operazioni\n",
    "\n",
    "`&` congiunzione (un **e**)\n",
    "\n",
    "`|` disgiunzione (un **o** non esclusivo)\n",
    "\n",
    "`~` negazione\n",
    "\n",
    "Per esempio nella seguente cella isoliamo le date in cui le massime sono state superiori a 28°C o le minime sono state inferiori a -8°C."
   ]
  },
  {
   "cell_type": "code",
   "execution_count": 25,
   "metadata": {},
   "outputs": [
    {
     "data": {
      "text/html": [
       "<div>\n",
       "<style scoped>\n",
       "    .dataframe tbody tr th:only-of-type {\n",
       "        vertical-align: middle;\n",
       "    }\n",
       "\n",
       "    .dataframe tbody tr th {\n",
       "        vertical-align: top;\n",
       "    }\n",
       "\n",
       "    .dataframe thead th {\n",
       "        text-align: right;\n",
       "    }\n",
       "</style>\n",
       "<table border=\"1\" class=\"dataframe\">\n",
       "  <thead>\n",
       "    <tr style=\"text-align: right;\">\n",
       "      <th></th>\n",
       "      <th>date</th>\n",
       "      <th>maxtp</th>\n",
       "      <th>mintp</th>\n",
       "    </tr>\n",
       "  </thead>\n",
       "  <tbody>\n",
       "    <tr>\n",
       "      <th>2604</th>\n",
       "      <td>17-feb-1969</td>\n",
       "      <td>2.3</td>\n",
       "      <td>-8.6</td>\n",
       "    </tr>\n",
       "    <tr>\n",
       "      <th>6209</th>\n",
       "      <td>01-jan-1979</td>\n",
       "      <td>-0.4</td>\n",
       "      <td>-8.5</td>\n",
       "    </tr>\n",
       "    <tr>\n",
       "      <th>7863</th>\n",
       "      <td>13-jul-1983</td>\n",
       "      <td>28.4</td>\n",
       "      <td>16.9</td>\n",
       "    </tr>\n",
       "    <tr>\n",
       "      <th>7864</th>\n",
       "      <td>14-jul-1983</td>\n",
       "      <td>28.7</td>\n",
       "      <td>19.0</td>\n",
       "    </tr>\n",
       "    <tr>\n",
       "      <th>10059</th>\n",
       "      <td>17-jul-1989</td>\n",
       "      <td>28.1</td>\n",
       "      <td>15.0</td>\n",
       "    </tr>\n",
       "  </tbody>\n",
       "</table>\n",
       "</div>"
      ],
      "text/plain": [
       "              date  maxtp  mintp\n",
       "2604   17-feb-1969    2.3   -8.6\n",
       "6209   01-jan-1979   -0.4   -8.5\n",
       "7863   13-jul-1983   28.4   16.9\n",
       "7864   14-jul-1983   28.7   19.0\n",
       "10059  17-jul-1989   28.1   15.0"
      ]
     },
     "execution_count": 25,
     "metadata": {},
     "output_type": "execute_result"
    }
   ],
   "source": [
    "maxtp_maggiore_di_28 = df['maxtp'] > 28\n",
    "mintp_minore_di_neg8 = df['mintp'] < -8\n",
    "df[ maxtp_maggiore_di_28 | mintp_minore_di_neg8 ]"
   ]
  },
  {
   "cell_type": "markdown",
   "metadata": {},
   "source": [
    "Un altro metodo per ottenere lo stesso risultato usa la funzione `map()`.  (È più prolisso ma anche più flessibile)."
   ]
  },
  {
   "cell_type": "code",
   "execution_count": 30,
   "metadata": {},
   "outputs": [
    {
     "data": {
      "text/html": [
       "<div>\n",
       "<style scoped>\n",
       "    .dataframe tbody tr th:only-of-type {\n",
       "        vertical-align: middle;\n",
       "    }\n",
       "\n",
       "    .dataframe tbody tr th {\n",
       "        vertical-align: top;\n",
       "    }\n",
       "\n",
       "    .dataframe thead th {\n",
       "        text-align: right;\n",
       "    }\n",
       "</style>\n",
       "<table border=\"1\" class=\"dataframe\">\n",
       "  <thead>\n",
       "    <tr style=\"text-align: right;\">\n",
       "      <th></th>\n",
       "      <th>date</th>\n",
       "      <th>maxtp</th>\n",
       "      <th>mintp</th>\n",
       "    </tr>\n",
       "  </thead>\n",
       "  <tbody>\n",
       "    <tr>\n",
       "      <th>2604</th>\n",
       "      <td>17-feb-1969</td>\n",
       "      <td>2.3</td>\n",
       "      <td>-8.6</td>\n",
       "    </tr>\n",
       "    <tr>\n",
       "      <th>6209</th>\n",
       "      <td>01-jan-1979</td>\n",
       "      <td>-0.4</td>\n",
       "      <td>-8.5</td>\n",
       "    </tr>\n",
       "    <tr>\n",
       "      <th>7863</th>\n",
       "      <td>13-jul-1983</td>\n",
       "      <td>28.4</td>\n",
       "      <td>16.9</td>\n",
       "    </tr>\n",
       "    <tr>\n",
       "      <th>7864</th>\n",
       "      <td>14-jul-1983</td>\n",
       "      <td>28.7</td>\n",
       "      <td>19.0</td>\n",
       "    </tr>\n",
       "    <tr>\n",
       "      <th>10059</th>\n",
       "      <td>17-jul-1989</td>\n",
       "      <td>28.1</td>\n",
       "      <td>15.0</td>\n",
       "    </tr>\n",
       "  </tbody>\n",
       "</table>\n",
       "</div>"
      ],
      "text/plain": [
       "              date  maxtp  mintp\n",
       "2604   17-feb-1969    2.3   -8.6\n",
       "6209   01-jan-1979   -0.4   -8.5\n",
       "7863   13-jul-1983   28.4   16.9\n",
       "7864   14-jul-1983   28.7   19.0\n",
       "10059  17-jul-1989   28.1   15.0"
      ]
     },
     "execution_count": 30,
     "metadata": {},
     "output_type": "execute_result"
    }
   ],
   "source": [
    "maxtp_maggiore_di_28 = df['maxtp'].map(lambda x: x > 28)\n",
    "mintp_minore_di_neg8 = df['mintp'].map(lambda x: x < -8)\n",
    "df[ maxtp_maggiore_di_28 | mintp_minore_di_neg8 ]"
   ]
  },
  {
   "cell_type": "markdown",
   "metadata": {},
   "source": [
    "Col metodo `query()` si ottiene la stessa cosa in modo molto conciso, ma la sintassi è in qualche caso oscura. Si noti che qui dobbiamo usare `or`, `and` e `not` come operatori booleani."
   ]
  },
  {
   "cell_type": "code",
   "execution_count": 31,
   "metadata": {},
   "outputs": [
    {
     "data": {
      "text/html": [
       "<div>\n",
       "<style scoped>\n",
       "    .dataframe tbody tr th:only-of-type {\n",
       "        vertical-align: middle;\n",
       "    }\n",
       "\n",
       "    .dataframe tbody tr th {\n",
       "        vertical-align: top;\n",
       "    }\n",
       "\n",
       "    .dataframe thead th {\n",
       "        text-align: right;\n",
       "    }\n",
       "</style>\n",
       "<table border=\"1\" class=\"dataframe\">\n",
       "  <thead>\n",
       "    <tr style=\"text-align: right;\">\n",
       "      <th></th>\n",
       "      <th>date</th>\n",
       "      <th>maxtp</th>\n",
       "      <th>mintp</th>\n",
       "    </tr>\n",
       "  </thead>\n",
       "  <tbody>\n",
       "    <tr>\n",
       "      <th>2604</th>\n",
       "      <td>17-feb-1969</td>\n",
       "      <td>2.3</td>\n",
       "      <td>-8.6</td>\n",
       "    </tr>\n",
       "    <tr>\n",
       "      <th>6209</th>\n",
       "      <td>01-jan-1979</td>\n",
       "      <td>-0.4</td>\n",
       "      <td>-8.5</td>\n",
       "    </tr>\n",
       "    <tr>\n",
       "      <th>7863</th>\n",
       "      <td>13-jul-1983</td>\n",
       "      <td>28.4</td>\n",
       "      <td>16.9</td>\n",
       "    </tr>\n",
       "    <tr>\n",
       "      <th>7864</th>\n",
       "      <td>14-jul-1983</td>\n",
       "      <td>28.7</td>\n",
       "      <td>19.0</td>\n",
       "    </tr>\n",
       "    <tr>\n",
       "      <th>10059</th>\n",
       "      <td>17-jul-1989</td>\n",
       "      <td>28.1</td>\n",
       "      <td>15.0</td>\n",
       "    </tr>\n",
       "  </tbody>\n",
       "</table>\n",
       "</div>"
      ],
      "text/plain": [
       "              date  maxtp  mintp\n",
       "2604   17-feb-1969    2.3   -8.6\n",
       "6209   01-jan-1979   -0.4   -8.5\n",
       "7863   13-jul-1983   28.4   16.9\n",
       "7864   14-jul-1983   28.7   19.0\n",
       "10059  17-jul-1989   28.1   15.0"
      ]
     },
     "execution_count": 31,
     "metadata": {},
     "output_type": "execute_result"
    }
   ],
   "source": [
    "df.query('mintp < -8 or maxtp > 28')"
   ]
  },
  {
   "cell_type": "markdown",
   "metadata": {},
   "source": [
    "Se nel caso precedente vogliamo sostituire -8 e 28 con delle variabili, il codice è un po involuto:"
   ]
  },
  {
   "cell_type": "code",
   "execution_count": 32,
   "metadata": {},
   "outputs": [
    {
     "data": {
      "text/html": [
       "<div>\n",
       "<style scoped>\n",
       "    .dataframe tbody tr th:only-of-type {\n",
       "        vertical-align: middle;\n",
       "    }\n",
       "\n",
       "    .dataframe tbody tr th {\n",
       "        vertical-align: top;\n",
       "    }\n",
       "\n",
       "    .dataframe thead th {\n",
       "        text-align: right;\n",
       "    }\n",
       "</style>\n",
       "<table border=\"1\" class=\"dataframe\">\n",
       "  <thead>\n",
       "    <tr style=\"text-align: right;\">\n",
       "      <th></th>\n",
       "      <th>date</th>\n",
       "      <th>maxtp</th>\n",
       "      <th>mintp</th>\n",
       "    </tr>\n",
       "  </thead>\n",
       "  <tbody>\n",
       "    <tr>\n",
       "      <th>2604</th>\n",
       "      <td>17-feb-1969</td>\n",
       "      <td>2.3</td>\n",
       "      <td>-8.6</td>\n",
       "    </tr>\n",
       "    <tr>\n",
       "      <th>6209</th>\n",
       "      <td>01-jan-1979</td>\n",
       "      <td>-0.4</td>\n",
       "      <td>-8.5</td>\n",
       "    </tr>\n",
       "    <tr>\n",
       "      <th>7863</th>\n",
       "      <td>13-jul-1983</td>\n",
       "      <td>28.4</td>\n",
       "      <td>16.9</td>\n",
       "    </tr>\n",
       "    <tr>\n",
       "      <th>7864</th>\n",
       "      <td>14-jul-1983</td>\n",
       "      <td>28.7</td>\n",
       "      <td>19.0</td>\n",
       "    </tr>\n",
       "    <tr>\n",
       "      <th>10059</th>\n",
       "      <td>17-jul-1989</td>\n",
       "      <td>28.1</td>\n",
       "      <td>15.0</td>\n",
       "    </tr>\n",
       "  </tbody>\n",
       "</table>\n",
       "</div>"
      ],
      "text/plain": [
       "              date  maxtp  mintp\n",
       "2604   17-feb-1969    2.3   -8.6\n",
       "6209   01-jan-1979   -0.4   -8.5\n",
       "7863   13-jul-1983   28.4   16.9\n",
       "7864   14-jul-1983   28.7   19.0\n",
       "10059  17-jul-1989   28.1   15.0"
      ]
     },
     "execution_count": 32,
     "metadata": {},
     "output_type": "execute_result"
    }
   ],
   "source": [
    "t1 = -8\n",
    "t2 = 28\n",
    "df.query('mintp < @t1 or maxtp > @t2')"
   ]
  },
  {
   "cell_type": "code",
   "execution_count": null,
   "metadata": {},
   "outputs": [],
   "source": []
  }
 ],
 "metadata": {
  "kernelspec": {
   "display_name": "Python 3",
   "language": "python",
   "name": "python3"
  },
  "language_info": {
   "codemirror_mode": {
    "name": "ipython",
    "version": 3
   },
   "file_extension": ".py",
   "mimetype": "text/x-python",
   "name": "python",
   "nbconvert_exporter": "python",
   "pygments_lexer": "ipython3",
   "version": "3.6.7"
  }
 },
 "nbformat": 4,
 "nbformat_minor": 2
}
