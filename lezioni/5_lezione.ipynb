{
 "cells": [
  {
   "cell_type": "markdown",
   "metadata": {
    "colab_type": "text",
    "id": "tWKPYsVLihQB"
   },
   "source": [
    "# Quinta lezione"
   ]
  },
  {
   "cell_type": "markdown",
   "metadata": {
    "colab_type": "text",
    "id": "l1QyA9_4ihQY"
   },
   "source": [
    "I notebook di jupyter possono essere usati per pubblicazioni o per ausilio a pubblicazioni (cioè come integrazione a pubblicazioni in formato tradizionale).\n",
    "\n",
    "Proviamo a produrre un ideale rapporto sull'analisi di alcune misure.\n",
    "\n",
    "*  Conterrà spegazione del contesto teorico (qui sotto un esempio).\n",
    "\n",
    "*  Conterrà i dati e la procedura usata per elaborarli.\n",
    "\n",
    "È realistico immaginare che il rapporto venga pubblicato in formato `.html`. Questo permette di includere grafica interattiva ma NON offre la possibilità di interagire dinamicamente con il documento (modificando il codice o i parametri). Mettere a disposizione il sorgente in formato `.ipynb` è auspicabile. Ma potrebbe non essere sufficiente per chi vuole fruire immediatamente del codice. (Salvare il file in un ambiente dove si ha accesso ad un installazione di Jupyter potrebbe essere \"a click too far\" per qualche lettore.)\n",
    "\n",
    "Esistono un paio di possibilità.<br><br>\n",
    "\n",
    "*   [Binder](https://mybinder.org/) è un servizio offerto da Github per interagire con notebooks. Permette di creare un  [link](https://mybinder.org/v2/gh/domenicozambella/BioTeIndu19/master?filepath=lezioni%2F5_lezione.ipynb) da condividere. Spesso nei documenti il link viene incluso con il suo caratteristico bottone \n",
    "[![Binder](https://mybinder.org/badge_logo.svg)](https://mybinder.org/v2/gh/domenicozambella/BioTeIndu19/master?filepath=lezioni%2F5_lezione.ipynb) \n",
    "Ha due princpali difetti. Lento a caricare (perché crea una macchina virtuale) e si disattiva dopo un breve periodo di inattività.<br><br>\n",
    "\n",
    "*   [Google Colaboratory](https://colab.research.google.com/notebooks/welcome.ipynb) (anche detto Colab) è un servizio analogo offerto da Google. \n",
    "[![Open In Colab](https://colab.research.google.com/assets/colab-badge.svg)](https://colab.research.google.com/github/domenicozambella/BioTeIndu19/blob/master/lezioni/5_lezione.ipynb)\n",
    "Ha come princiali difetti l'interfaccia non standard e il fatto che funziona solo con Python notebooks (niente R, Julia, ecc.).\n",
    "\n",
    "<br><br>"
   ]
  },
  {
   "cell_type": "markdown",
   "metadata": {
    "colab_type": "text",
    "id": "C20b6JoDihQb"
   },
   "source": [
    "Esempio di introduzione teorica:\n",
    "\n",
    "<hr><br>\n",
    "\n",
    "# Theoretical backgound: the Michaelis-Menten equation\n",
    "\n",
    "\n",
    "Mathematical models of enzymes can take many forms, but the best known is the [Michaelis-Menten equation](https://en.wikipedia.org/wiki/Michaelis–Menten_kinetics) which considers the the mechanism of an irreversible enzyme $E$ producing product $P$ from substrate $S$:\n",
    "\n",
    "$$\n",
    "S + E \n",
    "\\overset{k_f}{\\underset{k_r}{\\rightleftharpoons}} \n",
    "SE \n",
    "\\overset{k_\\text{cat}}{\\longrightarrow} \n",
    "S + P \n",
    "\\ \\implies\\ \n",
    "v = \\frac{\\mathrm{d}p}{\\mathrm{d}t} = \\frac{V_\\text{max}\\cdot s}{K_\\text{m} + s}\n",
    "$$\n",
    "\n",
    "- $s$ is the *concentration of substrate $S$*\n",
    "- $p$ is the *concentration of product $P$*\n",
    "- $k_f$ is called the *association constant*\n",
    "- $k_r$ is called the *disassociation constant*\n",
    "- $k_\\text{cat}$ is called the *turnover number*\n",
    "- $K_\\text{m} = (k_\\text{cat} + k_{r})\\;/\\;k_f$ is called the *Michaelis constant*\n",
    "- $e_0$ is the *initial concentration of enzyme*\n",
    "- $V_\\text{max} = k_\\text{cat}e_0$ is the *maximum catalytic rate*\n"
   ]
  },
  {
   "cell_type": "markdown",
   "metadata": {
    "colab_type": "text",
    "id": "7EyKfhG9P6fp"
   },
   "source": [
    "<hr><br>\n",
    "\n",
    "# Lettura ed esplorazione dei dati\n",
    "\n",
    "I dati li leggiamo direttamente dalla repositoria su github, in modo da rendere il notebook più facilmente esportabile.\n",
    "\n",
    "La tabella contiene la velocità di reazione `v` per diverse concentrazioni di substrato `s`."
   ]
  },
  {
   "cell_type": "code",
   "execution_count": 20,
   "metadata": {
    "colab": {
     "base_uri": "https://localhost:8080/",
     "height": 443
    },
    "colab_type": "code",
    "executionInfo": {
     "elapsed": 6101,
     "status": "ok",
     "timestamp": 1554630080638,
     "user": {
      "displayName": "Domenico Zambella",
      "photoUrl": "https://lh3.googleusercontent.com/-BraGnYy55AA/AAAAAAAAAAI/AAAAAAAAAAA/ApUkkU1ZK3k/s64/photo.jpg",
      "userId": "03818394449923864400"
     },
     "user_tz": -120
    },
    "id": "444RfsqhihQf",
    "outputId": "64eabe28-c253-4f28-d0e2-438103f9dfdf"
   },
   "outputs": [
    {
     "data": {
      "text/html": [
       "<div>\n",
       "<style scoped>\n",
       "    .dataframe tbody tr th:only-of-type {\n",
       "        vertical-align: middle;\n",
       "    }\n",
       "\n",
       "    .dataframe tbody tr th {\n",
       "        vertical-align: top;\n",
       "    }\n",
       "\n",
       "    .dataframe thead th {\n",
       "        text-align: right;\n",
       "    }\n",
       "</style>\n",
       "<table border=\"1\" class=\"dataframe\">\n",
       "  <thead>\n",
       "    <tr style=\"text-align: right;\">\n",
       "      <th></th>\n",
       "      <th>s</th>\n",
       "      <th>v</th>\n",
       "    </tr>\n",
       "  </thead>\n",
       "  <tbody>\n",
       "    <tr>\n",
       "      <th>0</th>\n",
       "      <td>0.5</td>\n",
       "      <td>0.6</td>\n",
       "    </tr>\n",
       "    <tr>\n",
       "      <th>1</th>\n",
       "      <td>1.0</td>\n",
       "      <td>1.1</td>\n",
       "    </tr>\n",
       "    <tr>\n",
       "      <th>2</th>\n",
       "      <td>2.5</td>\n",
       "      <td>2.1</td>\n",
       "    </tr>\n",
       "    <tr>\n",
       "      <th>3</th>\n",
       "      <td>3.5</td>\n",
       "      <td>2.3</td>\n",
       "    </tr>\n",
       "    <tr>\n",
       "      <th>4</th>\n",
       "      <td>5.0</td>\n",
       "      <td>3.7</td>\n",
       "    </tr>\n",
       "    <tr>\n",
       "      <th>5</th>\n",
       "      <td>7.5</td>\n",
       "      <td>3.0</td>\n",
       "    </tr>\n",
       "    <tr>\n",
       "      <th>6</th>\n",
       "      <td>10.0</td>\n",
       "      <td>4.3</td>\n",
       "    </tr>\n",
       "    <tr>\n",
       "      <th>7</th>\n",
       "      <td>15.0</td>\n",
       "      <td>4.8</td>\n",
       "    </tr>\n",
       "    <tr>\n",
       "      <th>8</th>\n",
       "      <td>25.0</td>\n",
       "      <td>5.3</td>\n",
       "    </tr>\n",
       "    <tr>\n",
       "      <th>9</th>\n",
       "      <td>50.0</td>\n",
       "      <td>6.0</td>\n",
       "    </tr>\n",
       "    <tr>\n",
       "      <th>10</th>\n",
       "      <td>70.0</td>\n",
       "      <td>5.1</td>\n",
       "    </tr>\n",
       "    <tr>\n",
       "      <th>11</th>\n",
       "      <td>75.0</td>\n",
       "      <td>5.7</td>\n",
       "    </tr>\n",
       "    <tr>\n",
       "      <th>12</th>\n",
       "      <td>100.0</td>\n",
       "      <td>5.8</td>\n",
       "    </tr>\n",
       "  </tbody>\n",
       "</table>\n",
       "</div>"
      ],
      "text/plain": [
       "        s    v\n",
       "0     0.5  0.6\n",
       "1     1.0  1.1\n",
       "2     2.5  2.1\n",
       "3     3.5  2.3\n",
       "4     5.0  3.7\n",
       "5     7.5  3.0\n",
       "6    10.0  4.3\n",
       "7    15.0  4.8\n",
       "8    25.0  5.3\n",
       "9    50.0  6.0\n",
       "10   70.0  5.1\n",
       "11   75.0  5.7\n",
       "12  100.0  5.8"
      ]
     },
     "execution_count": 20,
     "metadata": {},
     "output_type": "execute_result"
    }
   ],
   "source": [
    "import pandas as pd\n",
    "baseURL = 'https://raw.githubusercontent.com/domenicozambella/BioTeIndu19/master/'\n",
    "df = pd.read_csv( baseURL + 'dati/mm1.csv')\n",
    "df"
   ]
  },
  {
   "cell_type": "markdown",
   "metadata": {},
   "source": [
    "In alternativa, tabelle così piccole possono anche essere inserite manualmente con la seguente sintassi."
   ]
  },
  {
   "cell_type": "code",
   "execution_count": 21,
   "metadata": {},
   "outputs": [],
   "source": [
    "data = dict(s = [0.5,1,2.5,3.5,5,7.5,10,15,25,50,70,75,100],\n",
    "            v = [0.6,1.1,2.1,2.3,3.7,3.,4.3,4.8,5.3,6.0,5.1,5.7,5.8],\n",
    "           )\n",
    "df = pd.DataFrame(data)"
   ]
  },
  {
   "cell_type": "markdown",
   "metadata": {
    "colab_type": "text",
    "id": "GyAW1I0cihQp"
   },
   "source": [
    "Per prima cosa importiamo importiamo il pacchetto grafico. Salviamo in una variabile, `param`, alcuni parametri grafici che useremo in tutte le figure sottostanti (si ignori per il momento la sintassi del comando)."
   ]
  },
  {
   "cell_type": "code",
   "execution_count": 22,
   "metadata": {
    "colab": {},
    "colab_type": "code",
    "id": "VFMUdhNsihQr"
   },
   "outputs": [
    {
     "data": {
      "text/html": [
       "\n",
       "    <div class=\"bk-root\">\n",
       "        <a href=\"https://bokeh.pydata.org\" target=\"_blank\" class=\"bk-logo bk-logo-small bk-logo-notebook\"></a>\n",
       "        <span id=\"1750\">Loading BokehJS ...</span>\n",
       "    </div>"
      ]
     },
     "metadata": {},
     "output_type": "display_data"
    },
    {
     "data": {
      "application/javascript": [
       "\n",
       "(function(root) {\n",
       "  function now() {\n",
       "    return new Date();\n",
       "  }\n",
       "\n",
       "  var force = true;\n",
       "\n",
       "  if (typeof root._bokeh_onload_callbacks === \"undefined\" || force === true) {\n",
       "    root._bokeh_onload_callbacks = [];\n",
       "    root._bokeh_is_loading = undefined;\n",
       "  }\n",
       "\n",
       "  var JS_MIME_TYPE = 'application/javascript';\n",
       "  var HTML_MIME_TYPE = 'text/html';\n",
       "  var EXEC_MIME_TYPE = 'application/vnd.bokehjs_exec.v0+json';\n",
       "  var CLASS_NAME = 'output_bokeh rendered_html';\n",
       "\n",
       "  /**\n",
       "   * Render data to the DOM node\n",
       "   */\n",
       "  function render(props, node) {\n",
       "    var script = document.createElement(\"script\");\n",
       "    node.appendChild(script);\n",
       "  }\n",
       "\n",
       "  /**\n",
       "   * Handle when an output is cleared or removed\n",
       "   */\n",
       "  function handleClearOutput(event, handle) {\n",
       "    var cell = handle.cell;\n",
       "\n",
       "    var id = cell.output_area._bokeh_element_id;\n",
       "    var server_id = cell.output_area._bokeh_server_id;\n",
       "    // Clean up Bokeh references\n",
       "    if (id != null && id in Bokeh.index) {\n",
       "      Bokeh.index[id].model.document.clear();\n",
       "      delete Bokeh.index[id];\n",
       "    }\n",
       "\n",
       "    if (server_id !== undefined) {\n",
       "      // Clean up Bokeh references\n",
       "      var cmd = \"from bokeh.io.state import curstate; print(curstate().uuid_to_server['\" + server_id + \"'].get_sessions()[0].document.roots[0]._id)\";\n",
       "      cell.notebook.kernel.execute(cmd, {\n",
       "        iopub: {\n",
       "          output: function(msg) {\n",
       "            var id = msg.content.text.trim();\n",
       "            if (id in Bokeh.index) {\n",
       "              Bokeh.index[id].model.document.clear();\n",
       "              delete Bokeh.index[id];\n",
       "            }\n",
       "          }\n",
       "        }\n",
       "      });\n",
       "      // Destroy server and session\n",
       "      var cmd = \"import bokeh.io.notebook as ion; ion.destroy_server('\" + server_id + \"')\";\n",
       "      cell.notebook.kernel.execute(cmd);\n",
       "    }\n",
       "  }\n",
       "\n",
       "  /**\n",
       "   * Handle when a new output is added\n",
       "   */\n",
       "  function handleAddOutput(event, handle) {\n",
       "    var output_area = handle.output_area;\n",
       "    var output = handle.output;\n",
       "\n",
       "    // limit handleAddOutput to display_data with EXEC_MIME_TYPE content only\n",
       "    if ((output.output_type != \"display_data\") || (!output.data.hasOwnProperty(EXEC_MIME_TYPE))) {\n",
       "      return\n",
       "    }\n",
       "\n",
       "    var toinsert = output_area.element.find(\".\" + CLASS_NAME.split(' ')[0]);\n",
       "\n",
       "    if (output.metadata[EXEC_MIME_TYPE][\"id\"] !== undefined) {\n",
       "      toinsert[toinsert.length - 1].firstChild.textContent = output.data[JS_MIME_TYPE];\n",
       "      // store reference to embed id on output_area\n",
       "      output_area._bokeh_element_id = output.metadata[EXEC_MIME_TYPE][\"id\"];\n",
       "    }\n",
       "    if (output.metadata[EXEC_MIME_TYPE][\"server_id\"] !== undefined) {\n",
       "      var bk_div = document.createElement(\"div\");\n",
       "      bk_div.innerHTML = output.data[HTML_MIME_TYPE];\n",
       "      var script_attrs = bk_div.children[0].attributes;\n",
       "      for (var i = 0; i < script_attrs.length; i++) {\n",
       "        toinsert[toinsert.length - 1].firstChild.setAttribute(script_attrs[i].name, script_attrs[i].value);\n",
       "      }\n",
       "      // store reference to server id on output_area\n",
       "      output_area._bokeh_server_id = output.metadata[EXEC_MIME_TYPE][\"server_id\"];\n",
       "    }\n",
       "  }\n",
       "\n",
       "  function register_renderer(events, OutputArea) {\n",
       "\n",
       "    function append_mime(data, metadata, element) {\n",
       "      // create a DOM node to render to\n",
       "      var toinsert = this.create_output_subarea(\n",
       "        metadata,\n",
       "        CLASS_NAME,\n",
       "        EXEC_MIME_TYPE\n",
       "      );\n",
       "      this.keyboard_manager.register_events(toinsert);\n",
       "      // Render to node\n",
       "      var props = {data: data, metadata: metadata[EXEC_MIME_TYPE]};\n",
       "      render(props, toinsert[toinsert.length - 1]);\n",
       "      element.append(toinsert);\n",
       "      return toinsert\n",
       "    }\n",
       "\n",
       "    /* Handle when an output is cleared or removed */\n",
       "    events.on('clear_output.CodeCell', handleClearOutput);\n",
       "    events.on('delete.Cell', handleClearOutput);\n",
       "\n",
       "    /* Handle when a new output is added */\n",
       "    events.on('output_added.OutputArea', handleAddOutput);\n",
       "\n",
       "    /**\n",
       "     * Register the mime type and append_mime function with output_area\n",
       "     */\n",
       "    OutputArea.prototype.register_mime_type(EXEC_MIME_TYPE, append_mime, {\n",
       "      /* Is output safe? */\n",
       "      safe: true,\n",
       "      /* Index of renderer in `output_area.display_order` */\n",
       "      index: 0\n",
       "    });\n",
       "  }\n",
       "\n",
       "  // register the mime type if in Jupyter Notebook environment and previously unregistered\n",
       "  if (root.Jupyter !== undefined) {\n",
       "    var events = require('base/js/events');\n",
       "    var OutputArea = require('notebook/js/outputarea').OutputArea;\n",
       "\n",
       "    if (OutputArea.prototype.mime_types().indexOf(EXEC_MIME_TYPE) == -1) {\n",
       "      register_renderer(events, OutputArea);\n",
       "    }\n",
       "  }\n",
       "\n",
       "  \n",
       "  if (typeof (root._bokeh_timeout) === \"undefined\" || force === true) {\n",
       "    root._bokeh_timeout = Date.now() + 5000;\n",
       "    root._bokeh_failed_load = false;\n",
       "  }\n",
       "\n",
       "  var NB_LOAD_WARNING = {'data': {'text/html':\n",
       "     \"<div style='background-color: #fdd'>\\n\"+\n",
       "     \"<p>\\n\"+\n",
       "     \"BokehJS does not appear to have successfully loaded. If loading BokehJS from CDN, this \\n\"+\n",
       "     \"may be due to a slow or bad network connection. Possible fixes:\\n\"+\n",
       "     \"</p>\\n\"+\n",
       "     \"<ul>\\n\"+\n",
       "     \"<li>re-rerun `output_notebook()` to attempt to load from CDN again, or</li>\\n\"+\n",
       "     \"<li>use INLINE resources instead, as so:</li>\\n\"+\n",
       "     \"</ul>\\n\"+\n",
       "     \"<code>\\n\"+\n",
       "     \"from bokeh.resources import INLINE\\n\"+\n",
       "     \"output_notebook(resources=INLINE)\\n\"+\n",
       "     \"</code>\\n\"+\n",
       "     \"</div>\"}};\n",
       "\n",
       "  function display_loaded() {\n",
       "    var el = document.getElementById(\"1750\");\n",
       "    if (el != null) {\n",
       "      el.textContent = \"BokehJS is loading...\";\n",
       "    }\n",
       "    if (root.Bokeh !== undefined) {\n",
       "      if (el != null) {\n",
       "        el.textContent = \"BokehJS \" + root.Bokeh.version + \" successfully loaded.\";\n",
       "      }\n",
       "    } else if (Date.now() < root._bokeh_timeout) {\n",
       "      setTimeout(display_loaded, 100)\n",
       "    }\n",
       "  }\n",
       "\n",
       "\n",
       "  function run_callbacks() {\n",
       "    try {\n",
       "      root._bokeh_onload_callbacks.forEach(function(callback) {\n",
       "        if (callback != null)\n",
       "          callback();\n",
       "      });\n",
       "    } finally {\n",
       "      delete root._bokeh_onload_callbacks\n",
       "    }\n",
       "    console.debug(\"Bokeh: all callbacks have finished\");\n",
       "  }\n",
       "\n",
       "  function load_libs(css_urls, js_urls, callback) {\n",
       "    if (css_urls == null) css_urls = [];\n",
       "    if (js_urls == null) js_urls = [];\n",
       "\n",
       "    root._bokeh_onload_callbacks.push(callback);\n",
       "    if (root._bokeh_is_loading > 0) {\n",
       "      console.debug(\"Bokeh: BokehJS is being loaded, scheduling callback at\", now());\n",
       "      return null;\n",
       "    }\n",
       "    if (js_urls == null || js_urls.length === 0) {\n",
       "      run_callbacks();\n",
       "      return null;\n",
       "    }\n",
       "    console.debug(\"Bokeh: BokehJS not loaded, scheduling load and callback at\", now());\n",
       "    root._bokeh_is_loading = css_urls.length + js_urls.length;\n",
       "\n",
       "    function on_load() {\n",
       "      root._bokeh_is_loading--;\n",
       "      if (root._bokeh_is_loading === 0) {\n",
       "        console.debug(\"Bokeh: all BokehJS libraries/stylesheets loaded\");\n",
       "        run_callbacks()\n",
       "      }\n",
       "    }\n",
       "\n",
       "    function on_error() {\n",
       "      console.error(\"failed to load \" + url);\n",
       "    }\n",
       "\n",
       "    for (var i = 0; i < css_urls.length; i++) {\n",
       "      var url = css_urls[i];\n",
       "      const element = document.createElement(\"link\");\n",
       "      element.onload = on_load;\n",
       "      element.onerror = on_error;\n",
       "      element.rel = \"stylesheet\";\n",
       "      element.type = \"text/css\";\n",
       "      element.href = url;\n",
       "      console.debug(\"Bokeh: injecting link tag for BokehJS stylesheet: \", url);\n",
       "      document.body.appendChild(element);\n",
       "    }\n",
       "\n",
       "    for (var i = 0; i < js_urls.length; i++) {\n",
       "      var url = js_urls[i];\n",
       "      var element = document.createElement('script');\n",
       "      element.onload = on_load;\n",
       "      element.onerror = on_error;\n",
       "      element.async = false;\n",
       "      element.src = url;\n",
       "      console.debug(\"Bokeh: injecting script tag for BokehJS library: \", url);\n",
       "      document.head.appendChild(element);\n",
       "    }\n",
       "  };var element = document.getElementById(\"1750\");\n",
       "  if (element == null) {\n",
       "    console.error(\"Bokeh: ERROR: autoload.js configured with elementid '1750' but no matching script tag was found. \")\n",
       "    return false;\n",
       "  }\n",
       "\n",
       "  function inject_raw_css(css) {\n",
       "    const element = document.createElement(\"style\");\n",
       "    element.appendChild(document.createTextNode(css));\n",
       "    document.body.appendChild(element);\n",
       "  }\n",
       "\n",
       "  var js_urls = [\"https://cdn.pydata.org/bokeh/release/bokeh-1.1.0.min.js\", \"https://cdn.pydata.org/bokeh/release/bokeh-widgets-1.1.0.min.js\", \"https://cdn.pydata.org/bokeh/release/bokeh-tables-1.1.0.min.js\", \"https://cdn.pydata.org/bokeh/release/bokeh-gl-1.1.0.min.js\"];\n",
       "  var css_urls = [\"https://cdn.pydata.org/bokeh/release/bokeh-1.1.0.min.css\", \"https://cdn.pydata.org/bokeh/release/bokeh-widgets-1.1.0.min.css\", \"https://cdn.pydata.org/bokeh/release/bokeh-tables-1.1.0.min.css\"];\n",
       "\n",
       "  var inline_js = [\n",
       "    function(Bokeh) {\n",
       "      Bokeh.set_log_level(\"info\");\n",
       "    },\n",
       "    \n",
       "    function(Bokeh) {\n",
       "      \n",
       "    },\n",
       "    function(Bokeh) {} // ensure no trailing comma for IE\n",
       "  ];\n",
       "\n",
       "  function run_inline_js() {\n",
       "    \n",
       "    if ((root.Bokeh !== undefined) || (force === true)) {\n",
       "      for (var i = 0; i < inline_js.length; i++) {\n",
       "        inline_js[i].call(root, root.Bokeh);\n",
       "      }if (force === true) {\n",
       "        display_loaded();\n",
       "      }} else if (Date.now() < root._bokeh_timeout) {\n",
       "      setTimeout(run_inline_js, 100);\n",
       "    } else if (!root._bokeh_failed_load) {\n",
       "      console.log(\"Bokeh: BokehJS failed to load within specified timeout.\");\n",
       "      root._bokeh_failed_load = true;\n",
       "    } else if (force !== true) {\n",
       "      var cell = $(document.getElementById(\"1750\")).parents('.cell').data().cell;\n",
       "      cell.output_area.append_execute_result(NB_LOAD_WARNING)\n",
       "    }\n",
       "\n",
       "  }\n",
       "\n",
       "  if (root._bokeh_is_loading === 0) {\n",
       "    console.debug(\"Bokeh: BokehJS loaded, going straight to plotting\");\n",
       "    run_inline_js();\n",
       "  } else {\n",
       "    load_libs(css_urls, js_urls, function() {\n",
       "      console.debug(\"Bokeh: BokehJS plotting callback run at\", now());\n",
       "      run_inline_js();\n",
       "    });\n",
       "  }\n",
       "}(window));"
      ],
      "application/vnd.bokehjs_load.v0+json": "\n(function(root) {\n  function now() {\n    return new Date();\n  }\n\n  var force = true;\n\n  if (typeof root._bokeh_onload_callbacks === \"undefined\" || force === true) {\n    root._bokeh_onload_callbacks = [];\n    root._bokeh_is_loading = undefined;\n  }\n\n  \n\n  \n  if (typeof (root._bokeh_timeout) === \"undefined\" || force === true) {\n    root._bokeh_timeout = Date.now() + 5000;\n    root._bokeh_failed_load = false;\n  }\n\n  var NB_LOAD_WARNING = {'data': {'text/html':\n     \"<div style='background-color: #fdd'>\\n\"+\n     \"<p>\\n\"+\n     \"BokehJS does not appear to have successfully loaded. If loading BokehJS from CDN, this \\n\"+\n     \"may be due to a slow or bad network connection. Possible fixes:\\n\"+\n     \"</p>\\n\"+\n     \"<ul>\\n\"+\n     \"<li>re-rerun `output_notebook()` to attempt to load from CDN again, or</li>\\n\"+\n     \"<li>use INLINE resources instead, as so:</li>\\n\"+\n     \"</ul>\\n\"+\n     \"<code>\\n\"+\n     \"from bokeh.resources import INLINE\\n\"+\n     \"output_notebook(resources=INLINE)\\n\"+\n     \"</code>\\n\"+\n     \"</div>\"}};\n\n  function display_loaded() {\n    var el = document.getElementById(\"1750\");\n    if (el != null) {\n      el.textContent = \"BokehJS is loading...\";\n    }\n    if (root.Bokeh !== undefined) {\n      if (el != null) {\n        el.textContent = \"BokehJS \" + root.Bokeh.version + \" successfully loaded.\";\n      }\n    } else if (Date.now() < root._bokeh_timeout) {\n      setTimeout(display_loaded, 100)\n    }\n  }\n\n\n  function run_callbacks() {\n    try {\n      root._bokeh_onload_callbacks.forEach(function(callback) {\n        if (callback != null)\n          callback();\n      });\n    } finally {\n      delete root._bokeh_onload_callbacks\n    }\n    console.debug(\"Bokeh: all callbacks have finished\");\n  }\n\n  function load_libs(css_urls, js_urls, callback) {\n    if (css_urls == null) css_urls = [];\n    if (js_urls == null) js_urls = [];\n\n    root._bokeh_onload_callbacks.push(callback);\n    if (root._bokeh_is_loading > 0) {\n      console.debug(\"Bokeh: BokehJS is being loaded, scheduling callback at\", now());\n      return null;\n    }\n    if (js_urls == null || js_urls.length === 0) {\n      run_callbacks();\n      return null;\n    }\n    console.debug(\"Bokeh: BokehJS not loaded, scheduling load and callback at\", now());\n    root._bokeh_is_loading = css_urls.length + js_urls.length;\n\n    function on_load() {\n      root._bokeh_is_loading--;\n      if (root._bokeh_is_loading === 0) {\n        console.debug(\"Bokeh: all BokehJS libraries/stylesheets loaded\");\n        run_callbacks()\n      }\n    }\n\n    function on_error() {\n      console.error(\"failed to load \" + url);\n    }\n\n    for (var i = 0; i < css_urls.length; i++) {\n      var url = css_urls[i];\n      const element = document.createElement(\"link\");\n      element.onload = on_load;\n      element.onerror = on_error;\n      element.rel = \"stylesheet\";\n      element.type = \"text/css\";\n      element.href = url;\n      console.debug(\"Bokeh: injecting link tag for BokehJS stylesheet: \", url);\n      document.body.appendChild(element);\n    }\n\n    for (var i = 0; i < js_urls.length; i++) {\n      var url = js_urls[i];\n      var element = document.createElement('script');\n      element.onload = on_load;\n      element.onerror = on_error;\n      element.async = false;\n      element.src = url;\n      console.debug(\"Bokeh: injecting script tag for BokehJS library: \", url);\n      document.head.appendChild(element);\n    }\n  };var element = document.getElementById(\"1750\");\n  if (element == null) {\n    console.error(\"Bokeh: ERROR: autoload.js configured with elementid '1750' but no matching script tag was found. \")\n    return false;\n  }\n\n  function inject_raw_css(css) {\n    const element = document.createElement(\"style\");\n    element.appendChild(document.createTextNode(css));\n    document.body.appendChild(element);\n  }\n\n  var js_urls = [\"https://cdn.pydata.org/bokeh/release/bokeh-1.1.0.min.js\", \"https://cdn.pydata.org/bokeh/release/bokeh-widgets-1.1.0.min.js\", \"https://cdn.pydata.org/bokeh/release/bokeh-tables-1.1.0.min.js\", \"https://cdn.pydata.org/bokeh/release/bokeh-gl-1.1.0.min.js\"];\n  var css_urls = [\"https://cdn.pydata.org/bokeh/release/bokeh-1.1.0.min.css\", \"https://cdn.pydata.org/bokeh/release/bokeh-widgets-1.1.0.min.css\", \"https://cdn.pydata.org/bokeh/release/bokeh-tables-1.1.0.min.css\"];\n\n  var inline_js = [\n    function(Bokeh) {\n      Bokeh.set_log_level(\"info\");\n    },\n    \n    function(Bokeh) {\n      \n    },\n    function(Bokeh) {} // ensure no trailing comma for IE\n  ];\n\n  function run_inline_js() {\n    \n    if ((root.Bokeh !== undefined) || (force === true)) {\n      for (var i = 0; i < inline_js.length; i++) {\n        inline_js[i].call(root, root.Bokeh);\n      }if (force === true) {\n        display_loaded();\n      }} else if (Date.now() < root._bokeh_timeout) {\n      setTimeout(run_inline_js, 100);\n    } else if (!root._bokeh_failed_load) {\n      console.log(\"Bokeh: BokehJS failed to load within specified timeout.\");\n      root._bokeh_failed_load = true;\n    } else if (force !== true) {\n      var cell = $(document.getElementById(\"1750\")).parents('.cell').data().cell;\n      cell.output_area.append_execute_result(NB_LOAD_WARNING)\n    }\n\n  }\n\n  if (root._bokeh_is_loading === 0) {\n    console.debug(\"Bokeh: BokehJS loaded, going straight to plotting\");\n    run_inline_js();\n  } else {\n    load_libs(css_urls, js_urls, function() {\n      console.debug(\"Bokeh: BokehJS plotting callback run at\", now());\n      run_inline_js();\n    });\n  }\n}(window));"
     },
     "metadata": {},
     "output_type": "display_data"
    }
   ],
   "source": [
    "from bokeh.plotting import figure, show, output_notebook\n",
    "param = dict(width = 700, height = 250,\n",
    "             tools = 'wheel_zoom, reset,pan, box_zoom',\n",
    "             tooltips = [( 'substrate',   '@s'), ( 'velocity',   '@v')],\n",
    "            )\n",
    "output_notebook()"
   ]
  },
  {
   "cell_type": "markdown",
   "metadata": {},
   "source": [
    "Plottiamo i dati grezzi."
   ]
  },
  {
   "cell_type": "code",
   "execution_count": 23,
   "metadata": {
    "colab": {
     "base_uri": "https://localhost:8080/",
     "height": 297
    },
    "colab_type": "code",
    "executionInfo": {
     "elapsed": 1245,
     "status": "ok",
     "timestamp": 1554563947045,
     "user": {
      "displayName": "Domenico Zambella",
      "photoUrl": "https://lh3.googleusercontent.com/-BraGnYy55AA/AAAAAAAAAAI/AAAAAAAAAAA/ApUkkU1ZK3k/s64/photo.jpg",
      "userId": "03818394449923864400"
     },
     "user_tz": -120
    },
    "id": "OV3o_poJihQ0",
    "outputId": "4fb972d5-7cf5-44d2-f61f-97985a86b1c9"
   },
   "outputs": [
    {
     "data": {
      "text/html": [
       "\n",
       "\n",
       "\n",
       "\n",
       "\n",
       "\n",
       "  <div class=\"bk-root\" id=\"b84d79d0-d29c-426a-b721-7cc34407867e\" data-root-id=\"1751\"></div>\n"
      ]
     },
     "metadata": {},
     "output_type": "display_data"
    },
    {
     "data": {
      "application/javascript": [
       "(function(root) {\n",
       "  function embed_document(root) {\n",
       "    \n",
       "  var docs_json = {\"2a40cbaa-8ddf-488a-b19a-b783d5637839\":{\"roots\":{\"references\":[{\"attributes\":{\"below\":[{\"id\":\"1760\",\"type\":\"LinearAxis\"}],\"center\":[{\"id\":\"1764\",\"type\":\"Grid\"},{\"id\":\"1769\",\"type\":\"Grid\"}],\"left\":[{\"id\":\"1765\",\"type\":\"LinearAxis\"}],\"plot_height\":250,\"plot_width\":700,\"renderers\":[{\"id\":\"1785\",\"type\":\"GlyphRenderer\"}],\"title\":{\"id\":\"1829\",\"type\":\"Title\"},\"toolbar\":{\"id\":\"1775\",\"type\":\"Toolbar\"},\"x_range\":{\"id\":\"1752\",\"type\":\"DataRange1d\"},\"x_scale\":{\"id\":\"1756\",\"type\":\"LinearScale\"},\"y_range\":{\"id\":\"1754\",\"type\":\"DataRange1d\"},\"y_scale\":{\"id\":\"1758\",\"type\":\"LinearScale\"}},\"id\":\"1751\",\"subtype\":\"Figure\",\"type\":\"Plot\"},{\"attributes\":{},\"id\":\"1756\",\"type\":\"LinearScale\"},{\"attributes\":{\"data_source\":{\"id\":\"1781\",\"type\":\"ColumnDataSource\"},\"glyph\":{\"id\":\"1783\",\"type\":\"Circle\"},\"hover_glyph\":null,\"muted_glyph\":null,\"nonselection_glyph\":{\"id\":\"1784\",\"type\":\"Circle\"},\"selection_glyph\":null,\"view\":{\"id\":\"1786\",\"type\":\"CDSView\"}},\"id\":\"1785\",\"type\":\"GlyphRenderer\"},{\"attributes\":{},\"id\":\"1771\",\"type\":\"ResetTool\"},{\"attributes\":{\"overlay\":{\"id\":\"1836\",\"type\":\"BoxAnnotation\"}},\"id\":\"1773\",\"type\":\"BoxZoomTool\"},{\"attributes\":{\"active_drag\":\"auto\",\"active_inspect\":\"auto\",\"active_multi\":null,\"active_scroll\":\"auto\",\"active_tap\":\"auto\",\"tools\":[{\"id\":\"1770\",\"type\":\"WheelZoomTool\"},{\"id\":\"1771\",\"type\":\"ResetTool\"},{\"id\":\"1772\",\"type\":\"PanTool\"},{\"id\":\"1773\",\"type\":\"BoxZoomTool\"},{\"id\":\"1774\",\"type\":\"HoverTool\"}]},\"id\":\"1775\",\"type\":\"Toolbar\"},{\"attributes\":{},\"id\":\"1831\",\"type\":\"BasicTickFormatter\"},{\"attributes\":{},\"id\":\"1766\",\"type\":\"BasicTicker\"},{\"attributes\":{},\"id\":\"1835\",\"type\":\"UnionRenderers\"},{\"attributes\":{\"bottom_units\":\"screen\",\"fill_alpha\":{\"value\":0.5},\"fill_color\":{\"value\":\"lightgrey\"},\"left_units\":\"screen\",\"level\":\"overlay\",\"line_alpha\":{\"value\":1.0},\"line_color\":{\"value\":\"black\"},\"line_dash\":[4,4],\"line_width\":{\"value\":2},\"render_mode\":\"css\",\"right_units\":\"screen\",\"top_units\":\"screen\"},\"id\":\"1836\",\"type\":\"BoxAnnotation\"},{\"attributes\":{\"dimension\":1,\"ticker\":{\"id\":\"1766\",\"type\":\"BasicTicker\"}},\"id\":\"1769\",\"type\":\"Grid\"},{\"attributes\":{},\"id\":\"1758\",\"type\":\"LinearScale\"},{\"attributes\":{\"axis_label\":\"Concentrazione substrato\",\"formatter\":{\"id\":\"1831\",\"type\":\"BasicTickFormatter\"},\"ticker\":{\"id\":\"1761\",\"type\":\"BasicTicker\"}},\"id\":\"1760\",\"type\":\"LinearAxis\"},{\"attributes\":{\"callback\":null,\"tooltips\":[[\"substrate\",\"@s\"],[\"velocity\",\"@v\"]]},\"id\":\"1774\",\"type\":\"HoverTool\"},{\"attributes\":{\"callback\":null,\"data\":{\"index\":[0,1,2,3,4,5,6,7,8,9,10,11,12],\"s\":{\"__ndarray__\":\"AAAAAAAA4D8AAAAAAADwPwAAAAAAAARAAAAAAAAADEAAAAAAAAAUQAAAAAAAAB5AAAAAAAAAJEAAAAAAAAAuQAAAAAAAADlAAAAAAAAASUAAAAAAAIBRQAAAAAAAwFJAAAAAAAAAWUA=\",\"dtype\":\"float64\",\"shape\":[13]},\"v\":{\"__ndarray__\":\"MzMzMzMz4z+amZmZmZnxP83MzMzMzABAZmZmZmZmAkCamZmZmZkNQAAAAAAAAAhAMzMzMzMzEUAzMzMzMzMTQDMzMzMzMxVAAAAAAAAAGEBmZmZmZmYUQM3MzMzMzBZAMzMzMzMzF0A=\",\"dtype\":\"float64\",\"shape\":[13]}},\"selected\":{\"id\":\"1834\",\"type\":\"Selection\"},\"selection_policy\":{\"id\":\"1835\",\"type\":\"UnionRenderers\"}},\"id\":\"1781\",\"type\":\"ColumnDataSource\"},{\"attributes\":{},\"id\":\"1770\",\"type\":\"WheelZoomTool\"},{\"attributes\":{\"callback\":null},\"id\":\"1752\",\"type\":\"DataRange1d\"},{\"attributes\":{},\"id\":\"1761\",\"type\":\"BasicTicker\"},{\"attributes\":{\"callback\":null},\"id\":\"1754\",\"type\":\"DataRange1d\"},{\"attributes\":{\"text\":\"\"},\"id\":\"1829\",\"type\":\"Title\"},{\"attributes\":{\"fill_alpha\":{\"value\":0.1},\"fill_color\":{\"value\":\"#1f77b4\"},\"line_alpha\":{\"value\":0.1},\"line_color\":{\"value\":\"#1f77b4\"},\"x\":{\"field\":\"s\"},\"y\":{\"field\":\"v\"}},\"id\":\"1784\",\"type\":\"Circle\"},{\"attributes\":{\"ticker\":{\"id\":\"1761\",\"type\":\"BasicTicker\"}},\"id\":\"1764\",\"type\":\"Grid\"},{\"attributes\":{},\"id\":\"1772\",\"type\":\"PanTool\"},{\"attributes\":{},\"id\":\"1834\",\"type\":\"Selection\"},{\"attributes\":{\"source\":{\"id\":\"1781\",\"type\":\"ColumnDataSource\"}},\"id\":\"1786\",\"type\":\"CDSView\"},{\"attributes\":{\"axis_label\":\"Velocit\\u00e0 di reazione\",\"formatter\":{\"id\":\"1833\",\"type\":\"BasicTickFormatter\"},\"ticker\":{\"id\":\"1766\",\"type\":\"BasicTicker\"}},\"id\":\"1765\",\"type\":\"LinearAxis\"},{\"attributes\":{\"fill_color\":{\"value\":\"#1f77b4\"},\"line_color\":{\"value\":\"#1f77b4\"},\"x\":{\"field\":\"s\"},\"y\":{\"field\":\"v\"}},\"id\":\"1783\",\"type\":\"Circle\"},{\"attributes\":{},\"id\":\"1833\",\"type\":\"BasicTickFormatter\"}],\"root_ids\":[\"1751\"]},\"title\":\"Bokeh Application\",\"version\":\"1.1.0\"}};\n",
       "  var render_items = [{\"docid\":\"2a40cbaa-8ddf-488a-b19a-b783d5637839\",\"roots\":{\"1751\":\"b84d79d0-d29c-426a-b721-7cc34407867e\"}}];\n",
       "  root.Bokeh.embed.embed_items_notebook(docs_json, render_items);\n",
       "\n",
       "  }\n",
       "  if (root.Bokeh !== undefined) {\n",
       "    embed_document(root);\n",
       "  } else {\n",
       "    var attempts = 0;\n",
       "    var timer = setInterval(function(root) {\n",
       "      if (root.Bokeh !== undefined) {\n",
       "        embed_document(root);\n",
       "        clearInterval(timer);\n",
       "      }\n",
       "      attempts++;\n",
       "      if (attempts > 100) {\n",
       "        console.log(\"Bokeh: ERROR: Unable to run BokehJS code because BokehJS library is missing\");\n",
       "        clearInterval(timer);\n",
       "      }\n",
       "    }, 10, root)\n",
       "  }\n",
       "})(window);"
      ],
      "application/vnd.bokehjs_exec.v0+json": ""
     },
     "metadata": {
      "application/vnd.bokehjs_exec.v0+json": {
       "id": "1751"
      }
     },
     "output_type": "display_data"
    }
   ],
   "source": [
    "p = figure(x_axis_label='Concentrazione substrato',\n",
    "           y_axis_label='Velocità di reazione',\n",
    "           **param,\n",
    "           )\n",
    "p.circle( 's', 'v', source=df ) # Plotto i punti (s,v)\n",
    "show( p )"
   ]
  },
  {
   "cell_type": "markdown",
   "metadata": {
    "colab_type": "text",
    "id": "CCBsajWlnm85"
   },
   "source": [
    "Altra breve introduzione teorica:\n",
    "<hr><br>\n",
    "\n",
    "\n",
    "# Linearizzazione 1: Lineweaver-Burk\n",
    "\n",
    "<br>\n",
    "\n",
    "$$\n",
    "\\dfrac{1}{v}\n",
    "=\n",
    "\\dfrac{K_\\textrm{m}}{V_\\textrm{max}}\\cdot\\dfrac{1}{s}\\ +\\ \\dfrac{1}{V_\\textrm{max}}\n",
    "$$\n",
    "\n",
    "<br><hr><br>\n",
    "\n",
    "Espandiamo il dataframe con i reciproci delle prime colonne"
   ]
  },
  {
   "cell_type": "code",
   "execution_count": 24,
   "metadata": {
    "colab": {},
    "colab_type": "code",
    "id": "pReK01ejihQ8"
   },
   "outputs": [
    {
     "data": {
      "text/html": [
       "<div>\n",
       "<style scoped>\n",
       "    .dataframe tbody tr th:only-of-type {\n",
       "        vertical-align: middle;\n",
       "    }\n",
       "\n",
       "    .dataframe tbody tr th {\n",
       "        vertical-align: top;\n",
       "    }\n",
       "\n",
       "    .dataframe thead th {\n",
       "        text-align: right;\n",
       "    }\n",
       "</style>\n",
       "<table border=\"1\" class=\"dataframe\">\n",
       "  <thead>\n",
       "    <tr style=\"text-align: right;\">\n",
       "      <th></th>\n",
       "      <th>s</th>\n",
       "      <th>v</th>\n",
       "      <th>1/s</th>\n",
       "      <th>1/v</th>\n",
       "    </tr>\n",
       "  </thead>\n",
       "  <tbody>\n",
       "    <tr>\n",
       "      <th>0</th>\n",
       "      <td>0.5</td>\n",
       "      <td>0.6</td>\n",
       "      <td>2.000000</td>\n",
       "      <td>1.666667</td>\n",
       "    </tr>\n",
       "    <tr>\n",
       "      <th>1</th>\n",
       "      <td>1.0</td>\n",
       "      <td>1.1</td>\n",
       "      <td>1.000000</td>\n",
       "      <td>0.909091</td>\n",
       "    </tr>\n",
       "    <tr>\n",
       "      <th>2</th>\n",
       "      <td>2.5</td>\n",
       "      <td>2.1</td>\n",
       "      <td>0.400000</td>\n",
       "      <td>0.476190</td>\n",
       "    </tr>\n",
       "    <tr>\n",
       "      <th>3</th>\n",
       "      <td>3.5</td>\n",
       "      <td>2.3</td>\n",
       "      <td>0.285714</td>\n",
       "      <td>0.434783</td>\n",
       "    </tr>\n",
       "    <tr>\n",
       "      <th>4</th>\n",
       "      <td>5.0</td>\n",
       "      <td>3.7</td>\n",
       "      <td>0.200000</td>\n",
       "      <td>0.270270</td>\n",
       "    </tr>\n",
       "    <tr>\n",
       "      <th>5</th>\n",
       "      <td>7.5</td>\n",
       "      <td>3.0</td>\n",
       "      <td>0.133333</td>\n",
       "      <td>0.333333</td>\n",
       "    </tr>\n",
       "    <tr>\n",
       "      <th>6</th>\n",
       "      <td>10.0</td>\n",
       "      <td>4.3</td>\n",
       "      <td>0.100000</td>\n",
       "      <td>0.232558</td>\n",
       "    </tr>\n",
       "    <tr>\n",
       "      <th>7</th>\n",
       "      <td>15.0</td>\n",
       "      <td>4.8</td>\n",
       "      <td>0.066667</td>\n",
       "      <td>0.208333</td>\n",
       "    </tr>\n",
       "    <tr>\n",
       "      <th>8</th>\n",
       "      <td>25.0</td>\n",
       "      <td>5.3</td>\n",
       "      <td>0.040000</td>\n",
       "      <td>0.188679</td>\n",
       "    </tr>\n",
       "    <tr>\n",
       "      <th>9</th>\n",
       "      <td>50.0</td>\n",
       "      <td>6.0</td>\n",
       "      <td>0.020000</td>\n",
       "      <td>0.166667</td>\n",
       "    </tr>\n",
       "    <tr>\n",
       "      <th>10</th>\n",
       "      <td>70.0</td>\n",
       "      <td>5.1</td>\n",
       "      <td>0.014286</td>\n",
       "      <td>0.196078</td>\n",
       "    </tr>\n",
       "    <tr>\n",
       "      <th>11</th>\n",
       "      <td>75.0</td>\n",
       "      <td>5.7</td>\n",
       "      <td>0.013333</td>\n",
       "      <td>0.175439</td>\n",
       "    </tr>\n",
       "    <tr>\n",
       "      <th>12</th>\n",
       "      <td>100.0</td>\n",
       "      <td>5.8</td>\n",
       "      <td>0.010000</td>\n",
       "      <td>0.172414</td>\n",
       "    </tr>\n",
       "  </tbody>\n",
       "</table>\n",
       "</div>"
      ],
      "text/plain": [
       "        s    v       1/s       1/v\n",
       "0     0.5  0.6  2.000000  1.666667\n",
       "1     1.0  1.1  1.000000  0.909091\n",
       "2     2.5  2.1  0.400000  0.476190\n",
       "3     3.5  2.3  0.285714  0.434783\n",
       "4     5.0  3.7  0.200000  0.270270\n",
       "5     7.5  3.0  0.133333  0.333333\n",
       "6    10.0  4.3  0.100000  0.232558\n",
       "7    15.0  4.8  0.066667  0.208333\n",
       "8    25.0  5.3  0.040000  0.188679\n",
       "9    50.0  6.0  0.020000  0.166667\n",
       "10   70.0  5.1  0.014286  0.196078\n",
       "11   75.0  5.7  0.013333  0.175439\n",
       "12  100.0  5.8  0.010000  0.172414"
      ]
     },
     "execution_count": 24,
     "metadata": {},
     "output_type": "execute_result"
    }
   ],
   "source": [
    "df['1/s'] = 1 / df['s']\n",
    "df['1/v'] = 1 / df['v']\n",
    "df"
   ]
  },
  {
   "cell_type": "markdown",
   "metadata": {
    "colab_type": "text",
    "id": "QWpufrdMoXKu"
   },
   "source": [
    "Ora plottiamo `1/v` su `1/s`."
   ]
  },
  {
   "cell_type": "code",
   "execution_count": 25,
   "metadata": {
    "colab": {
     "base_uri": "https://localhost:8080/",
     "height": 297
    },
    "colab_type": "code",
    "executionInfo": {
     "elapsed": 1231,
     "status": "ok",
     "timestamp": 1554563947051,
     "user": {
      "displayName": "Domenico Zambella",
      "photoUrl": "https://lh3.googleusercontent.com/-BraGnYy55AA/AAAAAAAAAAI/AAAAAAAAAAA/ApUkkU1ZK3k/s64/photo.jpg",
      "userId": "03818394449923864400"
     },
     "user_tz": -120
    },
    "id": "hTOe2CZnobFt",
    "outputId": "4c280ad0-2fc9-40d8-84ef-aae76fd636ea"
   },
   "outputs": [
    {
     "data": {
      "text/html": [
       "\n",
       "\n",
       "\n",
       "\n",
       "\n",
       "\n",
       "  <div class=\"bk-root\" id=\"abece334-f24c-49e3-afc8-48e6c950cbe8\" data-root-id=\"1891\"></div>\n"
      ]
     },
     "metadata": {},
     "output_type": "display_data"
    },
    {
     "data": {
      "application/javascript": [
       "(function(root) {\n",
       "  function embed_document(root) {\n",
       "    \n",
       "  var docs_json = {\"1968ea9e-3ac4-4b40-b023-f40604adf081\":{\"roots\":{\"references\":[{\"attributes\":{\"below\":[{\"id\":\"1902\",\"type\":\"LinearAxis\"}],\"center\":[{\"id\":\"1906\",\"type\":\"Grid\"},{\"id\":\"1911\",\"type\":\"Grid\"}],\"left\":[{\"id\":\"1907\",\"type\":\"LinearAxis\"}],\"plot_height\":250,\"plot_width\":700,\"renderers\":[{\"id\":\"1927\",\"type\":\"GlyphRenderer\"}],\"title\":{\"id\":\"1892\",\"type\":\"Title\"},\"toolbar\":{\"id\":\"1917\",\"type\":\"Toolbar\"},\"x_range\":{\"id\":\"1894\",\"type\":\"DataRange1d\"},\"x_scale\":{\"id\":\"1898\",\"type\":\"LinearScale\"},\"y_range\":{\"id\":\"1896\",\"type\":\"DataRange1d\"},\"y_scale\":{\"id\":\"1900\",\"type\":\"LinearScale\"}},\"id\":\"1891\",\"subtype\":\"Figure\",\"type\":\"Plot\"},{\"attributes\":{},\"id\":\"1983\",\"type\":\"BasicTickFormatter\"},{\"attributes\":{\"axis_label\":\"1/v\",\"formatter\":{\"id\":\"1983\",\"type\":\"BasicTickFormatter\"},\"ticker\":{\"id\":\"1908\",\"type\":\"BasicTicker\"}},\"id\":\"1907\",\"type\":\"LinearAxis\"},{\"attributes\":{},\"id\":\"1908\",\"type\":\"BasicTicker\"},{\"attributes\":{\"dimension\":1,\"ticker\":{\"id\":\"1908\",\"type\":\"BasicTicker\"}},\"id\":\"1911\",\"type\":\"Grid\"},{\"attributes\":{\"callback\":null,\"tooltips\":[[\"substrate\",\"@s\"],[\"velocity\",\"@v\"]]},\"id\":\"1916\",\"type\":\"HoverTool\"},{\"attributes\":{},\"id\":\"1900\",\"type\":\"LinearScale\"},{\"attributes\":{},\"id\":\"1898\",\"type\":\"LinearScale\"},{\"attributes\":{},\"id\":\"1912\",\"type\":\"WheelZoomTool\"},{\"attributes\":{},\"id\":\"1913\",\"type\":\"ResetTool\"},{\"attributes\":{},\"id\":\"1985\",\"type\":\"UnionRenderers\"},{\"attributes\":{},\"id\":\"1914\",\"type\":\"PanTool\"},{\"attributes\":{\"text\":\"Linearizzazione di Lineweaver-Burk\"},\"id\":\"1892\",\"type\":\"Title\"},{\"attributes\":{\"overlay\":{\"id\":\"1986\",\"type\":\"BoxAnnotation\"}},\"id\":\"1915\",\"type\":\"BoxZoomTool\"},{\"attributes\":{\"active_drag\":\"auto\",\"active_inspect\":\"auto\",\"active_multi\":null,\"active_scroll\":\"auto\",\"active_tap\":\"auto\",\"tools\":[{\"id\":\"1912\",\"type\":\"WheelZoomTool\"},{\"id\":\"1913\",\"type\":\"ResetTool\"},{\"id\":\"1914\",\"type\":\"PanTool\"},{\"id\":\"1915\",\"type\":\"BoxZoomTool\"},{\"id\":\"1916\",\"type\":\"HoverTool\"}]},\"id\":\"1917\",\"type\":\"Toolbar\"},{\"attributes\":{\"callback\":null},\"id\":\"1894\",\"type\":\"DataRange1d\"},{\"attributes\":{\"callback\":null},\"id\":\"1896\",\"type\":\"DataRange1d\"},{\"attributes\":{},\"id\":\"1903\",\"type\":\"BasicTicker\"},{\"attributes\":{},\"id\":\"1984\",\"type\":\"Selection\"},{\"attributes\":{\"data_source\":{\"id\":\"1923\",\"type\":\"ColumnDataSource\"},\"glyph\":{\"id\":\"1925\",\"type\":\"Circle\"},\"hover_glyph\":null,\"muted_glyph\":null,\"nonselection_glyph\":{\"id\":\"1926\",\"type\":\"Circle\"},\"selection_glyph\":null,\"view\":{\"id\":\"1928\",\"type\":\"CDSView\"}},\"id\":\"1927\",\"type\":\"GlyphRenderer\"},{\"attributes\":{\"axis_label\":\"1/s\",\"formatter\":{\"id\":\"1981\",\"type\":\"BasicTickFormatter\"},\"ticker\":{\"id\":\"1903\",\"type\":\"BasicTicker\"}},\"id\":\"1902\",\"type\":\"LinearAxis\"},{\"attributes\":{\"fill_color\":{\"value\":\"#1f77b4\"},\"line_color\":{\"value\":\"#1f77b4\"},\"x\":{\"field\":\"1/s\"},\"y\":{\"field\":\"1/v\"}},\"id\":\"1925\",\"type\":\"Circle\"},{\"attributes\":{\"ticker\":{\"id\":\"1903\",\"type\":\"BasicTicker\"}},\"id\":\"1906\",\"type\":\"Grid\"},{\"attributes\":{\"fill_alpha\":{\"value\":0.1},\"fill_color\":{\"value\":\"#1f77b4\"},\"line_alpha\":{\"value\":0.1},\"line_color\":{\"value\":\"#1f77b4\"},\"x\":{\"field\":\"1/s\"},\"y\":{\"field\":\"1/v\"}},\"id\":\"1926\",\"type\":\"Circle\"},{\"attributes\":{\"bottom_units\":\"screen\",\"fill_alpha\":{\"value\":0.5},\"fill_color\":{\"value\":\"lightgrey\"},\"left_units\":\"screen\",\"level\":\"overlay\",\"line_alpha\":{\"value\":1.0},\"line_color\":{\"value\":\"black\"},\"line_dash\":[4,4],\"line_width\":{\"value\":2},\"render_mode\":\"css\",\"right_units\":\"screen\",\"top_units\":\"screen\"},\"id\":\"1986\",\"type\":\"BoxAnnotation\"},{\"attributes\":{\"source\":{\"id\":\"1923\",\"type\":\"ColumnDataSource\"}},\"id\":\"1928\",\"type\":\"CDSView\"},{\"attributes\":{\"callback\":null,\"data\":{\"1/s\":{\"__ndarray__\":\"AAAAAAAAAEAAAAAAAADwP5qZmZmZmdk/kiRJkiRJ0j+amZmZmZnJPxEREREREcE/mpmZmZmZuT8RERERERGxP3sUrkfheqQ/exSuR+F6lD8d1EEd1EGNP08b6LSBTos/exSuR+F6hD8=\",\"dtype\":\"float64\",\"shape\":[13]},\"1/v\":{\"__ndarray__\":\"q6qqqqqq+j8XXXTRRRftP57neZ7ned4/vulNb3rT2z/BFPmsG0zRP1VVVVVVVdU/cUfcEXfEzT+rqqqqqqrKP/JW9jmkJsg/VVVVVVVVxT8aGRkZGRnJP0xnMZ3FdMY/fBphuacRxj8=\",\"dtype\":\"float64\",\"shape\":[13]},\"index\":[0,1,2,3,4,5,6,7,8,9,10,11,12],\"s\":{\"__ndarray__\":\"AAAAAAAA4D8AAAAAAADwPwAAAAAAAARAAAAAAAAADEAAAAAAAAAUQAAAAAAAAB5AAAAAAAAAJEAAAAAAAAAuQAAAAAAAADlAAAAAAAAASUAAAAAAAIBRQAAAAAAAwFJAAAAAAAAAWUA=\",\"dtype\":\"float64\",\"shape\":[13]},\"v\":{\"__ndarray__\":\"MzMzMzMz4z+amZmZmZnxP83MzMzMzABAZmZmZmZmAkCamZmZmZkNQAAAAAAAAAhAMzMzMzMzEUAzMzMzMzMTQDMzMzMzMxVAAAAAAAAAGEBmZmZmZmYUQM3MzMzMzBZAMzMzMzMzF0A=\",\"dtype\":\"float64\",\"shape\":[13]}},\"selected\":{\"id\":\"1984\",\"type\":\"Selection\"},\"selection_policy\":{\"id\":\"1985\",\"type\":\"UnionRenderers\"}},\"id\":\"1923\",\"type\":\"ColumnDataSource\"},{\"attributes\":{},\"id\":\"1981\",\"type\":\"BasicTickFormatter\"}],\"root_ids\":[\"1891\"]},\"title\":\"Bokeh Application\",\"version\":\"1.1.0\"}};\n",
       "  var render_items = [{\"docid\":\"1968ea9e-3ac4-4b40-b023-f40604adf081\",\"roots\":{\"1891\":\"abece334-f24c-49e3-afc8-48e6c950cbe8\"}}];\n",
       "  root.Bokeh.embed.embed_items_notebook(docs_json, render_items);\n",
       "\n",
       "  }\n",
       "  if (root.Bokeh !== undefined) {\n",
       "    embed_document(root);\n",
       "  } else {\n",
       "    var attempts = 0;\n",
       "    var timer = setInterval(function(root) {\n",
       "      if (root.Bokeh !== undefined) {\n",
       "        embed_document(root);\n",
       "        clearInterval(timer);\n",
       "      }\n",
       "      attempts++;\n",
       "      if (attempts > 100) {\n",
       "        console.log(\"Bokeh: ERROR: Unable to run BokehJS code because BokehJS library is missing\");\n",
       "        clearInterval(timer);\n",
       "      }\n",
       "    }, 10, root)\n",
       "  }\n",
       "})(window);"
      ],
      "application/vnd.bokehjs_exec.v0+json": ""
     },
     "metadata": {
      "application/vnd.bokehjs_exec.v0+json": {
       "id": "1891"
      }
     },
     "output_type": "display_data"
    }
   ],
   "source": [
    "p1 = figure(title = 'Linearizzazione di Lineweaver-Burk',\n",
    "            x_axis_label= '1/s', \n",
    "            y_axis_label= '1/v',\n",
    "            **param,\n",
    "            )\n",
    "p1.circle( '1/s', '1/v', source=df ) # Plotto i punti (1/s,1/v)\n",
    "show( p1 )"
   ]
  },
  {
   "cell_type": "markdown",
   "metadata": {},
   "source": [
    "Vediamo che i dati seguono un andamento ragionevolmente lineare. Ora calcoliamo il valore della pendenza e dell'intercetta usando la funzione `linregress` della libreria `scipy.stats`.\n",
    "\n",
    "La funzione `linregress` produce 5 valori, nel nostro caso `r_value`, `p_value`, `std_err` sono di difficile interpretazione perché la liearizzazione rende gli errori non uniformi e non distribuiti normalmente."
   ]
  },
  {
   "cell_type": "code",
   "execution_count": 26,
   "metadata": {
    "colab": {
     "base_uri": "https://localhost:8080/",
     "height": 102
    },
    "colab_type": "code",
    "executionInfo": {
     "elapsed": 1224,
     "status": "ok",
     "timestamp": 1554563947053,
     "user": {
      "displayName": "Domenico Zambella",
      "photoUrl": "https://lh3.googleusercontent.com/-BraGnYy55AA/AAAAAAAAAAI/AAAAAAAAAAA/ApUkkU1ZK3k/s64/photo.jpg",
      "userId": "03818394449923864400"
     },
     "user_tz": -120
    },
    "id": "8ODmvOwWo6Yh",
    "outputId": "ee3b3e37-3360-4cec-d5dc-b30c083c7414"
   },
   "outputs": [
    {
     "data": {
      "text/plain": [
       "(0.7480681984452997, 0.17125207846346685)"
      ]
     },
     "execution_count": 26,
     "metadata": {},
     "output_type": "execute_result"
    }
   ],
   "source": [
    "from scipy.stats import linregress\n",
    "slope, intercept, r_value, p_value, std_err = linregress( df['1/s'], df['1/v'] )\n",
    "slope, intercept             # Questi sono gli unici valori che mi interessano"
   ]
  },
  {
   "cell_type": "markdown",
   "metadata": {},
   "source": [
    "Calcoliamo i valori di $V_\\textrm{max}$ e $K_\\textrm{m}$."
   ]
  },
  {
   "cell_type": "code",
   "execution_count": 27,
   "metadata": {},
   "outputs": [],
   "source": [
    "Vmax1 = 1 / intercept\n",
    "Km1 = slope / intercept "
   ]
  },
  {
   "cell_type": "markdown",
   "metadata": {},
   "source": [
    "Per controllo, aggiungiamo alla figura precedente la retta interpolante. Prima creiamo una retta un segmento dal valore minimo di `1/s` al valore massimo di `1/s`. "
   ]
  },
  {
   "cell_type": "code",
   "execution_count": 28,
   "metadata": {
    "colab": {},
    "colab_type": "code",
    "id": "e3ON-bsJr85c"
   },
   "outputs": [],
   "source": [
    "from numpy import array \n",
    "xmax = df['1/s'].max()        # Estremo destro dei valori della x del grafico\n",
    "x = array( [0, xmax] )        # Un array di 2 punti tra 0 e xmax\n",
    "y = x * slope + intercept     # I valori previsti dalla retta interpolante"
   ]
  },
  {
   "cell_type": "markdown",
   "metadata": {},
   "source": [
    "Ora aggiungiamo il segmento alla figura `p1` e plottiamo."
   ]
  },
  {
   "cell_type": "code",
   "execution_count": 29,
   "metadata": {},
   "outputs": [
    {
     "data": {
      "text/html": [
       "\n",
       "\n",
       "\n",
       "\n",
       "\n",
       "\n",
       "  <div class=\"bk-root\" id=\"a6bfe58d-7a13-4b8e-ae58-9902fa0cd17e\" data-root-id=\"1891\"></div>\n"
      ]
     },
     "metadata": {},
     "output_type": "display_data"
    },
    {
     "data": {
      "application/javascript": [
       "(function(root) {\n",
       "  function embed_document(root) {\n",
       "    \n",
       "  var docs_json = {\"dcb30fc9-e441-4c81-8749-5a1f02b684b8\":{\"roots\":{\"references\":[{\"attributes\":{\"below\":[{\"id\":\"1902\",\"type\":\"LinearAxis\"}],\"center\":[{\"id\":\"1906\",\"type\":\"Grid\"},{\"id\":\"1911\",\"type\":\"Grid\"}],\"left\":[{\"id\":\"1907\",\"type\":\"LinearAxis\"}],\"plot_height\":250,\"plot_width\":700,\"renderers\":[{\"id\":\"1927\",\"type\":\"GlyphRenderer\"},{\"id\":\"2038\",\"type\":\"GlyphRenderer\"}],\"title\":{\"id\":\"1892\",\"type\":\"Title\"},\"toolbar\":{\"id\":\"1917\",\"type\":\"Toolbar\"},\"x_range\":{\"id\":\"1894\",\"type\":\"DataRange1d\"},\"x_scale\":{\"id\":\"1898\",\"type\":\"LinearScale\"},\"y_range\":{\"id\":\"1896\",\"type\":\"DataRange1d\"},\"y_scale\":{\"id\":\"1900\",\"type\":\"LinearScale\"}},\"id\":\"1891\",\"subtype\":\"Figure\",\"type\":\"Plot\"},{\"attributes\":{},\"id\":\"1983\",\"type\":\"BasicTickFormatter\"},{\"attributes\":{\"axis_label\":\"1/v\",\"formatter\":{\"id\":\"1983\",\"type\":\"BasicTickFormatter\"},\"ticker\":{\"id\":\"1908\",\"type\":\"BasicTicker\"}},\"id\":\"1907\",\"type\":\"LinearAxis\"},{\"attributes\":{},\"id\":\"1908\",\"type\":\"BasicTicker\"},{\"attributes\":{\"dimension\":1,\"ticker\":{\"id\":\"1908\",\"type\":\"BasicTicker\"}},\"id\":\"1911\",\"type\":\"Grid\"},{\"attributes\":{\"line_alpha\":0.1,\"line_color\":\"#1f77b4\",\"x\":{\"field\":\"x\"},\"y\":{\"field\":\"y\"}},\"id\":\"2037\",\"type\":\"Line\"},{\"attributes\":{\"callback\":null,\"tooltips\":[[\"substrate\",\"@s\"],[\"velocity\",\"@v\"]]},\"id\":\"1916\",\"type\":\"HoverTool\"},{\"attributes\":{},\"id\":\"1900\",\"type\":\"LinearScale\"},{\"attributes\":{},\"id\":\"1898\",\"type\":\"LinearScale\"},{\"attributes\":{},\"id\":\"1912\",\"type\":\"WheelZoomTool\"},{\"attributes\":{},\"id\":\"1913\",\"type\":\"ResetTool\"},{\"attributes\":{},\"id\":\"1985\",\"type\":\"UnionRenderers\"},{\"attributes\":{},\"id\":\"1914\",\"type\":\"PanTool\"},{\"attributes\":{\"text\":\"Linearizzazione di Lineweaver-Burk\"},\"id\":\"1892\",\"type\":\"Title\"},{\"attributes\":{\"overlay\":{\"id\":\"1986\",\"type\":\"BoxAnnotation\"}},\"id\":\"1915\",\"type\":\"BoxZoomTool\"},{\"attributes\":{\"active_drag\":\"auto\",\"active_inspect\":\"auto\",\"active_multi\":null,\"active_scroll\":\"auto\",\"active_tap\":\"auto\",\"tools\":[{\"id\":\"1912\",\"type\":\"WheelZoomTool\"},{\"id\":\"1913\",\"type\":\"ResetTool\"},{\"id\":\"1914\",\"type\":\"PanTool\"},{\"id\":\"1915\",\"type\":\"BoxZoomTool\"},{\"id\":\"1916\",\"type\":\"HoverTool\"}]},\"id\":\"1917\",\"type\":\"Toolbar\"},{\"attributes\":{\"callback\":null},\"id\":\"1894\",\"type\":\"DataRange1d\"},{\"attributes\":{\"callback\":null},\"id\":\"1896\",\"type\":\"DataRange1d\"},{\"attributes\":{\"line_color\":\"brown\",\"x\":{\"field\":\"x\"},\"y\":{\"field\":\"y\"}},\"id\":\"2036\",\"type\":\"Line\"},{\"attributes\":{},\"id\":\"1903\",\"type\":\"BasicTicker\"},{\"attributes\":{\"callback\":null,\"data\":{\"x\":{\"__ndarray__\":\"AAAAAAAAAAAAAAAAAAAAQA==\",\"dtype\":\"float64\",\"shape\":[2]},\"y\":{\"__ndarray__\":\"4rEvjpbrxT/g97WJn636Pw==\",\"dtype\":\"float64\",\"shape\":[2]}},\"selected\":{\"id\":\"2097\",\"type\":\"Selection\"},\"selection_policy\":{\"id\":\"2098\",\"type\":\"UnionRenderers\"}},\"id\":\"2035\",\"type\":\"ColumnDataSource\"},{\"attributes\":{},\"id\":\"1984\",\"type\":\"Selection\"},{\"attributes\":{\"data_source\":{\"id\":\"1923\",\"type\":\"ColumnDataSource\"},\"glyph\":{\"id\":\"1925\",\"type\":\"Circle\"},\"hover_glyph\":null,\"muted_glyph\":null,\"nonselection_glyph\":{\"id\":\"1926\",\"type\":\"Circle\"},\"selection_glyph\":null,\"view\":{\"id\":\"1928\",\"type\":\"CDSView\"}},\"id\":\"1927\",\"type\":\"GlyphRenderer\"},{\"attributes\":{\"axis_label\":\"1/s\",\"formatter\":{\"id\":\"1981\",\"type\":\"BasicTickFormatter\"},\"ticker\":{\"id\":\"1903\",\"type\":\"BasicTicker\"}},\"id\":\"1902\",\"type\":\"LinearAxis\"},{\"attributes\":{},\"id\":\"2097\",\"type\":\"Selection\"},{\"attributes\":{},\"id\":\"2098\",\"type\":\"UnionRenderers\"},{\"attributes\":{\"fill_color\":{\"value\":\"#1f77b4\"},\"line_color\":{\"value\":\"#1f77b4\"},\"x\":{\"field\":\"1/s\"},\"y\":{\"field\":\"1/v\"}},\"id\":\"1925\",\"type\":\"Circle\"},{\"attributes\":{\"source\":{\"id\":\"2035\",\"type\":\"ColumnDataSource\"}},\"id\":\"2039\",\"type\":\"CDSView\"},{\"attributes\":{\"ticker\":{\"id\":\"1903\",\"type\":\"BasicTicker\"}},\"id\":\"1906\",\"type\":\"Grid\"},{\"attributes\":{\"fill_alpha\":{\"value\":0.1},\"fill_color\":{\"value\":\"#1f77b4\"},\"line_alpha\":{\"value\":0.1},\"line_color\":{\"value\":\"#1f77b4\"},\"x\":{\"field\":\"1/s\"},\"y\":{\"field\":\"1/v\"}},\"id\":\"1926\",\"type\":\"Circle\"},{\"attributes\":{\"data_source\":{\"id\":\"2035\",\"type\":\"ColumnDataSource\"},\"glyph\":{\"id\":\"2036\",\"type\":\"Line\"},\"hover_glyph\":null,\"muted_glyph\":null,\"nonselection_glyph\":{\"id\":\"2037\",\"type\":\"Line\"},\"selection_glyph\":null,\"view\":{\"id\":\"2039\",\"type\":\"CDSView\"}},\"id\":\"2038\",\"type\":\"GlyphRenderer\"},{\"attributes\":{\"bottom_units\":\"screen\",\"fill_alpha\":{\"value\":0.5},\"fill_color\":{\"value\":\"lightgrey\"},\"left_units\":\"screen\",\"level\":\"overlay\",\"line_alpha\":{\"value\":1.0},\"line_color\":{\"value\":\"black\"},\"line_dash\":[4,4],\"line_width\":{\"value\":2},\"render_mode\":\"css\",\"right_units\":\"screen\",\"top_units\":\"screen\"},\"id\":\"1986\",\"type\":\"BoxAnnotation\"},{\"attributes\":{\"source\":{\"id\":\"1923\",\"type\":\"ColumnDataSource\"}},\"id\":\"1928\",\"type\":\"CDSView\"},{\"attributes\":{\"callback\":null,\"data\":{\"1/s\":{\"__ndarray__\":\"AAAAAAAAAEAAAAAAAADwP5qZmZmZmdk/kiRJkiRJ0j+amZmZmZnJPxEREREREcE/mpmZmZmZuT8RERERERGxP3sUrkfheqQ/exSuR+F6lD8d1EEd1EGNP08b6LSBTos/exSuR+F6hD8=\",\"dtype\":\"float64\",\"shape\":[13]},\"1/v\":{\"__ndarray__\":\"q6qqqqqq+j8XXXTRRRftP57neZ7ned4/vulNb3rT2z/BFPmsG0zRP1VVVVVVVdU/cUfcEXfEzT+rqqqqqqrKP/JW9jmkJsg/VVVVVVVVxT8aGRkZGRnJP0xnMZ3FdMY/fBphuacRxj8=\",\"dtype\":\"float64\",\"shape\":[13]},\"index\":[0,1,2,3,4,5,6,7,8,9,10,11,12],\"s\":{\"__ndarray__\":\"AAAAAAAA4D8AAAAAAADwPwAAAAAAAARAAAAAAAAADEAAAAAAAAAUQAAAAAAAAB5AAAAAAAAAJEAAAAAAAAAuQAAAAAAAADlAAAAAAAAASUAAAAAAAIBRQAAAAAAAwFJAAAAAAAAAWUA=\",\"dtype\":\"float64\",\"shape\":[13]},\"v\":{\"__ndarray__\":\"MzMzMzMz4z+amZmZmZnxP83MzMzMzABAZmZmZmZmAkCamZmZmZkNQAAAAAAAAAhAMzMzMzMzEUAzMzMzMzMTQDMzMzMzMxVAAAAAAAAAGEBmZmZmZmYUQM3MzMzMzBZAMzMzMzMzF0A=\",\"dtype\":\"float64\",\"shape\":[13]}},\"selected\":{\"id\":\"1984\",\"type\":\"Selection\"},\"selection_policy\":{\"id\":\"1985\",\"type\":\"UnionRenderers\"}},\"id\":\"1923\",\"type\":\"ColumnDataSource\"},{\"attributes\":{},\"id\":\"1981\",\"type\":\"BasicTickFormatter\"}],\"root_ids\":[\"1891\"]},\"title\":\"Bokeh Application\",\"version\":\"1.1.0\"}};\n",
       "  var render_items = [{\"docid\":\"dcb30fc9-e441-4c81-8749-5a1f02b684b8\",\"roots\":{\"1891\":\"a6bfe58d-7a13-4b8e-ae58-9902fa0cd17e\"}}];\n",
       "  root.Bokeh.embed.embed_items_notebook(docs_json, render_items);\n",
       "\n",
       "  }\n",
       "  if (root.Bokeh !== undefined) {\n",
       "    embed_document(root);\n",
       "  } else {\n",
       "    var attempts = 0;\n",
       "    var timer = setInterval(function(root) {\n",
       "      if (root.Bokeh !== undefined) {\n",
       "        embed_document(root);\n",
       "        clearInterval(timer);\n",
       "      }\n",
       "      attempts++;\n",
       "      if (attempts > 100) {\n",
       "        console.log(\"Bokeh: ERROR: Unable to run BokehJS code because BokehJS library is missing\");\n",
       "        clearInterval(timer);\n",
       "      }\n",
       "    }, 10, root)\n",
       "  }\n",
       "})(window);"
      ],
      "application/vnd.bokehjs_exec.v0+json": ""
     },
     "metadata": {
      "application/vnd.bokehjs_exec.v0+json": {
       "id": "1891"
      }
     },
     "output_type": "display_data"
    },
    {
     "data": {
      "text/plain": [
       "'Vmax = 5.839345186186045, Km = 4.368228433530428'"
      ]
     },
     "execution_count": 29,
     "metadata": {},
     "output_type": "execute_result"
    }
   ],
   "source": [
    "p1.line( x, y, color='brown')  # Aggiungiamo la retta al grafico\n",
    "show( p1 )\n",
    "'Vmax = {}, Km = {}'.format(Vmax1, Km1) "
   ]
  },
  {
   "cell_type": "markdown",
   "metadata": {
    "colab_type": "text",
    "id": "flAGQs9m0pLs"
   },
   "source": [
    "Altra breve introduzione teorica:\n",
    "<hr><br>\n",
    "\n",
    "# Linearizzazione 2: Eadie-Hofstee\n",
    "\n",
    "<br>\n",
    "\n",
    "\n",
    "$$\n",
    "v\n",
    "=\n",
    "-K_\\text{m}\\dfrac{v}{s}\\ +\\ V_\\text{max}\n",
    "$$\n",
    "\n",
    "<br><hr><br>\n",
    "\n",
    "Espandiamo il dataframe con i valori di `v/s`. "
   ]
  },
  {
   "cell_type": "code",
   "execution_count": 30,
   "metadata": {
    "colab": {
     "base_uri": "https://localhost:8080/",
     "height": 443
    },
    "colab_type": "code",
    "executionInfo": {
     "elapsed": 975,
     "status": "ok",
     "timestamp": 1554564011236,
     "user": {
      "displayName": "Domenico Zambella",
      "photoUrl": "https://lh3.googleusercontent.com/-BraGnYy55AA/AAAAAAAAAAI/AAAAAAAAAAA/ApUkkU1ZK3k/s64/photo.jpg",
      "userId": "03818394449923864400"
     },
     "user_tz": -120
    },
    "id": "jWKcvD_rxKx8",
    "outputId": "7ff6b653-31bc-4ff7-9e75-d2df373f7857"
   },
   "outputs": [
    {
     "data": {
      "text/html": [
       "<div>\n",
       "<style scoped>\n",
       "    .dataframe tbody tr th:only-of-type {\n",
       "        vertical-align: middle;\n",
       "    }\n",
       "\n",
       "    .dataframe tbody tr th {\n",
       "        vertical-align: top;\n",
       "    }\n",
       "\n",
       "    .dataframe thead th {\n",
       "        text-align: right;\n",
       "    }\n",
       "</style>\n",
       "<table border=\"1\" class=\"dataframe\">\n",
       "  <thead>\n",
       "    <tr style=\"text-align: right;\">\n",
       "      <th></th>\n",
       "      <th>s</th>\n",
       "      <th>v</th>\n",
       "      <th>1/s</th>\n",
       "      <th>1/v</th>\n",
       "      <th>v/s</th>\n",
       "    </tr>\n",
       "  </thead>\n",
       "  <tbody>\n",
       "    <tr>\n",
       "      <th>0</th>\n",
       "      <td>0.5</td>\n",
       "      <td>0.6</td>\n",
       "      <td>2.000000</td>\n",
       "      <td>1.666667</td>\n",
       "      <td>1.200000</td>\n",
       "    </tr>\n",
       "    <tr>\n",
       "      <th>1</th>\n",
       "      <td>1.0</td>\n",
       "      <td>1.1</td>\n",
       "      <td>1.000000</td>\n",
       "      <td>0.909091</td>\n",
       "      <td>1.100000</td>\n",
       "    </tr>\n",
       "    <tr>\n",
       "      <th>2</th>\n",
       "      <td>2.5</td>\n",
       "      <td>2.1</td>\n",
       "      <td>0.400000</td>\n",
       "      <td>0.476190</td>\n",
       "      <td>0.840000</td>\n",
       "    </tr>\n",
       "    <tr>\n",
       "      <th>3</th>\n",
       "      <td>3.5</td>\n",
       "      <td>2.3</td>\n",
       "      <td>0.285714</td>\n",
       "      <td>0.434783</td>\n",
       "      <td>0.657143</td>\n",
       "    </tr>\n",
       "    <tr>\n",
       "      <th>4</th>\n",
       "      <td>5.0</td>\n",
       "      <td>3.7</td>\n",
       "      <td>0.200000</td>\n",
       "      <td>0.270270</td>\n",
       "      <td>0.740000</td>\n",
       "    </tr>\n",
       "    <tr>\n",
       "      <th>5</th>\n",
       "      <td>7.5</td>\n",
       "      <td>3.0</td>\n",
       "      <td>0.133333</td>\n",
       "      <td>0.333333</td>\n",
       "      <td>0.400000</td>\n",
       "    </tr>\n",
       "    <tr>\n",
       "      <th>6</th>\n",
       "      <td>10.0</td>\n",
       "      <td>4.3</td>\n",
       "      <td>0.100000</td>\n",
       "      <td>0.232558</td>\n",
       "      <td>0.430000</td>\n",
       "    </tr>\n",
       "    <tr>\n",
       "      <th>7</th>\n",
       "      <td>15.0</td>\n",
       "      <td>4.8</td>\n",
       "      <td>0.066667</td>\n",
       "      <td>0.208333</td>\n",
       "      <td>0.320000</td>\n",
       "    </tr>\n",
       "    <tr>\n",
       "      <th>8</th>\n",
       "      <td>25.0</td>\n",
       "      <td>5.3</td>\n",
       "      <td>0.040000</td>\n",
       "      <td>0.188679</td>\n",
       "      <td>0.212000</td>\n",
       "    </tr>\n",
       "    <tr>\n",
       "      <th>9</th>\n",
       "      <td>50.0</td>\n",
       "      <td>6.0</td>\n",
       "      <td>0.020000</td>\n",
       "      <td>0.166667</td>\n",
       "      <td>0.120000</td>\n",
       "    </tr>\n",
       "    <tr>\n",
       "      <th>10</th>\n",
       "      <td>70.0</td>\n",
       "      <td>5.1</td>\n",
       "      <td>0.014286</td>\n",
       "      <td>0.196078</td>\n",
       "      <td>0.072857</td>\n",
       "    </tr>\n",
       "    <tr>\n",
       "      <th>11</th>\n",
       "      <td>75.0</td>\n",
       "      <td>5.7</td>\n",
       "      <td>0.013333</td>\n",
       "      <td>0.175439</td>\n",
       "      <td>0.076000</td>\n",
       "    </tr>\n",
       "    <tr>\n",
       "      <th>12</th>\n",
       "      <td>100.0</td>\n",
       "      <td>5.8</td>\n",
       "      <td>0.010000</td>\n",
       "      <td>0.172414</td>\n",
       "      <td>0.058000</td>\n",
       "    </tr>\n",
       "  </tbody>\n",
       "</table>\n",
       "</div>"
      ],
      "text/plain": [
       "        s    v       1/s       1/v       v/s\n",
       "0     0.5  0.6  2.000000  1.666667  1.200000\n",
       "1     1.0  1.1  1.000000  0.909091  1.100000\n",
       "2     2.5  2.1  0.400000  0.476190  0.840000\n",
       "3     3.5  2.3  0.285714  0.434783  0.657143\n",
       "4     5.0  3.7  0.200000  0.270270  0.740000\n",
       "5     7.5  3.0  0.133333  0.333333  0.400000\n",
       "6    10.0  4.3  0.100000  0.232558  0.430000\n",
       "7    15.0  4.8  0.066667  0.208333  0.320000\n",
       "8    25.0  5.3  0.040000  0.188679  0.212000\n",
       "9    50.0  6.0  0.020000  0.166667  0.120000\n",
       "10   70.0  5.1  0.014286  0.196078  0.072857\n",
       "11   75.0  5.7  0.013333  0.175439  0.076000\n",
       "12  100.0  5.8  0.010000  0.172414  0.058000"
      ]
     },
     "execution_count": 30,
     "metadata": {},
     "output_type": "execute_result"
    }
   ],
   "source": [
    "df['v/s'] = df['v'] / df['s']\n",
    "df"
   ]
  },
  {
   "cell_type": "code",
   "execution_count": 31,
   "metadata": {
    "colab": {
     "base_uri": "https://localhost:8080/",
     "height": 297
    },
    "colab_type": "code",
    "executionInfo": {
     "elapsed": 848,
     "status": "ok",
     "timestamp": 1554564017252,
     "user": {
      "displayName": "Domenico Zambella",
      "photoUrl": "https://lh3.googleusercontent.com/-BraGnYy55AA/AAAAAAAAAAI/AAAAAAAAAAA/ApUkkU1ZK3k/s64/photo.jpg",
      "userId": "03818394449923864400"
     },
     "user_tz": -120
    },
    "id": "7R868qF62GDL",
    "outputId": "72bfbf01-122c-43ae-ed0c-319c980880f8"
   },
   "outputs": [
    {
     "data": {
      "text/html": [
       "\n",
       "\n",
       "\n",
       "\n",
       "\n",
       "\n",
       "  <div class=\"bk-root\" id=\"cf9814cf-b7b2-4b4a-8e2b-1b4ab05de0da\" data-root-id=\"2160\"></div>\n"
      ]
     },
     "metadata": {},
     "output_type": "display_data"
    },
    {
     "data": {
      "application/javascript": [
       "(function(root) {\n",
       "  function embed_document(root) {\n",
       "    \n",
       "  var docs_json = {\"f2fd304c-a482-4f73-b1da-12495c2c8185\":{\"roots\":{\"references\":[{\"attributes\":{\"below\":[{\"id\":\"2171\",\"type\":\"LinearAxis\"}],\"center\":[{\"id\":\"2175\",\"type\":\"Grid\"},{\"id\":\"2180\",\"type\":\"Grid\"}],\"left\":[{\"id\":\"2176\",\"type\":\"LinearAxis\"}],\"plot_height\":250,\"plot_width\":700,\"renderers\":[{\"id\":\"2196\",\"type\":\"GlyphRenderer\"}],\"title\":{\"id\":\"2161\",\"type\":\"Title\"},\"toolbar\":{\"id\":\"2186\",\"type\":\"Toolbar\"},\"x_range\":{\"id\":\"2163\",\"type\":\"DataRange1d\"},\"x_scale\":{\"id\":\"2167\",\"type\":\"LinearScale\"},\"y_range\":{\"id\":\"2165\",\"type\":\"DataRange1d\"},\"y_scale\":{\"id\":\"2169\",\"type\":\"LinearScale\"}},\"id\":\"2160\",\"subtype\":\"Figure\",\"type\":\"Plot\"},{\"attributes\":{\"text\":\"Eadie-Hofstee\"},\"id\":\"2161\",\"type\":\"Title\"},{\"attributes\":{\"callback\":null},\"id\":\"2163\",\"type\":\"DataRange1d\"},{\"attributes\":{\"fill_color\":{\"value\":\"#1f77b4\"},\"line_color\":{\"value\":\"#1f77b4\"},\"x\":{\"field\":\"v/s\"},\"y\":{\"field\":\"v\"}},\"id\":\"2194\",\"type\":\"Circle\"},{\"attributes\":{\"callback\":null,\"data\":{\"1/s\":{\"__ndarray__\":\"AAAAAAAAAEAAAAAAAADwP5qZmZmZmdk/kiRJkiRJ0j+amZmZmZnJPxEREREREcE/mpmZmZmZuT8RERERERGxP3sUrkfheqQ/exSuR+F6lD8d1EEd1EGNP08b6LSBTos/exSuR+F6hD8=\",\"dtype\":\"float64\",\"shape\":[13]},\"1/v\":{\"__ndarray__\":\"q6qqqqqq+j8XXXTRRRftP57neZ7ned4/vulNb3rT2z/BFPmsG0zRP1VVVVVVVdU/cUfcEXfEzT+rqqqqqqrKP/JW9jmkJsg/VVVVVVVVxT8aGRkZGRnJP0xnMZ3FdMY/fBphuacRxj8=\",\"dtype\":\"float64\",\"shape\":[13]},\"index\":[0,1,2,3,4,5,6,7,8,9,10,11,12],\"s\":{\"__ndarray__\":\"AAAAAAAA4D8AAAAAAADwPwAAAAAAAARAAAAAAAAADEAAAAAAAAAUQAAAAAAAAB5AAAAAAAAAJEAAAAAAAAAuQAAAAAAAADlAAAAAAAAASUAAAAAAAIBRQAAAAAAAwFJAAAAAAAAAWUA=\",\"dtype\":\"float64\",\"shape\":[13]},\"v\":{\"__ndarray__\":\"MzMzMzMz4z+amZmZmZnxP83MzMzMzABAZmZmZmZmAkCamZmZmZkNQAAAAAAAAAhAMzMzMzMzEUAzMzMzMzMTQDMzMzMzMxVAAAAAAAAAGEBmZmZmZmYUQM3MzMzMzBZAMzMzMzMzF0A=\",\"dtype\":\"float64\",\"shape\":[13]},\"v/s\":{\"__ndarray__\":\"MzMzMzMz8z+amZmZmZnxP+J6FK5H4eo/dVAHdVAH5T+uR+F6FK7nP5qZmZmZmdk/hetRuB6F2z97FK5H4XrUP4lBYOXQIss/uB6F61G4vj8599kFxKayP9v5fmq8dLM/GARWDi2yrT8=\",\"dtype\":\"float64\",\"shape\":[13]}},\"selected\":{\"id\":\"2263\",\"type\":\"Selection\"},\"selection_policy\":{\"id\":\"2264\",\"type\":\"UnionRenderers\"}},\"id\":\"2192\",\"type\":\"ColumnDataSource\"},{\"attributes\":{\"callback\":null},\"id\":\"2165\",\"type\":\"DataRange1d\"},{\"attributes\":{\"data_source\":{\"id\":\"2192\",\"type\":\"ColumnDataSource\"},\"glyph\":{\"id\":\"2194\",\"type\":\"Circle\"},\"hover_glyph\":null,\"muted_glyph\":null,\"nonselection_glyph\":{\"id\":\"2195\",\"type\":\"Circle\"},\"selection_glyph\":null,\"view\":{\"id\":\"2197\",\"type\":\"CDSView\"}},\"id\":\"2196\",\"type\":\"GlyphRenderer\"},{\"attributes\":{},\"id\":\"2167\",\"type\":\"LinearScale\"},{\"attributes\":{\"bottom_units\":\"screen\",\"fill_alpha\":{\"value\":0.5},\"fill_color\":{\"value\":\"lightgrey\"},\"left_units\":\"screen\",\"level\":\"overlay\",\"line_alpha\":{\"value\":1.0},\"line_color\":{\"value\":\"black\"},\"line_dash\":[4,4],\"line_width\":{\"value\":2},\"render_mode\":\"css\",\"right_units\":\"screen\",\"top_units\":\"screen\"},\"id\":\"2265\",\"type\":\"BoxAnnotation\"},{\"attributes\":{\"fill_alpha\":{\"value\":0.1},\"fill_color\":{\"value\":\"#1f77b4\"},\"line_alpha\":{\"value\":0.1},\"line_color\":{\"value\":\"#1f77b4\"},\"x\":{\"field\":\"v/s\"},\"y\":{\"field\":\"v\"}},\"id\":\"2195\",\"type\":\"Circle\"},{\"attributes\":{},\"id\":\"2169\",\"type\":\"LinearScale\"},{\"attributes\":{\"axis_label\":\"v/s\",\"formatter\":{\"id\":\"2260\",\"type\":\"BasicTickFormatter\"},\"ticker\":{\"id\":\"2172\",\"type\":\"BasicTicker\"}},\"id\":\"2171\",\"type\":\"LinearAxis\"},{\"attributes\":{},\"id\":\"2172\",\"type\":\"BasicTicker\"},{\"attributes\":{},\"id\":\"2262\",\"type\":\"BasicTickFormatter\"},{\"attributes\":{\"ticker\":{\"id\":\"2172\",\"type\":\"BasicTicker\"}},\"id\":\"2175\",\"type\":\"Grid\"},{\"attributes\":{},\"id\":\"2263\",\"type\":\"Selection\"},{\"attributes\":{\"axis_label\":\"v\",\"formatter\":{\"id\":\"2262\",\"type\":\"BasicTickFormatter\"},\"ticker\":{\"id\":\"2177\",\"type\":\"BasicTicker\"}},\"id\":\"2176\",\"type\":\"LinearAxis\"},{\"attributes\":{},\"id\":\"2264\",\"type\":\"UnionRenderers\"},{\"attributes\":{},\"id\":\"2177\",\"type\":\"BasicTicker\"},{\"attributes\":{\"dimension\":1,\"ticker\":{\"id\":\"2177\",\"type\":\"BasicTicker\"}},\"id\":\"2180\",\"type\":\"Grid\"},{\"attributes\":{},\"id\":\"2260\",\"type\":\"BasicTickFormatter\"},{\"attributes\":{\"callback\":null,\"tooltips\":[[\"substrate\",\"@s\"],[\"velocity\",\"@v\"]]},\"id\":\"2185\",\"type\":\"HoverTool\"},{\"attributes\":{},\"id\":\"2181\",\"type\":\"WheelZoomTool\"},{\"attributes\":{},\"id\":\"2182\",\"type\":\"ResetTool\"},{\"attributes\":{},\"id\":\"2183\",\"type\":\"PanTool\"},{\"attributes\":{\"overlay\":{\"id\":\"2265\",\"type\":\"BoxAnnotation\"}},\"id\":\"2184\",\"type\":\"BoxZoomTool\"},{\"attributes\":{\"active_drag\":\"auto\",\"active_inspect\":\"auto\",\"active_multi\":null,\"active_scroll\":\"auto\",\"active_tap\":\"auto\",\"tools\":[{\"id\":\"2181\",\"type\":\"WheelZoomTool\"},{\"id\":\"2182\",\"type\":\"ResetTool\"},{\"id\":\"2183\",\"type\":\"PanTool\"},{\"id\":\"2184\",\"type\":\"BoxZoomTool\"},{\"id\":\"2185\",\"type\":\"HoverTool\"}]},\"id\":\"2186\",\"type\":\"Toolbar\"},{\"attributes\":{\"source\":{\"id\":\"2192\",\"type\":\"ColumnDataSource\"}},\"id\":\"2197\",\"type\":\"CDSView\"}],\"root_ids\":[\"2160\"]},\"title\":\"Bokeh Application\",\"version\":\"1.1.0\"}};\n",
       "  var render_items = [{\"docid\":\"f2fd304c-a482-4f73-b1da-12495c2c8185\",\"roots\":{\"2160\":\"cf9814cf-b7b2-4b4a-8e2b-1b4ab05de0da\"}}];\n",
       "  root.Bokeh.embed.embed_items_notebook(docs_json, render_items);\n",
       "\n",
       "  }\n",
       "  if (root.Bokeh !== undefined) {\n",
       "    embed_document(root);\n",
       "  } else {\n",
       "    var attempts = 0;\n",
       "    var timer = setInterval(function(root) {\n",
       "      if (root.Bokeh !== undefined) {\n",
       "        embed_document(root);\n",
       "        clearInterval(timer);\n",
       "      }\n",
       "      attempts++;\n",
       "      if (attempts > 100) {\n",
       "        console.log(\"Bokeh: ERROR: Unable to run BokehJS code because BokehJS library is missing\");\n",
       "        clearInterval(timer);\n",
       "      }\n",
       "    }, 10, root)\n",
       "  }\n",
       "})(window);"
      ],
      "application/vnd.bokehjs_exec.v0+json": ""
     },
     "metadata": {
      "application/vnd.bokehjs_exec.v0+json": {
       "id": "2160"
      }
     },
     "output_type": "display_data"
    }
   ],
   "source": [
    "p2 = figure(title = 'Eadie-Hofstee', x_axis_label='v/s', y_axis_label='v', **param )\n",
    "p2.circle( 'v/s', 'v', source=df ) # Plotto i punti (v/s, v)\n",
    "show( p2 )"
   ]
  },
  {
   "cell_type": "markdown",
   "metadata": {
    "colab_type": "text",
    "id": "2X7Xt1GNQnnE"
   },
   "source": [
    "Interpoliamo questi valori con una regressione lineare.\n",
    "\n",
    "Calcoliamo anche i valori di $V_\\text{max}$ e $K_\\text{m}$.\n",
    "\n",
    "Aggiungiamo la retta interpolante alla figura precedente."
   ]
  },
  {
   "cell_type": "code",
   "execution_count": 32,
   "metadata": {
    "colab": {
     "base_uri": "https://localhost:8080/",
     "height": 314
    },
    "colab_type": "code",
    "executionInfo": {
     "elapsed": 1597,
     "status": "ok",
     "timestamp": 1554563947469,
     "user": {
      "displayName": "Domenico Zambella",
      "photoUrl": "https://lh3.googleusercontent.com/-BraGnYy55AA/AAAAAAAAAAI/AAAAAAAAAAA/ApUkkU1ZK3k/s64/photo.jpg",
      "userId": "03818394449923864400"
     },
     "user_tz": -120
    },
    "id": "2ddo6SVa5DFV",
    "outputId": "177436b0-5b09-4abf-e959-46706a141dbc"
   },
   "outputs": [
    {
     "data": {
      "text/html": [
       "\n",
       "\n",
       "\n",
       "\n",
       "\n",
       "\n",
       "  <div class=\"bk-root\" id=\"f08c6933-1e78-4607-a109-b23b2560b61c\" data-root-id=\"2160\"></div>\n"
      ]
     },
     "metadata": {},
     "output_type": "display_data"
    },
    {
     "data": {
      "application/javascript": [
       "(function(root) {\n",
       "  function embed_document(root) {\n",
       "    \n",
       "  var docs_json = {\"5741bcb6-374f-4d37-b713-a97595816940\":{\"roots\":{\"references\":[{\"attributes\":{\"below\":[{\"id\":\"2171\",\"type\":\"LinearAxis\"}],\"center\":[{\"id\":\"2175\",\"type\":\"Grid\"},{\"id\":\"2180\",\"type\":\"Grid\"}],\"left\":[{\"id\":\"2176\",\"type\":\"LinearAxis\"}],\"plot_height\":250,\"plot_width\":700,\"renderers\":[{\"id\":\"2196\",\"type\":\"GlyphRenderer\"},{\"id\":\"2317\",\"type\":\"GlyphRenderer\"}],\"title\":{\"id\":\"2161\",\"type\":\"Title\"},\"toolbar\":{\"id\":\"2186\",\"type\":\"Toolbar\"},\"x_range\":{\"id\":\"2163\",\"type\":\"DataRange1d\"},\"x_scale\":{\"id\":\"2167\",\"type\":\"LinearScale\"},\"y_range\":{\"id\":\"2165\",\"type\":\"DataRange1d\"},\"y_scale\":{\"id\":\"2169\",\"type\":\"LinearScale\"}},\"id\":\"2160\",\"subtype\":\"Figure\",\"type\":\"Plot\"},{\"attributes\":{\"text\":\"Eadie-Hofstee\"},\"id\":\"2161\",\"type\":\"Title\"},{\"attributes\":{\"callback\":null},\"id\":\"2163\",\"type\":\"DataRange1d\"},{\"attributes\":{\"fill_color\":{\"value\":\"#1f77b4\"},\"line_color\":{\"value\":\"#1f77b4\"},\"x\":{\"field\":\"v/s\"},\"y\":{\"field\":\"v\"}},\"id\":\"2194\",\"type\":\"Circle\"},{\"attributes\":{\"callback\":null,\"data\":{\"1/s\":{\"__ndarray__\":\"AAAAAAAAAEAAAAAAAADwP5qZmZmZmdk/kiRJkiRJ0j+amZmZmZnJPxEREREREcE/mpmZmZmZuT8RERERERGxP3sUrkfheqQ/exSuR+F6lD8d1EEd1EGNP08b6LSBTos/exSuR+F6hD8=\",\"dtype\":\"float64\",\"shape\":[13]},\"1/v\":{\"__ndarray__\":\"q6qqqqqq+j8XXXTRRRftP57neZ7ned4/vulNb3rT2z/BFPmsG0zRP1VVVVVVVdU/cUfcEXfEzT+rqqqqqqrKP/JW9jmkJsg/VVVVVVVVxT8aGRkZGRnJP0xnMZ3FdMY/fBphuacRxj8=\",\"dtype\":\"float64\",\"shape\":[13]},\"index\":[0,1,2,3,4,5,6,7,8,9,10,11,12],\"s\":{\"__ndarray__\":\"AAAAAAAA4D8AAAAAAADwPwAAAAAAAARAAAAAAAAADEAAAAAAAAAUQAAAAAAAAB5AAAAAAAAAJEAAAAAAAAAuQAAAAAAAADlAAAAAAAAASUAAAAAAAIBRQAAAAAAAwFJAAAAAAAAAWUA=\",\"dtype\":\"float64\",\"shape\":[13]},\"v\":{\"__ndarray__\":\"MzMzMzMz4z+amZmZmZnxP83MzMzMzABAZmZmZmZmAkCamZmZmZkNQAAAAAAAAAhAMzMzMzMzEUAzMzMzMzMTQDMzMzMzMxVAAAAAAAAAGEBmZmZmZmYUQM3MzMzMzBZAMzMzMzMzF0A=\",\"dtype\":\"float64\",\"shape\":[13]},\"v/s\":{\"__ndarray__\":\"MzMzMzMz8z+amZmZmZnxP+J6FK5H4eo/dVAHdVAH5T+uR+F6FK7nP5qZmZmZmdk/hetRuB6F2z97FK5H4XrUP4lBYOXQIss/uB6F61G4vj8599kFxKayP9v5fmq8dLM/GARWDi2yrT8=\",\"dtype\":\"float64\",\"shape\":[13]}},\"selected\":{\"id\":\"2263\",\"type\":\"Selection\"},\"selection_policy\":{\"id\":\"2264\",\"type\":\"UnionRenderers\"}},\"id\":\"2192\",\"type\":\"ColumnDataSource\"},{\"attributes\":{\"callback\":null},\"id\":\"2165\",\"type\":\"DataRange1d\"},{\"attributes\":{\"line_color\":\"brown\",\"x\":{\"field\":\"x\"},\"y\":{\"field\":\"y\"}},\"id\":\"2315\",\"type\":\"Line\"},{\"attributes\":{\"data_source\":{\"id\":\"2192\",\"type\":\"ColumnDataSource\"},\"glyph\":{\"id\":\"2194\",\"type\":\"Circle\"},\"hover_glyph\":null,\"muted_glyph\":null,\"nonselection_glyph\":{\"id\":\"2195\",\"type\":\"Circle\"},\"selection_glyph\":null,\"view\":{\"id\":\"2197\",\"type\":\"CDSView\"}},\"id\":\"2196\",\"type\":\"GlyphRenderer\"},{\"attributes\":{},\"id\":\"2167\",\"type\":\"LinearScale\"},{\"attributes\":{\"bottom_units\":\"screen\",\"fill_alpha\":{\"value\":0.5},\"fill_color\":{\"value\":\"lightgrey\"},\"left_units\":\"screen\",\"level\":\"overlay\",\"line_alpha\":{\"value\":1.0},\"line_color\":{\"value\":\"black\"},\"line_dash\":[4,4],\"line_width\":{\"value\":2},\"render_mode\":\"css\",\"right_units\":\"screen\",\"top_units\":\"screen\"},\"id\":\"2265\",\"type\":\"BoxAnnotation\"},{\"attributes\":{\"line_alpha\":0.1,\"line_color\":\"#1f77b4\",\"x\":{\"field\":\"x\"},\"y\":{\"field\":\"y\"}},\"id\":\"2316\",\"type\":\"Line\"},{\"attributes\":{\"fill_alpha\":{\"value\":0.1},\"fill_color\":{\"value\":\"#1f77b4\"},\"line_alpha\":{\"value\":0.1},\"line_color\":{\"value\":\"#1f77b4\"},\"x\":{\"field\":\"v/s\"},\"y\":{\"field\":\"v\"}},\"id\":\"2195\",\"type\":\"Circle\"},{\"attributes\":{},\"id\":\"2169\",\"type\":\"LinearScale\"},{\"attributes\":{\"data_source\":{\"id\":\"2314\",\"type\":\"ColumnDataSource\"},\"glyph\":{\"id\":\"2315\",\"type\":\"Line\"},\"hover_glyph\":null,\"muted_glyph\":null,\"nonselection_glyph\":{\"id\":\"2316\",\"type\":\"Line\"},\"selection_glyph\":null,\"view\":{\"id\":\"2318\",\"type\":\"CDSView\"}},\"id\":\"2317\",\"type\":\"GlyphRenderer\"},{\"attributes\":{\"axis_label\":\"v/s\",\"formatter\":{\"id\":\"2260\",\"type\":\"BasicTickFormatter\"},\"ticker\":{\"id\":\"2172\",\"type\":\"BasicTicker\"}},\"id\":\"2171\",\"type\":\"LinearAxis\"},{\"attributes\":{\"source\":{\"id\":\"2314\",\"type\":\"ColumnDataSource\"}},\"id\":\"2318\",\"type\":\"CDSView\"},{\"attributes\":{},\"id\":\"2172\",\"type\":\"BasicTicker\"},{\"attributes\":{},\"id\":\"2262\",\"type\":\"BasicTickFormatter\"},{\"attributes\":{\"ticker\":{\"id\":\"2172\",\"type\":\"BasicTicker\"}},\"id\":\"2175\",\"type\":\"Grid\"},{\"attributes\":{},\"id\":\"2263\",\"type\":\"Selection\"},{\"attributes\":{\"axis_label\":\"v\",\"formatter\":{\"id\":\"2262\",\"type\":\"BasicTickFormatter\"},\"ticker\":{\"id\":\"2177\",\"type\":\"BasicTicker\"}},\"id\":\"2176\",\"type\":\"LinearAxis\"},{\"attributes\":{},\"id\":\"2264\",\"type\":\"UnionRenderers\"},{\"attributes\":{},\"id\":\"2387\",\"type\":\"UnionRenderers\"},{\"attributes\":{},\"id\":\"2177\",\"type\":\"BasicTicker\"},{\"attributes\":{\"dimension\":1,\"ticker\":{\"id\":\"2177\",\"type\":\"BasicTicker\"}},\"id\":\"2180\",\"type\":\"Grid\"},{\"attributes\":{},\"id\":\"2386\",\"type\":\"Selection\"},{\"attributes\":{},\"id\":\"2260\",\"type\":\"BasicTickFormatter\"},{\"attributes\":{\"callback\":null,\"tooltips\":[[\"substrate\",\"@s\"],[\"velocity\",\"@v\"]]},\"id\":\"2185\",\"type\":\"HoverTool\"},{\"attributes\":{},\"id\":\"2181\",\"type\":\"WheelZoomTool\"},{\"attributes\":{},\"id\":\"2182\",\"type\":\"ResetTool\"},{\"attributes\":{},\"id\":\"2183\",\"type\":\"PanTool\"},{\"attributes\":{\"overlay\":{\"id\":\"2265\",\"type\":\"BoxAnnotation\"}},\"id\":\"2184\",\"type\":\"BoxZoomTool\"},{\"attributes\":{\"active_drag\":\"auto\",\"active_inspect\":\"auto\",\"active_multi\":null,\"active_scroll\":\"auto\",\"active_tap\":\"auto\",\"tools\":[{\"id\":\"2181\",\"type\":\"WheelZoomTool\"},{\"id\":\"2182\",\"type\":\"ResetTool\"},{\"id\":\"2183\",\"type\":\"PanTool\"},{\"id\":\"2184\",\"type\":\"BoxZoomTool\"},{\"id\":\"2185\",\"type\":\"HoverTool\"}]},\"id\":\"2186\",\"type\":\"Toolbar\"},{\"attributes\":{\"callback\":null,\"data\":{\"x\":{\"__ndarray__\":\"GARWDi2yrT8zMzMzMzPzPw==\",\"dtype\":\"float64\",\"shape\":[2]},\"y\":{\"__ndarray__\":\"eif0++rPFkCoVXOF6fLjPw==\",\"dtype\":\"float64\",\"shape\":[2]}},\"selected\":{\"id\":\"2386\",\"type\":\"Selection\"},\"selection_policy\":{\"id\":\"2387\",\"type\":\"UnionRenderers\"}},\"id\":\"2314\",\"type\":\"ColumnDataSource\"},{\"attributes\":{\"source\":{\"id\":\"2192\",\"type\":\"ColumnDataSource\"}},\"id\":\"2197\",\"type\":\"CDSView\"}],\"root_ids\":[\"2160\"]},\"title\":\"Bokeh Application\",\"version\":\"1.1.0\"}};\n",
       "  var render_items = [{\"docid\":\"5741bcb6-374f-4d37-b713-a97595816940\",\"roots\":{\"2160\":\"f08c6933-1e78-4607-a109-b23b2560b61c\"}}];\n",
       "  root.Bokeh.embed.embed_items_notebook(docs_json, render_items);\n",
       "\n",
       "  }\n",
       "  if (root.Bokeh !== undefined) {\n",
       "    embed_document(root);\n",
       "  } else {\n",
       "    var attempts = 0;\n",
       "    var timer = setInterval(function(root) {\n",
       "      if (root.Bokeh !== undefined) {\n",
       "        embed_document(root);\n",
       "        clearInterval(timer);\n",
       "      }\n",
       "      attempts++;\n",
       "      if (attempts > 100) {\n",
       "        console.log(\"Bokeh: ERROR: Unable to run BokehJS code because BokehJS library is missing\");\n",
       "        clearInterval(timer);\n",
       "      }\n",
       "    }, 10, root)\n",
       "  }\n",
       "})(window);"
      ],
      "application/vnd.bokehjs_exec.v0+json": ""
     },
     "metadata": {
      "application/vnd.bokehjs_exec.v0+json": {
       "id": "2160"
      }
     },
     "output_type": "display_data"
    },
    {
     "data": {
      "text/plain": [
       "'Vmax = 5.961030175109625, Km = 4.448023173213158'"
      ]
     },
     "execution_count": 32,
     "metadata": {},
     "output_type": "execute_result"
    }
   ],
   "source": [
    "slope, intercept, r_value, p_value, std_err = linregress( df['v/s'], df['v'] )\n",
    "xmin = df['v/s'].min()        # Estremo sinistro dei valori della x del grafico\n",
    "xmax = df['v/s'].max()        # Estremo destro dei valori della x del grafico\n",
    "x = array( [xmin, xmax] )     # Un array di 2 punti tra xmin e xmax\n",
    "y = x * slope + intercept     # I valori previsti dalla retta interpolante\n",
    "Vmax2 = intercept\n",
    "Km2   = - slope\n",
    "p2.line( x, y, color='brown') # Aggiungiamo la retta al grafico\n",
    "show( p2 )\n",
    "'Vmax = {}, Km = {}'.format(Vmax2, Km2) "
   ]
  },
  {
   "cell_type": "markdown",
   "metadata": {},
   "source": [
    "Altra breve introduzione teorica:\n",
    "<hr><br>\n",
    "\n",
    "# Linearizzazione 3: Hanes\n",
    "\n",
    "<br>\n",
    "\n",
    "$$\n",
    "\\dfrac{s}{v}\n",
    "=\n",
    "\\dfrac{1}{V_\\text{max}}\\cdot s\\ +\\ \\dfrac{K_\\text{m}}{V_\\text{max}}\n",
    "$$\n",
    "\n",
    "Espandiamo il dataframe con i valori de `s/v` e calcoliamo i valori di $K_\\text{m}$ e $V_\\text{max}$ usano una regressione lineare in maniera del tutto analoga a quanto fatto sopra."
   ]
  },
  {
   "cell_type": "code",
   "execution_count": 33,
   "metadata": {
    "scrolled": true
   },
   "outputs": [
    {
     "data": {
      "text/html": [
       "\n",
       "\n",
       "\n",
       "\n",
       "\n",
       "\n",
       "  <div class=\"bk-root\" id=\"fc5c6c35-064b-4113-a1cb-4b4f9257c9aa\" data-root-id=\"2449\"></div>\n"
      ]
     },
     "metadata": {},
     "output_type": "display_data"
    },
    {
     "data": {
      "application/javascript": [
       "(function(root) {\n",
       "  function embed_document(root) {\n",
       "    \n",
       "  var docs_json = {\"60ec4fc1-e943-4c88-a91f-ae81708c8319\":{\"roots\":{\"references\":[{\"attributes\":{\"below\":[{\"id\":\"2460\",\"type\":\"LinearAxis\"}],\"center\":[{\"id\":\"2464\",\"type\":\"Grid\"},{\"id\":\"2469\",\"type\":\"Grid\"}],\"left\":[{\"id\":\"2465\",\"type\":\"LinearAxis\"}],\"plot_height\":250,\"plot_width\":700,\"renderers\":[{\"id\":\"2485\",\"type\":\"GlyphRenderer\"},{\"id\":\"2490\",\"type\":\"GlyphRenderer\"}],\"title\":{\"id\":\"2450\",\"type\":\"Title\"},\"toolbar\":{\"id\":\"2475\",\"type\":\"Toolbar\"},\"x_range\":{\"id\":\"2452\",\"type\":\"DataRange1d\"},\"x_scale\":{\"id\":\"2456\",\"type\":\"LinearScale\"},\"y_range\":{\"id\":\"2454\",\"type\":\"DataRange1d\"},\"y_scale\":{\"id\":\"2458\",\"type\":\"LinearScale\"}},\"id\":\"2449\",\"subtype\":\"Figure\",\"type\":\"Plot\"},{\"attributes\":{\"ticker\":{\"id\":\"2461\",\"type\":\"BasicTicker\"}},\"id\":\"2464\",\"type\":\"Grid\"},{\"attributes\":{\"axis_label\":\"s\",\"formatter\":{\"id\":\"2564\",\"type\":\"BasicTickFormatter\"},\"ticker\":{\"id\":\"2461\",\"type\":\"BasicTicker\"}},\"id\":\"2460\",\"type\":\"LinearAxis\"},{\"attributes\":{\"line_color\":\"brown\",\"x\":{\"field\":\"x\"},\"y\":{\"field\":\"y\"}},\"id\":\"2488\",\"type\":\"Line\"},{\"attributes\":{\"axis_label\":\"s/v\",\"formatter\":{\"id\":\"2566\",\"type\":\"BasicTickFormatter\"},\"ticker\":{\"id\":\"2466\",\"type\":\"BasicTicker\"}},\"id\":\"2465\",\"type\":\"LinearAxis\"},{\"attributes\":{},\"id\":\"2566\",\"type\":\"BasicTickFormatter\"},{\"attributes\":{\"line_alpha\":0.1,\"line_color\":\"#1f77b4\",\"x\":{\"field\":\"x\"},\"y\":{\"field\":\"y\"}},\"id\":\"2489\",\"type\":\"Line\"},{\"attributes\":{},\"id\":\"2466\",\"type\":\"BasicTicker\"},{\"attributes\":{\"data_source\":{\"id\":\"2487\",\"type\":\"ColumnDataSource\"},\"glyph\":{\"id\":\"2488\",\"type\":\"Line\"},\"hover_glyph\":null,\"muted_glyph\":null,\"nonselection_glyph\":{\"id\":\"2489\",\"type\":\"Line\"},\"selection_glyph\":null,\"view\":{\"id\":\"2491\",\"type\":\"CDSView\"}},\"id\":\"2490\",\"type\":\"GlyphRenderer\"},{\"attributes\":{\"dimension\":1,\"ticker\":{\"id\":\"2466\",\"type\":\"BasicTicker\"}},\"id\":\"2469\",\"type\":\"Grid\"},{\"attributes\":{\"source\":{\"id\":\"2487\",\"type\":\"ColumnDataSource\"}},\"id\":\"2491\",\"type\":\"CDSView\"},{\"attributes\":{\"callback\":null,\"tooltips\":[[\"substrate\",\"@s\"],[\"velocity\",\"@v\"]]},\"id\":\"2474\",\"type\":\"HoverTool\"},{\"attributes\":{},\"id\":\"2470\",\"type\":\"WheelZoomTool\"},{\"attributes\":{},\"id\":\"2567\",\"type\":\"Selection\"},{\"attributes\":{},\"id\":\"2471\",\"type\":\"ResetTool\"},{\"attributes\":{},\"id\":\"2568\",\"type\":\"UnionRenderers\"},{\"attributes\":{},\"id\":\"2472\",\"type\":\"PanTool\"},{\"attributes\":{},\"id\":\"2569\",\"type\":\"Selection\"},{\"attributes\":{\"overlay\":{\"id\":\"2571\",\"type\":\"BoxAnnotation\"}},\"id\":\"2473\",\"type\":\"BoxZoomTool\"},{\"attributes\":{},\"id\":\"2570\",\"type\":\"UnionRenderers\"},{\"attributes\":{\"active_drag\":\"auto\",\"active_inspect\":\"auto\",\"active_multi\":null,\"active_scroll\":\"auto\",\"active_tap\":\"auto\",\"tools\":[{\"id\":\"2470\",\"type\":\"WheelZoomTool\"},{\"id\":\"2471\",\"type\":\"ResetTool\"},{\"id\":\"2472\",\"type\":\"PanTool\"},{\"id\":\"2473\",\"type\":\"BoxZoomTool\"},{\"id\":\"2474\",\"type\":\"HoverTool\"}]},\"id\":\"2475\",\"type\":\"Toolbar\"},{\"attributes\":{\"bottom_units\":\"screen\",\"fill_alpha\":{\"value\":0.5},\"fill_color\":{\"value\":\"lightgrey\"},\"left_units\":\"screen\",\"level\":\"overlay\",\"line_alpha\":{\"value\":1.0},\"line_color\":{\"value\":\"black\"},\"line_dash\":[4,4],\"line_width\":{\"value\":2},\"render_mode\":\"css\",\"right_units\":\"screen\",\"top_units\":\"screen\"},\"id\":\"2571\",\"type\":\"BoxAnnotation\"},{\"attributes\":{\"source\":{\"id\":\"2481\",\"type\":\"ColumnDataSource\"}},\"id\":\"2486\",\"type\":\"CDSView\"},{\"attributes\":{},\"id\":\"2461\",\"type\":\"BasicTicker\"},{\"attributes\":{\"callback\":null,\"data\":{\"x\":{\"__ndarray__\":\"AAAAAAAAAAAzMzMzMzPzPw==\",\"dtype\":\"float64\",\"shape\":[2]},\"y\":{\"__ndarray__\":\"MPIcE+3a5z+O0yCtSkzuPw==\",\"dtype\":\"float64\",\"shape\":[2]}},\"selected\":{\"id\":\"2569\",\"type\":\"Selection\"},\"selection_policy\":{\"id\":\"2570\",\"type\":\"UnionRenderers\"}},\"id\":\"2487\",\"type\":\"ColumnDataSource\"},{\"attributes\":{\"callback\":null,\"data\":{\"1/s\":{\"__ndarray__\":\"AAAAAAAAAEAAAAAAAADwP5qZmZmZmdk/kiRJkiRJ0j+amZmZmZnJPxEREREREcE/mpmZmZmZuT8RERERERGxP3sUrkfheqQ/exSuR+F6lD8d1EEd1EGNP08b6LSBTos/exSuR+F6hD8=\",\"dtype\":\"float64\",\"shape\":[13]},\"1/v\":{\"__ndarray__\":\"q6qqqqqq+j8XXXTRRRftP57neZ7ned4/vulNb3rT2z/BFPmsG0zRP1VVVVVVVdU/cUfcEXfEzT+rqqqqqqrKP/JW9jmkJsg/VVVVVVVVxT8aGRkZGRnJP0xnMZ3FdMY/fBphuacRxj8=\",\"dtype\":\"float64\",\"shape\":[13]},\"index\":[0,1,2,3,4,5,6,7,8,9,10,11,12],\"s\":{\"__ndarray__\":\"AAAAAAAA4D8AAAAAAADwPwAAAAAAAARAAAAAAAAADEAAAAAAAAAUQAAAAAAAAB5AAAAAAAAAJEAAAAAAAAAuQAAAAAAAADlAAAAAAAAASUAAAAAAAIBRQAAAAAAAwFJAAAAAAAAAWUA=\",\"dtype\":\"float64\",\"shape\":[13]},\"s/v\":{\"__ndarray__\":\"q6qqqqqq6j8XXXTRRRftP8MwDMMwDPM/hixkIQtZ+D/yWTeYIp/1PwAAAAAAAARAp6wpa8qaAkAAAAAAAAAJQO1zSE0w3hJAq6qqqqqqIEB0c3Nzc3MrQA3lNZTXUCpAsdzTCMs9MUA=\",\"dtype\":\"float64\",\"shape\":[13]},\"v\":{\"__ndarray__\":\"MzMzMzMz4z+amZmZmZnxP83MzMzMzABAZmZmZmZmAkCamZmZmZkNQAAAAAAAAAhAMzMzMzMzEUAzMzMzMzMTQDMzMzMzMxVAAAAAAAAAGEBmZmZmZmYUQM3MzMzMzBZAMzMzMzMzF0A=\",\"dtype\":\"float64\",\"shape\":[13]},\"v/s\":{\"__ndarray__\":\"MzMzMzMz8z+amZmZmZnxP+J6FK5H4eo/dVAHdVAH5T+uR+F6FK7nP5qZmZmZmdk/hetRuB6F2z97FK5H4XrUP4lBYOXQIss/uB6F61G4vj8599kFxKayP9v5fmq8dLM/GARWDi2yrT8=\",\"dtype\":\"float64\",\"shape\":[13]}},\"selected\":{\"id\":\"2567\",\"type\":\"Selection\"},\"selection_policy\":{\"id\":\"2568\",\"type\":\"UnionRenderers\"}},\"id\":\"2481\",\"type\":\"ColumnDataSource\"},{\"attributes\":{\"text\":\"Hanes\"},\"id\":\"2450\",\"type\":\"Title\"},{\"attributes\":{},\"id\":\"2564\",\"type\":\"BasicTickFormatter\"},{\"attributes\":{\"callback\":null},\"id\":\"2452\",\"type\":\"DataRange1d\"},{\"attributes\":{\"callback\":null},\"id\":\"2454\",\"type\":\"DataRange1d\"},{\"attributes\":{\"data_source\":{\"id\":\"2481\",\"type\":\"ColumnDataSource\"},\"glyph\":{\"id\":\"2483\",\"type\":\"Circle\"},\"hover_glyph\":null,\"muted_glyph\":null,\"nonselection_glyph\":{\"id\":\"2484\",\"type\":\"Circle\"},\"selection_glyph\":null,\"view\":{\"id\":\"2486\",\"type\":\"CDSView\"}},\"id\":\"2485\",\"type\":\"GlyphRenderer\"},{\"attributes\":{},\"id\":\"2456\",\"type\":\"LinearScale\"},{\"attributes\":{\"fill_alpha\":{\"value\":0.1},\"fill_color\":{\"value\":\"#1f77b4\"},\"line_alpha\":{\"value\":0.1},\"line_color\":{\"value\":\"#1f77b4\"},\"x\":{\"field\":\"s\"},\"y\":{\"field\":\"s/v\"}},\"id\":\"2484\",\"type\":\"Circle\"},{\"attributes\":{\"fill_color\":{\"value\":\"#1f77b4\"},\"line_color\":{\"value\":\"#1f77b4\"},\"x\":{\"field\":\"s\"},\"y\":{\"field\":\"s/v\"}},\"id\":\"2483\",\"type\":\"Circle\"},{\"attributes\":{},\"id\":\"2458\",\"type\":\"LinearScale\"}],\"root_ids\":[\"2449\"]},\"title\":\"Bokeh Application\",\"version\":\"1.1.0\"}};\n",
       "  var render_items = [{\"docid\":\"60ec4fc1-e943-4c88-a91f-ae81708c8319\",\"roots\":{\"2449\":\"fc5c6c35-064b-4113-a1cb-4b4f9257c9aa\"}}];\n",
       "  root.Bokeh.embed.embed_items_notebook(docs_json, render_items);\n",
       "\n",
       "  }\n",
       "  if (root.Bokeh !== undefined) {\n",
       "    embed_document(root);\n",
       "  } else {\n",
       "    var attempts = 0;\n",
       "    var timer = setInterval(function(root) {\n",
       "      if (root.Bokeh !== undefined) {\n",
       "        embed_document(root);\n",
       "        clearInterval(timer);\n",
       "      }\n",
       "      attempts++;\n",
       "      if (attempts > 100) {\n",
       "        console.log(\"Bokeh: ERROR: Unable to run BokehJS code because BokehJS library is missing\");\n",
       "        clearInterval(timer);\n",
       "      }\n",
       "    }, 10, root)\n",
       "  }\n",
       "})(window);"
      ],
      "application/vnd.bokehjs_exec.v0+json": ""
     },
     "metadata": {
      "application/vnd.bokehjs_exec.v0+json": {
       "id": "2449"
      }
     },
     "output_type": "display_data"
    },
    {
     "data": {
      "text/plain": [
       "'Vmax = 5.960109640483072, Km = 4.443109003999377'"
      ]
     },
     "execution_count": 33,
     "metadata": {},
     "output_type": "execute_result"
    }
   ],
   "source": [
    "df['s/v'] = df['s'] / df['v']\n",
    "slope, intercept, r_value, p_value, std_err = linregress( df['s'], df['s/v'] )\n",
    "xmax = df['v/s'].max()            # Estremo destro dei valori della x del grafico\n",
    "x = array( [0, xmax] )            # Un array di 2 punti tra 0 e xmax\n",
    "y = x * slope + intercept         # I valori previsti dalla retta interpolante\n",
    "Vmax3 = 1 / slope\n",
    "Km3   = intercept / slope\n",
    "p3 = figure(title = 'Hanes', x_axis_label='s', y_axis_label='s/v', **param)\n",
    "p3.circle( 's', 's/v', source=df ) # Plotto i punti (s, s/v)\n",
    "p3.line( x, y, color='brown')      # Aggiungiamo la retta al grafico\n",
    "show( p3 )\n",
    "'Vmax = {}, Km = {}'.format(Vmax3, Km3)"
   ]
  },
  {
   "cell_type": "markdown",
   "metadata": {},
   "source": [
    "The End\n",
    "\n",
    "<hr><hr><hr>\n",
    "\n",
    "Next cell loads some html style files (it may be either run/ignored/deleted)\n"
   ]
  },
  {
   "cell_type": "code",
   "execution_count": 38,
   "metadata": {},
   "outputs": [
    {
     "data": {
      "text/html": [
       "<style>\n",
       "div.jp-MarkdownOutput {font-family: \"Times New Roman\", Times, serif;   \n",
       "    /* background-color: #eee;  */\n",
       "    /* border-left: 5px solid #00b5b4; */\n",
       "    font-size: 10pt;\n",
       "    line-height: 140%;\n",
       "}\n",
       ".text_cell_render {\n",
       "    font-family: \"Times New Roman\", Times, serif;    \n",
       "    /* background-color: #eee;  */\n",
       "    /* border-left: 5px solid #00b5b4; */\n",
       "    font-size: 14pt;\n",
       "    line-height: 140%;s\n",
       "}\n",
       "\n",
       "h1 {\n",
       "    font-size: xx-large  !important;\n",
       "    margin-top: 0ex !important;\n",
       "}\n",
       "\n",
       "h2 {\n",
       "    font-size: larger !important;\n",
       "    margin-top: 0ex !important;\n",
       "    margin-bottom: 0ex !important;\n",
       "    padding-bottom: 0ex !important;\n",
       "}\n",
       "\n",
       "h3 {\n",
       "    font-size: large !important;\n",
       "    margin-top: 0ex !important;\n",
       "    margin-bottom: 0ex !important;\n",
       "    padding-bottom: 0ex !important;\n",
       "}\n",
       "\n",
       "mark {\n",
       "    background-color: #ffdd00;\n",
       "    border-top-right-radius: 5px;\n",
       "    border-top-left-radius: 5px;\n",
       "    border-bottom-right-radius: 5px;\n",
       "    border-bottom-left-radius: 5px;\n",
       "    padding-top: 0.1ex;\n",
       "    padding-bottom: 0.2ex;\n",
       "    padding-left: 0.7ex;\n",
       "    padding-right: 0.7ex;\n",
       "}\n",
       "\n",
       ".ita {\n",
       "    background-color: #bbddee;\n",
       "}\n",
       "\n",
       ".errore {background-color:#d88;\n",
       "        width:310px;\n",
       "        height:17ex;\n",
       "        display:inline-block;\n",
       "        margin:5px;\n",
       "        padding:8px;\n",
       "}\n",
       "\n",
       ".corretto {background-color:#2d8;\n",
       "        width:310px;\n",
       "        height:17ex;\n",
       "        display:inline-block;\n",
       "        margin:5px;\n",
       "        padding:8px;\n",
       "}\n",
       "\n",
       "n-a {background-color: #ffdddd;}\n",
       "\n",
       "ul, ol {\n",
       "     padding-left: 2ex !important;\n",
       "}\n",
       "ul {\n",
       "     margin-top: 0ex !important;\n",
       "     margin-bottom: 0ex !important;\n",
       "     list-style-type: square !important;\n",
       "}\n",
       "\n",
       "div.warn {    \n",
       "    background-color: #fcf2f2;\n",
       "    border-color: #dFb5b4;\n",
       "    border-left: 5px solid #dfb5b4;\n",
       "    margin-top: 1ex;\n",
       "    padding: 1ex;\n",
       "}\n",
       ".right{\n",
       "    float:right\n",
       "}\n",
       "\n",
       "hr { \n",
       "    display: block;\n",
       "    margin-top: 0.5ex;\n",
       "    margin-bottom: 0.5ex;\n",
       "    margin-left: auto;\n",
       "    margin-right: auto;\n",
       "    border-style: inset;\n",
       "    border-width: 1px;\n",
       "}\n",
       "</style>\n"
      ],
      "text/plain": [
       "<IPython.core.display.HTML object>"
      ]
     },
     "execution_count": 38,
     "metadata": {},
     "output_type": "execute_result"
    }
   ],
   "source": [
    "import requests\n",
    "from IPython.core.display import HTML\n",
    "html_style = requests.get(  baseURL + 'lezioni/style/custom.css' ).text\n",
    "HTML( html_style )"
   ]
  }
 ],
 "metadata": {
  "colab": {
   "collapsed_sections": [],
   "name": "5_.ipynb",
   "provenance": [],
   "version": "0.3.2"
  },
  "kernelspec": {
   "display_name": "Python 3",
   "language": "python",
   "name": "python3"
  },
  "language_info": {
   "codemirror_mode": {
    "name": "ipython",
    "version": 3
   },
   "file_extension": ".py",
   "mimetype": "text/x-python",
   "name": "python",
   "nbconvert_exporter": "python",
   "pygments_lexer": "ipython3",
   "version": "3.6.7"
  }
 },
 "nbformat": 4,
 "nbformat_minor": 1
}
