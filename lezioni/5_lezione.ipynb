{
 "cells": [
  {
   "cell_type": "markdown",
   "metadata": {
    "colab_type": "text",
    "id": "tWKPYsVLihQB"
   },
   "source": [
    "# Quinta lezione"
   ]
  },
  {
   "cell_type": "markdown",
   "metadata": {
    "colab_type": "text",
    "id": "l1QyA9_4ihQY"
   },
   "source": [
    "I notebook possono essere usati per pubblicazioni o per ausilo a pubblicazioni (cioè come integrazione a pubblicazioni in formato tradizionale).\n",
    "\n",
    "Proviamo a produrre un ideale rapporto sull'analisi di un set di misure.\n",
    "\n",
    "*  Conterrà spegazione del contesto teorico (qui sotto un esempio).\n",
    "\n",
    "*  Conterrà i dati e la procedura usata per elaborarli.\n",
    "\n",
    "È realistico immaginare che il rapporto venga pubblicato in formato `.html`. Questo permette di includere grafica interattiva ma NON offre la possibilità di interagire dinamicamente con il documento (modificando il codice o dei parametri). Mettere a disposizione il sorgente in formato `.ipynb` è auspicabile. Ma potrebbe non essere sufficiente per chi vuole fruire immediatamente del codice (salvarlo in un ambiente dove si ha accesso ad un installazione di Jupyter potrebbe essere \"a click too far\" per qualche lettore).\n",
    "\n",
    "Esistono un paio di possibilità.<br><br>\n",
    "\n",
    "*   [Binder](https://mybinder.org/) è un servizio offerto da Github per interagire con notebooks. Permette di creare un  [link](https://mybinder.org/v2/gh/domenicozambella/BioTeIndu19/master?filepath=lezioni%2F5_lezione.ipynb) da condividere. Spesso nei documenti il link viene incluso con il suo caratteristico bottone \n",
    "[![Binder](https://mybinder.org/badge_logo.svg)](https://mybinder.org/v2/gh/domenicozambella/BioTeIndu19/master?filepath=lezioni%2F5_lezione.ipynb) \n",
    "Ha due princpali difetti. Lento a caricare (perché crea una macchina virtuale) e si disattiva dopo un breve periodo di inattività.<br><br>\n",
    "\n",
    "*   [Google Coloboratory](https://colab.research.google.com/notebooks/welcome.ipynb) (anche detto Colab) è un servizio analogo offerto da Google. \n",
    "[![Open In Colab](https://colab.research.google.com/assets/colab-badge.svg)](https://colab.research.google.com/github/domenicozambella/BioTeIndu19/blob/master/lezioni/5_lezione.ipynb)\n",
    "Ha comme princiali difetti l'interfaccia non standard e il fatto che funziona solo con Python notebooks (niente R, Julia, ecc.).\n",
    "\n",
    "<br><br>"
   ]
  },
  {
   "cell_type": "markdown",
   "metadata": {
    "colab_type": "text",
    "id": "C20b6JoDihQb"
   },
   "source": [
    "Esempio di introduzione teorica:\n",
    "<hr>\n",
    "\n",
    "# Theoretical Backgound: the Michaelis-Menten equation\n",
    "\n",
    "\n",
    "Mathematical models of enzymes can take many forms, but the best known is the [Michaelis-Menten equation](https://en.wikipedia.org/wiki/Michaelis–Menten_kinetics) which considers the the mechanism of an irreversible enzyme ($E$) producing product ($P$) from substrate ($S$):\n",
    "\n",
    "$$\n",
    "S + E \n",
    "\\overset{k_f}{\\underset{k_r}{\\rightleftharpoons}} \n",
    "SE \n",
    "\\overset{k_\\text{cat}}{\\longrightarrow} \n",
    "S + P \n",
    "\\ \\implies\\ \n",
    "v = \\frac{\\mathrm{d}p}{\\mathrm{d}t} = \\frac{V_\\text{max}\\cdot s}{K_m + s}\n",
    "$$\n",
    "\n",
    "- $s$ is the *concentration of substrate $S$*\n",
    "- $p$ is the *concentration of product $P$*\n",
    "- $k_f$ is called the *association constant*\n",
    "- $k_r$ is called the *disassociation constant*\n",
    "- $k_\\text{cat}$ is called the *turnover number*\n",
    "- $K_m = (k_\\text{cat} + k_{r})\\;/\\;k_f$ is called the *Michaelis constant*\n",
    "- $e_0$ is the *initial concentration of enzyme*\n",
    "- $V_\\text{max} = k_\\text{cat}e_0$ is the *maximum catalytic rate*\n",
    "\n",
    "<hr>"
   ]
  },
  {
   "cell_type": "markdown",
   "metadata": {
    "colab_type": "text",
    "id": "7EyKfhG9P6fp"
   },
   "source": [
    "I dati li leggo direttamente dalla repositoria su github, perché rende il notebook più facilmente esportabile."
   ]
  },
  {
   "cell_type": "code",
   "execution_count": 1,
   "metadata": {
    "colab": {
     "base_uri": "https://localhost:8080/",
     "height": 443
    },
    "colab_type": "code",
    "executionInfo": {
     "elapsed": 6101,
     "status": "ok",
     "timestamp": 1554630080638,
     "user": {
      "displayName": "Domenico Zambella",
      "photoUrl": "https://lh3.googleusercontent.com/-BraGnYy55AA/AAAAAAAAAAI/AAAAAAAAAAA/ApUkkU1ZK3k/s64/photo.jpg",
      "userId": "03818394449923864400"
     },
     "user_tz": -120
    },
    "id": "444RfsqhihQf",
    "outputId": "64eabe28-c253-4f28-d0e2-438103f9dfdf",
    "scrolled": true
   },
   "outputs": [],
   "source": [
    "import pandas as pd\n",
    "URL = 'https://raw.githubusercontent.com/domenicozambella/BioTeIndu19/master/dati/mm1.csv'\n",
    "df = pd.read_csv(URL)"
   ]
  },
  {
   "cell_type": "markdown",
   "metadata": {},
   "source": [
    "Tabelle così piccole possono anche essere inserite manualmente con la seguente sintassi."
   ]
  },
  {
   "cell_type": "code",
   "execution_count": 2,
   "metadata": {},
   "outputs": [],
   "source": [
    "data = dict(s = [0.5,1,2.5,3.5,5,7.5,10,15,25,50,70,75,100],\n",
    "            v = [0.6,1.1,2.1,2.3,3.7,3.,4.3,4.8,5.3,6.0,5.1,5.7,5.8],\n",
    "           )\n",
    "df = pd.DataFrame(data)"
   ]
  },
  {
   "cell_type": "markdown",
   "metadata": {
    "colab_type": "text",
    "id": "GyAW1I0cihQp"
   },
   "source": [
    "Per prima cosa importiamo importiamo il pacchetto grafico. Salviamo in una variabile, `param`, alcuni parametri grafici che useremo in tutte le figure sottostanti (si ignori per il momento la sintassi del comando)."
   ]
  },
  {
   "cell_type": "code",
   "execution_count": 3,
   "metadata": {
    "colab": {},
    "colab_type": "code",
    "id": "VFMUdhNsihQr"
   },
   "outputs": [],
   "source": [
    "from bokeh.plotting import figure, show, output_notebook\n",
    "param = dict(width = 700, height = 250,\n",
    "             tools = 'wheel_zoom, reset,pan, box_zoom',\n",
    "             tooltips = [( 'substrate',   '@s'), ( 'velocity',   '@v')],\n",
    "            )"
   ]
  },
  {
   "cell_type": "markdown",
   "metadata": {
    "colab_type": "text",
    "id": "CCBsajWlnm85"
   },
   "source": [
    "## Linearizzazione 1: Lineweaver-Burk\n",
    "\n",
    "$$\n",
    "\\dfrac{1}{v}\n",
    "=\n",
    "\\dfrac{K_\\textrm{m}}{V_\\textrm{max}}\\cdot\\dfrac{1}{s}\\ +\\ \\dfrac{1}{V_\\textrm{max}}\n",
    "$$\n",
    "\n",
    "\n",
    "Espandiamo il dataframe con i reciproci delle prime colonne"
   ]
  },
  {
   "cell_type": "markdown",
   "metadata": {
    "colab_type": "text",
    "id": "flAGQs9m0pLs"
   },
   "source": [
    "## Linearizzazione 2: Eadie-Hofstee\n",
    "\n",
    "$$\n",
    "v\n",
    "=\n",
    "-K_\\textrm{m}\\dfrac{v}{s}\\ +\\ V_\\textrm{max}\n",
    "$$"
   ]
  },
  {
   "cell_type": "code",
   "execution_count": 12,
   "metadata": {},
   "outputs": [
    {
     "data": {
      "text/html": [
       "<style>\n",
       "div.jp-MarkdownOutput {font-family: \"Times New Roman\", Times, serif;   \n",
       "    /* background-color: #eee;  */\n",
       "    /* border-left: 5px solid #00b5b4; */\n",
       "    font-size: 10pt;\n",
       "    line-height: 140%;\n",
       "}\n",
       ".text_cell_render {\n",
       "    font-family: \"Times New Roman\", Times, serif;    \n",
       "    /* background-color: #eee;  */\n",
       "    /* border-left: 5px solid #00b5b4; */\n",
       "    font-size: 14pt;\n",
       "    line-height: 140%;s\n",
       "}\n",
       "\n",
       "h1 {\n",
       "    font-size: x-large  !important;\n",
       "    margin-top: 0ex !important;\n",
       "}\n",
       "\n",
       "h2 {\n",
       "    font-size: larger !important;\n",
       "    margin-top: 0ex !important;\n",
       "    margin-bottom: 0ex !important;\n",
       "    padding-bottom: 0ex !important;\n",
       "}\n",
       "\n",
       "h3 {\n",
       "    font-size: large !important;\n",
       "    margin-top: 0ex !important;\n",
       "    margin-bottom: 0ex !important;\n",
       "    padding-bottom: 0ex !important;\n",
       "}\n",
       "\n",
       "mark {\n",
       "    background-color: #ffdd00;\n",
       "    border-top-right-radius: 5px;\n",
       "    border-top-left-radius: 5px;\n",
       "    border-bottom-right-radius: 5px;\n",
       "    border-bottom-left-radius: 5px;\n",
       "    padding-top: 0.1ex;\n",
       "    padding-bottom: 0.2ex;\n",
       "    padding-left: 0.7ex;\n",
       "    padding-right: 0.7ex;\n",
       "}\n",
       "\n",
       ".ita {\n",
       "    background-color: #bbddee;\n",
       "}\n",
       "\n",
       ".errore {background-color:#d88;\n",
       "        width:310px;\n",
       "        height:17ex;\n",
       "        display:inline-block;\n",
       "        margin:5px;\n",
       "        padding:8px;\n",
       "}\n",
       "\n",
       ".corretto {background-color:#2d8;\n",
       "        width:310px;\n",
       "        height:17ex;\n",
       "        display:inline-block;\n",
       "        margin:5px;\n",
       "        padding:8px;\n",
       "}\n",
       "\n",
       "n-a {background-color: #ffdddd;}\n",
       "\n",
       "ul, ol {\n",
       "     padding-left: 2ex !important;\n",
       "}\n",
       "ul {\n",
       "     margin-top: 0ex !important;\n",
       "     margin-bottom: 0ex !important;\n",
       "     list-style-type: square !important;\n",
       "}\n",
       "\n",
       "div.warn {    \n",
       "    background-color: #fcf2f2;\n",
       "    border-color: #dFb5b4;\n",
       "    border-left: 5px solid #dfb5b4;\n",
       "    margin-top: 1ex;\n",
       "    padding: 1ex;\n",
       "}\n",
       ".right{\n",
       "    float:right\n",
       "}\n",
       "\n",
       "hr { \n",
       "    display: block;\n",
       "    margin-top: 0.5ex;\n",
       "    margin-bottom: 0.5ex;\n",
       "    margin-left: auto;\n",
       "    margin-right: auto;\n",
       "    border-style: inset;\n",
       "    border-width: 1px;\n",
       "}\n",
       "</style>\n"
      ],
      "text/plain": [
       "<IPython.core.display.HTML object>"
      ]
     },
     "execution_count": 12,
     "metadata": {},
     "output_type": "execute_result"
    }
   ],
   "source": [
    "# This cell loads some html style files (it may be either run/ignored/deleted)\n",
    "from IPython.core.display import HTML\n",
    "with open( '../lezioni/style/custom.css', 'r' ) as f: html_style = f.read()\n",
    "HTML( html_style )"
   ]
  }
 ],
 "metadata": {
  "colab": {
   "collapsed_sections": [],
   "name": "5_.ipynb",
   "provenance": [],
   "version": "0.3.2"
  },
  "kernelspec": {
   "display_name": "Python 3",
   "language": "python",
   "name": "python3"
  },
  "language_info": {
   "codemirror_mode": {
    "name": "ipython",
    "version": 3
   },
   "file_extension": ".py",
   "mimetype": "text/x-python",
   "name": "python",
   "nbconvert_exporter": "python",
   "pygments_lexer": "ipython3",
   "version": "3.7.1"
  }
 },
 "nbformat": 4,
 "nbformat_minor": 1
}
