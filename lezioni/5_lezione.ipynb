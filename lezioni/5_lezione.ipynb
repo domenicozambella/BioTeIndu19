{
 "cells": [
  {
   "cell_type": "markdown",
   "metadata": {
    "colab_type": "text",
    "id": "tWKPYsVLihQB"
   },
   "source": [
    "# Quinta lezione"
   ]
  },
  {
   "cell_type": "markdown",
   "metadata": {
    "colab_type": "text",
    "id": "l1QyA9_4ihQY"
   },
   "source": [
    "I notebook di jupyter possono essere usati per pubblicazioni o per ausilio a pubblicazioni (cioè come integrazione a pubblicazioni in formato tradizionale).\n",
    "\n",
    "Proviamo a produrre un ideale rapporto sull'analisi di alcune misure.\n",
    "\n",
    "*  Conterrà spegazione del contesto teorico (qui sotto un esempio).\n",
    "\n",
    "*  Conterrà i dati e la procedura usata per elaborarli.\n",
    "\n",
    "È realistico immaginare che il rapporto venga pubblicato in formato `.html`. Questo permette di includere grafica interattiva ma NON offre la possibilità di interagire dinamicamente con il documento (modificando il codice o i parametri). Mettere a disposizione il sorgente in formato `.ipynb` è auspicabile. Ma potrebbe non essere sufficiente per chi vuole fruire immediatamente del codice. (Salvare il file in un ambiente dove si ha accesso ad un installazione di Jupyter potrebbe essere \"a click too far\" per qualche lettore.)\n",
    "\n",
    "Esistono un paio di possibilità.<br><br>\n",
    "\n",
    "*   [Binder](https://mybinder.org/) è un servizio offerto da Github per interagire con notebooks. Permette di creare un  [link](https://mybinder.org/v2/gh/domenicozambella/BioTeIndu19/master?filepath=lezioni%2F5_lezione.ipynb) da condividere. Spesso nei documenti il link viene incluso con il suo caratteristico bottone \n",
    "[![Binder](https://mybinder.org/badge_logo.svg)](https://mybinder.org/v2/gh/domenicozambella/BioTeIndu19/master?filepath=lezioni%2F5_lezione.ipynb) \n",
    "Ha due princpali difetti. Lento a caricare (perché crea una macchina virtuale) e si disattiva dopo un breve periodo di inattività.<br><br>\n",
    "\n",
    "*   [Google Colaboratory](https://colab.research.google.com/notebooks/welcome.ipynb) (anche detto Colab) è un servizio analogo offerto da Google. \n",
    "[![Open In Colab](https://colab.research.google.com/assets/colab-badge.svg)](https://colab.research.google.com/github/domenicozambella/BioTeIndu19/blob/master/lezioni/5_lezione.ipynb)\n",
    "Ha come princiali difetti l'interfaccia non standard e il fatto che funziona solo con Python notebooks (niente R, Julia, ecc.).\n",
    "\n",
    "<br><br>"
   ]
  },
  {
   "cell_type": "markdown",
   "metadata": {
    "colab_type": "text",
    "id": "C20b6JoDihQb"
   },
   "source": [
    "Esempio di introduzione teorica:\n",
    "\n",
    "<hr><br>\n",
    "\n",
    "# Theoretical backgound: the Michaelis-Menten equation\n",
    "\n",
    "\n",
    "Mathematical models of enzymes can take many forms, but the best known is the [Michaelis-Menten equation](https://en.wikipedia.org/wiki/Michaelis–Menten_kinetics) which considers the the mechanism of an irreversible enzyme ($E$) producing product ($P$) from substrate ($S$):\n",
    "\n",
    "$$\n",
    "S + E \n",
    "\\overset{k_f}{\\underset{k_r}{\\rightleftharpoons}} \n",
    "SE \n",
    "\\overset{k_\\text{cat}}{\\longrightarrow} \n",
    "S + P \n",
    "\\ \\implies\\ \n",
    "v = \\frac{\\mathrm{d}p}{\\mathrm{d}t} = \\frac{V_\\text{max}\\cdot s}{K_\\text{m} + s}\n",
    "$$\n",
    "\n",
    "- $s$ is the *concentration of substrate $S$*\n",
    "- $p$ is the *concentration of product $P$*\n",
    "- $k_f$ is called the *association constant*\n",
    "- $k_r$ is called the *disassociation constant*\n",
    "- $k_\\text{cat}$ is called the *turnover number*\n",
    "- $K_\\text{m} = (k_\\text{cat} + k_{r})\\;/\\;k_f$ is called the *Michaelis constant*\n",
    "- $e_0$ is the *initial concentration of enzyme*\n",
    "- $V_\\text{max} = k_\\text{cat}e_0$ is the *maximum catalytic rate*\n"
   ]
  },
  {
   "cell_type": "markdown",
   "metadata": {
    "colab_type": "text",
    "id": "7EyKfhG9P6fp"
   },
   "source": [
    "<hr><br>\n",
    "\n",
    "# Lettura ed esplorazione dei dati\n",
    "\n",
    "I dati li leggiamo direttamente dalla repositoria su github, in modo da rendere il notebook più facilmente esportabile.\n",
    "\n",
    "La tabella contiene la velocità di reazione `v` per diverse concentrazioni di substrato `s`."
   ]
  },
  {
   "cell_type": "code",
   "execution_count": 1,
   "metadata": {
    "colab": {
     "base_uri": "https://localhost:8080/",
     "height": 443
    },
    "colab_type": "code",
    "executionInfo": {
     "elapsed": 6101,
     "status": "ok",
     "timestamp": 1554630080638,
     "user": {
      "displayName": "Domenico Zambella",
      "photoUrl": "https://lh3.googleusercontent.com/-BraGnYy55AA/AAAAAAAAAAI/AAAAAAAAAAA/ApUkkU1ZK3k/s64/photo.jpg",
      "userId": "03818394449923864400"
     },
     "user_tz": -120
    },
    "id": "444RfsqhihQf",
    "outputId": "64eabe28-c253-4f28-d0e2-438103f9dfdf"
   },
   "outputs": [
    {
     "data": {
      "text/html": [
       "<div>\n",
       "<style scoped>\n",
       "    .dataframe tbody tr th:only-of-type {\n",
       "        vertical-align: middle;\n",
       "    }\n",
       "\n",
       "    .dataframe tbody tr th {\n",
       "        vertical-align: top;\n",
       "    }\n",
       "\n",
       "    .dataframe thead th {\n",
       "        text-align: right;\n",
       "    }\n",
       "</style>\n",
       "<table border=\"1\" class=\"dataframe\">\n",
       "  <thead>\n",
       "    <tr style=\"text-align: right;\">\n",
       "      <th></th>\n",
       "      <th>s</th>\n",
       "      <th>v</th>\n",
       "    </tr>\n",
       "  </thead>\n",
       "  <tbody>\n",
       "    <tr>\n",
       "      <th>0</th>\n",
       "      <td>0.5</td>\n",
       "      <td>0.6</td>\n",
       "    </tr>\n",
       "    <tr>\n",
       "      <th>1</th>\n",
       "      <td>1.0</td>\n",
       "      <td>1.1</td>\n",
       "    </tr>\n",
       "    <tr>\n",
       "      <th>2</th>\n",
       "      <td>2.5</td>\n",
       "      <td>2.1</td>\n",
       "    </tr>\n",
       "    <tr>\n",
       "      <th>3</th>\n",
       "      <td>3.5</td>\n",
       "      <td>2.3</td>\n",
       "    </tr>\n",
       "    <tr>\n",
       "      <th>4</th>\n",
       "      <td>5.0</td>\n",
       "      <td>3.7</td>\n",
       "    </tr>\n",
       "    <tr>\n",
       "      <th>5</th>\n",
       "      <td>7.5</td>\n",
       "      <td>3.0</td>\n",
       "    </tr>\n",
       "    <tr>\n",
       "      <th>6</th>\n",
       "      <td>10.0</td>\n",
       "      <td>4.3</td>\n",
       "    </tr>\n",
       "    <tr>\n",
       "      <th>7</th>\n",
       "      <td>15.0</td>\n",
       "      <td>4.8</td>\n",
       "    </tr>\n",
       "    <tr>\n",
       "      <th>8</th>\n",
       "      <td>25.0</td>\n",
       "      <td>5.3</td>\n",
       "    </tr>\n",
       "    <tr>\n",
       "      <th>9</th>\n",
       "      <td>50.0</td>\n",
       "      <td>6.0</td>\n",
       "    </tr>\n",
       "    <tr>\n",
       "      <th>10</th>\n",
       "      <td>70.0</td>\n",
       "      <td>5.1</td>\n",
       "    </tr>\n",
       "    <tr>\n",
       "      <th>11</th>\n",
       "      <td>75.0</td>\n",
       "      <td>5.7</td>\n",
       "    </tr>\n",
       "    <tr>\n",
       "      <th>12</th>\n",
       "      <td>100.0</td>\n",
       "      <td>5.8</td>\n",
       "    </tr>\n",
       "  </tbody>\n",
       "</table>\n",
       "</div>"
      ],
      "text/plain": [
       "        s    v\n",
       "0     0.5  0.6\n",
       "1     1.0  1.1\n",
       "2     2.5  2.1\n",
       "3     3.5  2.3\n",
       "4     5.0  3.7\n",
       "5     7.5  3.0\n",
       "6    10.0  4.3\n",
       "7    15.0  4.8\n",
       "8    25.0  5.3\n",
       "9    50.0  6.0\n",
       "10   70.0  5.1\n",
       "11   75.0  5.7\n",
       "12  100.0  5.8"
      ]
     },
     "execution_count": 1,
     "metadata": {},
     "output_type": "execute_result"
    }
   ],
   "source": [
    "import pandas as pd\n",
    "baseURL = 'https://raw.githubusercontent.com/domenicozambella/BioTeIndu19/master/'\n",
    "df = pd.read_csv( baseURL + 'dati/mm1.csv')\n",
    "df"
   ]
  },
  {
   "cell_type": "markdown",
   "metadata": {},
   "source": [
    "In alternativa, tabelle così piccole possono anche essere inserite manualmente con la seguente sintassi."
   ]
  },
  {
   "cell_type": "code",
   "execution_count": 2,
   "metadata": {},
   "outputs": [],
   "source": [
    "data = dict(s = [0.5,1,2.5,3.5,5,7.5,10,15,25,50,70,75,100],\n",
    "            v = [0.6,1.1,2.1,2.3,3.7,3.,4.3,4.8,5.3,6.0,5.1,5.7,5.8],\n",
    "           )\n",
    "df = pd.DataFrame(data)"
   ]
  },
  {
   "cell_type": "markdown",
   "metadata": {
    "colab_type": "text",
    "id": "GyAW1I0cihQp"
   },
   "source": [
    "Per prima cosa importiamo importiamo il pacchetto grafico. Salviamo in una variabile, `param`, alcuni parametri grafici che useremo in tutte le figure sottostanti (si ignori per il momento la sintassi del comando)."
   ]
  },
  {
   "cell_type": "code",
   "execution_count": 3,
   "metadata": {
    "colab": {},
    "colab_type": "code",
    "id": "VFMUdhNsihQr"
   },
   "outputs": [
    {
     "data": {
      "text/html": [
       "\n",
       "    <div class=\"bk-root\">\n",
       "        <a href=\"https://bokeh.pydata.org\" target=\"_blank\" class=\"bk-logo bk-logo-small bk-logo-notebook\"></a>\n",
       "        <span id=\"1001\">Loading BokehJS ...</span>\n",
       "    </div>"
      ]
     },
     "metadata": {},
     "output_type": "display_data"
    },
    {
     "data": {
      "application/javascript": [
       "\n",
       "(function(root) {\n",
       "  function now() {\n",
       "    return new Date();\n",
       "  }\n",
       "\n",
       "  var force = true;\n",
       "\n",
       "  if (typeof (root._bokeh_onload_callbacks) === \"undefined\" || force === true) {\n",
       "    root._bokeh_onload_callbacks = [];\n",
       "    root._bokeh_is_loading = undefined;\n",
       "  }\n",
       "\n",
       "  var JS_MIME_TYPE = 'application/javascript';\n",
       "  var HTML_MIME_TYPE = 'text/html';\n",
       "  var EXEC_MIME_TYPE = 'application/vnd.bokehjs_exec.v0+json';\n",
       "  var CLASS_NAME = 'output_bokeh rendered_html';\n",
       "\n",
       "  /**\n",
       "   * Render data to the DOM node\n",
       "   */\n",
       "  function render(props, node) {\n",
       "    var script = document.createElement(\"script\");\n",
       "    node.appendChild(script);\n",
       "  }\n",
       "\n",
       "  /**\n",
       "   * Handle when an output is cleared or removed\n",
       "   */\n",
       "  function handleClearOutput(event, handle) {\n",
       "    var cell = handle.cell;\n",
       "\n",
       "    var id = cell.output_area._bokeh_element_id;\n",
       "    var server_id = cell.output_area._bokeh_server_id;\n",
       "    // Clean up Bokeh references\n",
       "    if (id != null && id in Bokeh.index) {\n",
       "      Bokeh.index[id].model.document.clear();\n",
       "      delete Bokeh.index[id];\n",
       "    }\n",
       "\n",
       "    if (server_id !== undefined) {\n",
       "      // Clean up Bokeh references\n",
       "      var cmd = \"from bokeh.io.state import curstate; print(curstate().uuid_to_server['\" + server_id + \"'].get_sessions()[0].document.roots[0]._id)\";\n",
       "      cell.notebook.kernel.execute(cmd, {\n",
       "        iopub: {\n",
       "          output: function(msg) {\n",
       "            var id = msg.content.text.trim();\n",
       "            if (id in Bokeh.index) {\n",
       "              Bokeh.index[id].model.document.clear();\n",
       "              delete Bokeh.index[id];\n",
       "            }\n",
       "          }\n",
       "        }\n",
       "      });\n",
       "      // Destroy server and session\n",
       "      var cmd = \"import bokeh.io.notebook as ion; ion.destroy_server('\" + server_id + \"')\";\n",
       "      cell.notebook.kernel.execute(cmd);\n",
       "    }\n",
       "  }\n",
       "\n",
       "  /**\n",
       "   * Handle when a new output is added\n",
       "   */\n",
       "  function handleAddOutput(event, handle) {\n",
       "    var output_area = handle.output_area;\n",
       "    var output = handle.output;\n",
       "\n",
       "    // limit handleAddOutput to display_data with EXEC_MIME_TYPE content only\n",
       "    if ((output.output_type != \"display_data\") || (!output.data.hasOwnProperty(EXEC_MIME_TYPE))) {\n",
       "      return\n",
       "    }\n",
       "\n",
       "    var toinsert = output_area.element.find(\".\" + CLASS_NAME.split(' ')[0]);\n",
       "\n",
       "    if (output.metadata[EXEC_MIME_TYPE][\"id\"] !== undefined) {\n",
       "      toinsert[toinsert.length - 1].firstChild.textContent = output.data[JS_MIME_TYPE];\n",
       "      // store reference to embed id on output_area\n",
       "      output_area._bokeh_element_id = output.metadata[EXEC_MIME_TYPE][\"id\"];\n",
       "    }\n",
       "    if (output.metadata[EXEC_MIME_TYPE][\"server_id\"] !== undefined) {\n",
       "      var bk_div = document.createElement(\"div\");\n",
       "      bk_div.innerHTML = output.data[HTML_MIME_TYPE];\n",
       "      var script_attrs = bk_div.children[0].attributes;\n",
       "      for (var i = 0; i < script_attrs.length; i++) {\n",
       "        toinsert[toinsert.length - 1].firstChild.setAttribute(script_attrs[i].name, script_attrs[i].value);\n",
       "      }\n",
       "      // store reference to server id on output_area\n",
       "      output_area._bokeh_server_id = output.metadata[EXEC_MIME_TYPE][\"server_id\"];\n",
       "    }\n",
       "  }\n",
       "\n",
       "  function register_renderer(events, OutputArea) {\n",
       "\n",
       "    function append_mime(data, metadata, element) {\n",
       "      // create a DOM node to render to\n",
       "      var toinsert = this.create_output_subarea(\n",
       "        metadata,\n",
       "        CLASS_NAME,\n",
       "        EXEC_MIME_TYPE\n",
       "      );\n",
       "      this.keyboard_manager.register_events(toinsert);\n",
       "      // Render to node\n",
       "      var props = {data: data, metadata: metadata[EXEC_MIME_TYPE]};\n",
       "      render(props, toinsert[toinsert.length - 1]);\n",
       "      element.append(toinsert);\n",
       "      return toinsert\n",
       "    }\n",
       "\n",
       "    /* Handle when an output is cleared or removed */\n",
       "    events.on('clear_output.CodeCell', handleClearOutput);\n",
       "    events.on('delete.Cell', handleClearOutput);\n",
       "\n",
       "    /* Handle when a new output is added */\n",
       "    events.on('output_added.OutputArea', handleAddOutput);\n",
       "\n",
       "    /**\n",
       "     * Register the mime type and append_mime function with output_area\n",
       "     */\n",
       "    OutputArea.prototype.register_mime_type(EXEC_MIME_TYPE, append_mime, {\n",
       "      /* Is output safe? */\n",
       "      safe: true,\n",
       "      /* Index of renderer in `output_area.display_order` */\n",
       "      index: 0\n",
       "    });\n",
       "  }\n",
       "\n",
       "  // register the mime type if in Jupyter Notebook environment and previously unregistered\n",
       "  if (root.Jupyter !== undefined) {\n",
       "    var events = require('base/js/events');\n",
       "    var OutputArea = require('notebook/js/outputarea').OutputArea;\n",
       "\n",
       "    if (OutputArea.prototype.mime_types().indexOf(EXEC_MIME_TYPE) == -1) {\n",
       "      register_renderer(events, OutputArea);\n",
       "    }\n",
       "  }\n",
       "\n",
       "  \n",
       "  if (typeof (root._bokeh_timeout) === \"undefined\" || force === true) {\n",
       "    root._bokeh_timeout = Date.now() + 5000;\n",
       "    root._bokeh_failed_load = false;\n",
       "  }\n",
       "\n",
       "  var NB_LOAD_WARNING = {'data': {'text/html':\n",
       "     \"<div style='background-color: #fdd'>\\n\"+\n",
       "     \"<p>\\n\"+\n",
       "     \"BokehJS does not appear to have successfully loaded. If loading BokehJS from CDN, this \\n\"+\n",
       "     \"may be due to a slow or bad network connection. Possible fixes:\\n\"+\n",
       "     \"</p>\\n\"+\n",
       "     \"<ul>\\n\"+\n",
       "     \"<li>re-rerun `output_notebook()` to attempt to load from CDN again, or</li>\\n\"+\n",
       "     \"<li>use INLINE resources instead, as so:</li>\\n\"+\n",
       "     \"</ul>\\n\"+\n",
       "     \"<code>\\n\"+\n",
       "     \"from bokeh.resources import INLINE\\n\"+\n",
       "     \"output_notebook(resources=INLINE)\\n\"+\n",
       "     \"</code>\\n\"+\n",
       "     \"</div>\"}};\n",
       "\n",
       "  function display_loaded() {\n",
       "    var el = document.getElementById(\"1001\");\n",
       "    if (el != null) {\n",
       "      el.textContent = \"BokehJS is loading...\";\n",
       "    }\n",
       "    if (root.Bokeh !== undefined) {\n",
       "      if (el != null) {\n",
       "        el.textContent = \"BokehJS \" + root.Bokeh.version + \" successfully loaded.\";\n",
       "      }\n",
       "    } else if (Date.now() < root._bokeh_timeout) {\n",
       "      setTimeout(display_loaded, 100)\n",
       "    }\n",
       "  }\n",
       "\n",
       "\n",
       "  function run_callbacks() {\n",
       "    try {\n",
       "      root._bokeh_onload_callbacks.forEach(function(callback) { callback() });\n",
       "    }\n",
       "    finally {\n",
       "      delete root._bokeh_onload_callbacks\n",
       "    }\n",
       "    console.info(\"Bokeh: all callbacks have finished\");\n",
       "  }\n",
       "\n",
       "  function load_libs(js_urls, callback) {\n",
       "    root._bokeh_onload_callbacks.push(callback);\n",
       "    if (root._bokeh_is_loading > 0) {\n",
       "      console.log(\"Bokeh: BokehJS is being loaded, scheduling callback at\", now());\n",
       "      return null;\n",
       "    }\n",
       "    if (js_urls == null || js_urls.length === 0) {\n",
       "      run_callbacks();\n",
       "      return null;\n",
       "    }\n",
       "    console.log(\"Bokeh: BokehJS not loaded, scheduling load and callback at\", now());\n",
       "    root._bokeh_is_loading = js_urls.length;\n",
       "    for (var i = 0; i < js_urls.length; i++) {\n",
       "      var url = js_urls[i];\n",
       "      var s = document.createElement('script');\n",
       "      s.src = url;\n",
       "      s.async = false;\n",
       "      s.onreadystatechange = s.onload = function() {\n",
       "        root._bokeh_is_loading--;\n",
       "        if (root._bokeh_is_loading === 0) {\n",
       "          console.log(\"Bokeh: all BokehJS libraries loaded\");\n",
       "          run_callbacks()\n",
       "        }\n",
       "      };\n",
       "      s.onerror = function() {\n",
       "        console.warn(\"failed to load library \" + url);\n",
       "      };\n",
       "      console.log(\"Bokeh: injecting script tag for BokehJS library: \", url);\n",
       "      document.getElementsByTagName(\"head\")[0].appendChild(s);\n",
       "    }\n",
       "  };var element = document.getElementById(\"1001\");\n",
       "  if (element == null) {\n",
       "    console.log(\"Bokeh: ERROR: autoload.js configured with elementid '1001' but no matching script tag was found. \")\n",
       "    return false;\n",
       "  }\n",
       "\n",
       "  var js_urls = [\"https://cdn.pydata.org/bokeh/release/bokeh-1.0.2.min.js\", \"https://cdn.pydata.org/bokeh/release/bokeh-widgets-1.0.2.min.js\", \"https://cdn.pydata.org/bokeh/release/bokeh-tables-1.0.2.min.js\", \"https://cdn.pydata.org/bokeh/release/bokeh-gl-1.0.2.min.js\"];\n",
       "\n",
       "  var inline_js = [\n",
       "    function(Bokeh) {\n",
       "      Bokeh.set_log_level(\"info\");\n",
       "    },\n",
       "    \n",
       "    function(Bokeh) {\n",
       "      \n",
       "    },\n",
       "    function(Bokeh) {\n",
       "      console.log(\"Bokeh: injecting CSS: https://cdn.pydata.org/bokeh/release/bokeh-1.0.2.min.css\");\n",
       "      Bokeh.embed.inject_css(\"https://cdn.pydata.org/bokeh/release/bokeh-1.0.2.min.css\");\n",
       "      console.log(\"Bokeh: injecting CSS: https://cdn.pydata.org/bokeh/release/bokeh-widgets-1.0.2.min.css\");\n",
       "      Bokeh.embed.inject_css(\"https://cdn.pydata.org/bokeh/release/bokeh-widgets-1.0.2.min.css\");\n",
       "      console.log(\"Bokeh: injecting CSS: https://cdn.pydata.org/bokeh/release/bokeh-tables-1.0.2.min.css\");\n",
       "      Bokeh.embed.inject_css(\"https://cdn.pydata.org/bokeh/release/bokeh-tables-1.0.2.min.css\");\n",
       "    }\n",
       "  ];\n",
       "\n",
       "  function run_inline_js() {\n",
       "    \n",
       "    if ((root.Bokeh !== undefined) || (force === true)) {\n",
       "      for (var i = 0; i < inline_js.length; i++) {\n",
       "        inline_js[i].call(root, root.Bokeh);\n",
       "      }if (force === true) {\n",
       "        display_loaded();\n",
       "      }} else if (Date.now() < root._bokeh_timeout) {\n",
       "      setTimeout(run_inline_js, 100);\n",
       "    } else if (!root._bokeh_failed_load) {\n",
       "      console.log(\"Bokeh: BokehJS failed to load within specified timeout.\");\n",
       "      root._bokeh_failed_load = true;\n",
       "    } else if (force !== true) {\n",
       "      var cell = $(document.getElementById(\"1001\")).parents('.cell').data().cell;\n",
       "      cell.output_area.append_execute_result(NB_LOAD_WARNING)\n",
       "    }\n",
       "\n",
       "  }\n",
       "\n",
       "  if (root._bokeh_is_loading === 0) {\n",
       "    console.log(\"Bokeh: BokehJS loaded, going straight to plotting\");\n",
       "    run_inline_js();\n",
       "  } else {\n",
       "    load_libs(js_urls, function() {\n",
       "      console.log(\"Bokeh: BokehJS plotting callback run at\", now());\n",
       "      run_inline_js();\n",
       "    });\n",
       "  }\n",
       "}(window));"
      ],
      "application/vnd.bokehjs_load.v0+json": "\n(function(root) {\n  function now() {\n    return new Date();\n  }\n\n  var force = true;\n\n  if (typeof (root._bokeh_onload_callbacks) === \"undefined\" || force === true) {\n    root._bokeh_onload_callbacks = [];\n    root._bokeh_is_loading = undefined;\n  }\n\n  \n\n  \n  if (typeof (root._bokeh_timeout) === \"undefined\" || force === true) {\n    root._bokeh_timeout = Date.now() + 5000;\n    root._bokeh_failed_load = false;\n  }\n\n  var NB_LOAD_WARNING = {'data': {'text/html':\n     \"<div style='background-color: #fdd'>\\n\"+\n     \"<p>\\n\"+\n     \"BokehJS does not appear to have successfully loaded. If loading BokehJS from CDN, this \\n\"+\n     \"may be due to a slow or bad network connection. Possible fixes:\\n\"+\n     \"</p>\\n\"+\n     \"<ul>\\n\"+\n     \"<li>re-rerun `output_notebook()` to attempt to load from CDN again, or</li>\\n\"+\n     \"<li>use INLINE resources instead, as so:</li>\\n\"+\n     \"</ul>\\n\"+\n     \"<code>\\n\"+\n     \"from bokeh.resources import INLINE\\n\"+\n     \"output_notebook(resources=INLINE)\\n\"+\n     \"</code>\\n\"+\n     \"</div>\"}};\n\n  function display_loaded() {\n    var el = document.getElementById(\"1001\");\n    if (el != null) {\n      el.textContent = \"BokehJS is loading...\";\n    }\n    if (root.Bokeh !== undefined) {\n      if (el != null) {\n        el.textContent = \"BokehJS \" + root.Bokeh.version + \" successfully loaded.\";\n      }\n    } else if (Date.now() < root._bokeh_timeout) {\n      setTimeout(display_loaded, 100)\n    }\n  }\n\n\n  function run_callbacks() {\n    try {\n      root._bokeh_onload_callbacks.forEach(function(callback) { callback() });\n    }\n    finally {\n      delete root._bokeh_onload_callbacks\n    }\n    console.info(\"Bokeh: all callbacks have finished\");\n  }\n\n  function load_libs(js_urls, callback) {\n    root._bokeh_onload_callbacks.push(callback);\n    if (root._bokeh_is_loading > 0) {\n      console.log(\"Bokeh: BokehJS is being loaded, scheduling callback at\", now());\n      return null;\n    }\n    if (js_urls == null || js_urls.length === 0) {\n      run_callbacks();\n      return null;\n    }\n    console.log(\"Bokeh: BokehJS not loaded, scheduling load and callback at\", now());\n    root._bokeh_is_loading = js_urls.length;\n    for (var i = 0; i < js_urls.length; i++) {\n      var url = js_urls[i];\n      var s = document.createElement('script');\n      s.src = url;\n      s.async = false;\n      s.onreadystatechange = s.onload = function() {\n        root._bokeh_is_loading--;\n        if (root._bokeh_is_loading === 0) {\n          console.log(\"Bokeh: all BokehJS libraries loaded\");\n          run_callbacks()\n        }\n      };\n      s.onerror = function() {\n        console.warn(\"failed to load library \" + url);\n      };\n      console.log(\"Bokeh: injecting script tag for BokehJS library: \", url);\n      document.getElementsByTagName(\"head\")[0].appendChild(s);\n    }\n  };var element = document.getElementById(\"1001\");\n  if (element == null) {\n    console.log(\"Bokeh: ERROR: autoload.js configured with elementid '1001' but no matching script tag was found. \")\n    return false;\n  }\n\n  var js_urls = [\"https://cdn.pydata.org/bokeh/release/bokeh-1.0.2.min.js\", \"https://cdn.pydata.org/bokeh/release/bokeh-widgets-1.0.2.min.js\", \"https://cdn.pydata.org/bokeh/release/bokeh-tables-1.0.2.min.js\", \"https://cdn.pydata.org/bokeh/release/bokeh-gl-1.0.2.min.js\"];\n\n  var inline_js = [\n    function(Bokeh) {\n      Bokeh.set_log_level(\"info\");\n    },\n    \n    function(Bokeh) {\n      \n    },\n    function(Bokeh) {\n      console.log(\"Bokeh: injecting CSS: https://cdn.pydata.org/bokeh/release/bokeh-1.0.2.min.css\");\n      Bokeh.embed.inject_css(\"https://cdn.pydata.org/bokeh/release/bokeh-1.0.2.min.css\");\n      console.log(\"Bokeh: injecting CSS: https://cdn.pydata.org/bokeh/release/bokeh-widgets-1.0.2.min.css\");\n      Bokeh.embed.inject_css(\"https://cdn.pydata.org/bokeh/release/bokeh-widgets-1.0.2.min.css\");\n      console.log(\"Bokeh: injecting CSS: https://cdn.pydata.org/bokeh/release/bokeh-tables-1.0.2.min.css\");\n      Bokeh.embed.inject_css(\"https://cdn.pydata.org/bokeh/release/bokeh-tables-1.0.2.min.css\");\n    }\n  ];\n\n  function run_inline_js() {\n    \n    if ((root.Bokeh !== undefined) || (force === true)) {\n      for (var i = 0; i < inline_js.length; i++) {\n        inline_js[i].call(root, root.Bokeh);\n      }if (force === true) {\n        display_loaded();\n      }} else if (Date.now() < root._bokeh_timeout) {\n      setTimeout(run_inline_js, 100);\n    } else if (!root._bokeh_failed_load) {\n      console.log(\"Bokeh: BokehJS failed to load within specified timeout.\");\n      root._bokeh_failed_load = true;\n    } else if (force !== true) {\n      var cell = $(document.getElementById(\"1001\")).parents('.cell').data().cell;\n      cell.output_area.append_execute_result(NB_LOAD_WARNING)\n    }\n\n  }\n\n  if (root._bokeh_is_loading === 0) {\n    console.log(\"Bokeh: BokehJS loaded, going straight to plotting\");\n    run_inline_js();\n  } else {\n    load_libs(js_urls, function() {\n      console.log(\"Bokeh: BokehJS plotting callback run at\", now());\n      run_inline_js();\n    });\n  }\n}(window));"
     },
     "metadata": {},
     "output_type": "display_data"
    }
   ],
   "source": [
    "from bokeh.plotting import figure, show, output_notebook\n",
    "param = dict(width = 700, height = 250,\n",
    "             tools = 'wheel_zoom, reset,pan, box_zoom',\n",
    "             tooltips = [( 'substrate',   '@s'), ( 'velocity',   '@v')],\n",
    "            )\n",
    "output_notebook()"
   ]
  },
  {
   "cell_type": "markdown",
   "metadata": {},
   "source": [
    "Plottiamo i dati grezzi."
   ]
  },
  {
   "cell_type": "code",
   "execution_count": 4,
   "metadata": {
    "colab": {
     "base_uri": "https://localhost:8080/",
     "height": 297
    },
    "colab_type": "code",
    "executionInfo": {
     "elapsed": 1245,
     "status": "ok",
     "timestamp": 1554563947045,
     "user": {
      "displayName": "Domenico Zambella",
      "photoUrl": "https://lh3.googleusercontent.com/-BraGnYy55AA/AAAAAAAAAAI/AAAAAAAAAAA/ApUkkU1ZK3k/s64/photo.jpg",
      "userId": "03818394449923864400"
     },
     "user_tz": -120
    },
    "id": "OV3o_poJihQ0",
    "outputId": "4fb972d5-7cf5-44d2-f61f-97985a86b1c9"
   },
   "outputs": [
    {
     "data": {
      "text/html": [
       "\n",
       "\n",
       "\n",
       "\n",
       "\n",
       "\n",
       "  <div class=\"bk-root\" id=\"f6868f3f-7f27-4764-9831-d3ab8ae6bfef\"></div>\n"
      ]
     },
     "metadata": {},
     "output_type": "display_data"
    },
    {
     "data": {
      "application/javascript": [
       "(function(root) {\n",
       "  function embed_document(root) {\n",
       "    \n",
       "  var docs_json = {\"bdbb20fe-7495-48a6-8ee5-490087b7ecad\":{\"roots\":{\"references\":[{\"attributes\":{\"below\":[{\"id\":\"1011\",\"type\":\"LinearAxis\"}],\"left\":[{\"id\":\"1016\",\"type\":\"LinearAxis\"}],\"plot_height\":250,\"plot_width\":700,\"renderers\":[{\"id\":\"1011\",\"type\":\"LinearAxis\"},{\"id\":\"1015\",\"type\":\"Grid\"},{\"id\":\"1016\",\"type\":\"LinearAxis\"},{\"id\":\"1020\",\"type\":\"Grid\"},{\"id\":\"1029\",\"type\":\"BoxAnnotation\"},{\"id\":\"1038\",\"type\":\"GlyphRenderer\"}],\"title\":{\"id\":\"1040\",\"type\":\"Title\"},\"toolbar\":{\"id\":\"1026\",\"type\":\"Toolbar\"},\"x_range\":{\"id\":\"1003\",\"type\":\"DataRange1d\"},\"x_scale\":{\"id\":\"1007\",\"type\":\"LinearScale\"},\"y_range\":{\"id\":\"1005\",\"type\":\"DataRange1d\"},\"y_scale\":{\"id\":\"1009\",\"type\":\"LinearScale\"}},\"id\":\"1002\",\"subtype\":\"Figure\",\"type\":\"Plot\"},{\"attributes\":{\"dimension\":1,\"plot\":{\"id\":\"1002\",\"subtype\":\"Figure\",\"type\":\"Plot\"},\"ticker\":{\"id\":\"1017\",\"type\":\"BasicTicker\"}},\"id\":\"1020\",\"type\":\"Grid\"},{\"attributes\":{},\"id\":\"1042\",\"type\":\"BasicTickFormatter\"},{\"attributes\":{\"callback\":null},\"id\":\"1005\",\"type\":\"DataRange1d\"},{\"attributes\":{},\"id\":\"1044\",\"type\":\"BasicTickFormatter\"},{\"attributes\":{\"callback\":null,\"tooltips\":[[\"substrate\",\"@s\"],[\"velocity\",\"@v\"]]},\"id\":\"1025\",\"type\":\"HoverTool\"},{\"attributes\":{},\"id\":\"1047\",\"type\":\"Selection\"},{\"attributes\":{\"plot\":null,\"text\":\"\"},\"id\":\"1040\",\"type\":\"Title\"},{\"attributes\":{},\"id\":\"1021\",\"type\":\"WheelZoomTool\"},{\"attributes\":{},\"id\":\"1048\",\"type\":\"UnionRenderers\"},{\"attributes\":{},\"id\":\"1022\",\"type\":\"ResetTool\"},{\"attributes\":{},\"id\":\"1023\",\"type\":\"PanTool\"},{\"attributes\":{\"callback\":null,\"data\":{\"index\":[0,1,2,3,4,5,6,7,8,9,10,11,12],\"s\":{\"__ndarray__\":\"AAAAAAAA4D8AAAAAAADwPwAAAAAAAARAAAAAAAAADEAAAAAAAAAUQAAAAAAAAB5AAAAAAAAAJEAAAAAAAAAuQAAAAAAAADlAAAAAAAAASUAAAAAAAIBRQAAAAAAAwFJAAAAAAAAAWUA=\",\"dtype\":\"float64\",\"shape\":[13]},\"v\":{\"__ndarray__\":\"MzMzMzMz4z+amZmZmZnxP83MzMzMzABAZmZmZmZmAkCamZmZmZkNQAAAAAAAAAhAMzMzMzMzEUAzMzMzMzMTQDMzMzMzMxVAAAAAAAAAGEBmZmZmZmYUQM3MzMzMzBZAMzMzMzMzF0A=\",\"dtype\":\"float64\",\"shape\":[13]}},\"selected\":{\"id\":\"1047\",\"type\":\"Selection\"},\"selection_policy\":{\"id\":\"1048\",\"type\":\"UnionRenderers\"}},\"id\":\"1034\",\"type\":\"ColumnDataSource\"},{\"attributes\":{\"overlay\":{\"id\":\"1029\",\"type\":\"BoxAnnotation\"}},\"id\":\"1024\",\"type\":\"BoxZoomTool\"},{\"attributes\":{\"active_drag\":\"auto\",\"active_inspect\":\"auto\",\"active_multi\":null,\"active_scroll\":\"auto\",\"active_tap\":\"auto\",\"tools\":[{\"id\":\"1021\",\"type\":\"WheelZoomTool\"},{\"id\":\"1022\",\"type\":\"ResetTool\"},{\"id\":\"1023\",\"type\":\"PanTool\"},{\"id\":\"1024\",\"type\":\"BoxZoomTool\"},{\"id\":\"1025\",\"type\":\"HoverTool\"}]},\"id\":\"1026\",\"type\":\"Toolbar\"},{\"attributes\":{\"bottom_units\":\"screen\",\"fill_alpha\":{\"value\":0.5},\"fill_color\":{\"value\":\"lightgrey\"},\"left_units\":\"screen\",\"level\":\"overlay\",\"line_alpha\":{\"value\":1.0},\"line_color\":{\"value\":\"black\"},\"line_dash\":[4,4],\"line_width\":{\"value\":2},\"plot\":null,\"render_mode\":\"css\",\"right_units\":\"screen\",\"top_units\":\"screen\"},\"id\":\"1029\",\"type\":\"BoxAnnotation\"},{\"attributes\":{},\"id\":\"1007\",\"type\":\"LinearScale\"},{\"attributes\":{\"fill_alpha\":{\"value\":0.1},\"fill_color\":{\"value\":\"#1f77b4\"},\"line_alpha\":{\"value\":0.1},\"line_color\":{\"value\":\"#1f77b4\"},\"x\":{\"field\":\"s\"},\"y\":{\"field\":\"v\"}},\"id\":\"1037\",\"type\":\"Circle\"},{\"attributes\":{},\"id\":\"1009\",\"type\":\"LinearScale\"},{\"attributes\":{\"callback\":null},\"id\":\"1003\",\"type\":\"DataRange1d\"},{\"attributes\":{\"axis_label\":\"Concentrazione substrato\",\"formatter\":{\"id\":\"1042\",\"type\":\"BasicTickFormatter\"},\"plot\":{\"id\":\"1002\",\"subtype\":\"Figure\",\"type\":\"Plot\"},\"ticker\":{\"id\":\"1012\",\"type\":\"BasicTicker\"}},\"id\":\"1011\",\"type\":\"LinearAxis\"},{\"attributes\":{},\"id\":\"1012\",\"type\":\"BasicTicker\"},{\"attributes\":{\"fill_color\":{\"value\":\"#1f77b4\"},\"line_color\":{\"value\":\"#1f77b4\"},\"x\":{\"field\":\"s\"},\"y\":{\"field\":\"v\"}},\"id\":\"1036\",\"type\":\"Circle\"},{\"attributes\":{\"plot\":{\"id\":\"1002\",\"subtype\":\"Figure\",\"type\":\"Plot\"},\"ticker\":{\"id\":\"1012\",\"type\":\"BasicTicker\"}},\"id\":\"1015\",\"type\":\"Grid\"},{\"attributes\":{\"data_source\":{\"id\":\"1034\",\"type\":\"ColumnDataSource\"},\"glyph\":{\"id\":\"1036\",\"type\":\"Circle\"},\"hover_glyph\":null,\"muted_glyph\":null,\"nonselection_glyph\":{\"id\":\"1037\",\"type\":\"Circle\"},\"selection_glyph\":null,\"view\":{\"id\":\"1039\",\"type\":\"CDSView\"}},\"id\":\"1038\",\"type\":\"GlyphRenderer\"},{\"attributes\":{\"axis_label\":\"Velocit\\u00e0 di reazione\",\"formatter\":{\"id\":\"1044\",\"type\":\"BasicTickFormatter\"},\"plot\":{\"id\":\"1002\",\"subtype\":\"Figure\",\"type\":\"Plot\"},\"ticker\":{\"id\":\"1017\",\"type\":\"BasicTicker\"}},\"id\":\"1016\",\"type\":\"LinearAxis\"},{\"attributes\":{\"source\":{\"id\":\"1034\",\"type\":\"ColumnDataSource\"}},\"id\":\"1039\",\"type\":\"CDSView\"},{\"attributes\":{},\"id\":\"1017\",\"type\":\"BasicTicker\"}],\"root_ids\":[\"1002\"]},\"title\":\"Bokeh Application\",\"version\":\"1.0.2\"}};\n",
       "  var render_items = [{\"docid\":\"bdbb20fe-7495-48a6-8ee5-490087b7ecad\",\"roots\":{\"1002\":\"f6868f3f-7f27-4764-9831-d3ab8ae6bfef\"}}];\n",
       "  root.Bokeh.embed.embed_items_notebook(docs_json, render_items);\n",
       "\n",
       "  }\n",
       "  if (root.Bokeh !== undefined) {\n",
       "    embed_document(root);\n",
       "  } else {\n",
       "    var attempts = 0;\n",
       "    var timer = setInterval(function(root) {\n",
       "      if (root.Bokeh !== undefined) {\n",
       "        embed_document(root);\n",
       "        clearInterval(timer);\n",
       "      }\n",
       "      attempts++;\n",
       "      if (attempts > 100) {\n",
       "        console.log(\"Bokeh: ERROR: Unable to run BokehJS code because BokehJS library is missing\");\n",
       "        clearInterval(timer);\n",
       "      }\n",
       "    }, 10, root)\n",
       "  }\n",
       "})(window);"
      ],
      "application/vnd.bokehjs_exec.v0+json": ""
     },
     "metadata": {
      "application/vnd.bokehjs_exec.v0+json": {
       "id": "1002"
      }
     },
     "output_type": "display_data"
    }
   ],
   "source": [
    "p = figure(x_axis_label='Concentrazione substrato',\n",
    "           y_axis_label='Velocità di reazione',\n",
    "           **param,\n",
    "           )\n",
    "p.circle( 's', 'v', source=df ) # Plotto i punti (s,v)\n",
    "show( p )"
   ]
  },
  {
   "cell_type": "markdown",
   "metadata": {
    "colab_type": "text",
    "id": "CCBsajWlnm85"
   },
   "source": [
    "Altra breve introduzione teorica:\n",
    "<hr><br>\n",
    "\n",
    "\n",
    "# Linearizzazione 1: Lineweaver-Burk\n",
    "\n",
    "<br>\n",
    "\n",
    "$$\n",
    "\\dfrac{1}{v}\n",
    "=\n",
    "\\dfrac{K_\\textrm{m}}{V_\\textrm{max}}\\cdot\\dfrac{1}{s}\\ +\\ \\dfrac{1}{V_\\textrm{max}}\n",
    "$$\n",
    "\n",
    "<br><hr><br>\n",
    "\n",
    "Espandiamo il dataframe con i reciproci delle prime colonne"
   ]
  },
  {
   "cell_type": "code",
   "execution_count": 5,
   "metadata": {
    "colab": {},
    "colab_type": "code",
    "id": "pReK01ejihQ8"
   },
   "outputs": [
    {
     "data": {
      "text/html": [
       "<div>\n",
       "<style scoped>\n",
       "    .dataframe tbody tr th:only-of-type {\n",
       "        vertical-align: middle;\n",
       "    }\n",
       "\n",
       "    .dataframe tbody tr th {\n",
       "        vertical-align: top;\n",
       "    }\n",
       "\n",
       "    .dataframe thead th {\n",
       "        text-align: right;\n",
       "    }\n",
       "</style>\n",
       "<table border=\"1\" class=\"dataframe\">\n",
       "  <thead>\n",
       "    <tr style=\"text-align: right;\">\n",
       "      <th></th>\n",
       "      <th>s</th>\n",
       "      <th>v</th>\n",
       "      <th>1/s</th>\n",
       "      <th>1/v</th>\n",
       "    </tr>\n",
       "  </thead>\n",
       "  <tbody>\n",
       "    <tr>\n",
       "      <th>0</th>\n",
       "      <td>0.5</td>\n",
       "      <td>0.6</td>\n",
       "      <td>2.000000</td>\n",
       "      <td>1.666667</td>\n",
       "    </tr>\n",
       "    <tr>\n",
       "      <th>1</th>\n",
       "      <td>1.0</td>\n",
       "      <td>1.1</td>\n",
       "      <td>1.000000</td>\n",
       "      <td>0.909091</td>\n",
       "    </tr>\n",
       "    <tr>\n",
       "      <th>2</th>\n",
       "      <td>2.5</td>\n",
       "      <td>2.1</td>\n",
       "      <td>0.400000</td>\n",
       "      <td>0.476190</td>\n",
       "    </tr>\n",
       "    <tr>\n",
       "      <th>3</th>\n",
       "      <td>3.5</td>\n",
       "      <td>2.3</td>\n",
       "      <td>0.285714</td>\n",
       "      <td>0.434783</td>\n",
       "    </tr>\n",
       "    <tr>\n",
       "      <th>4</th>\n",
       "      <td>5.0</td>\n",
       "      <td>3.7</td>\n",
       "      <td>0.200000</td>\n",
       "      <td>0.270270</td>\n",
       "    </tr>\n",
       "    <tr>\n",
       "      <th>5</th>\n",
       "      <td>7.5</td>\n",
       "      <td>3.0</td>\n",
       "      <td>0.133333</td>\n",
       "      <td>0.333333</td>\n",
       "    </tr>\n",
       "    <tr>\n",
       "      <th>6</th>\n",
       "      <td>10.0</td>\n",
       "      <td>4.3</td>\n",
       "      <td>0.100000</td>\n",
       "      <td>0.232558</td>\n",
       "    </tr>\n",
       "    <tr>\n",
       "      <th>7</th>\n",
       "      <td>15.0</td>\n",
       "      <td>4.8</td>\n",
       "      <td>0.066667</td>\n",
       "      <td>0.208333</td>\n",
       "    </tr>\n",
       "    <tr>\n",
       "      <th>8</th>\n",
       "      <td>25.0</td>\n",
       "      <td>5.3</td>\n",
       "      <td>0.040000</td>\n",
       "      <td>0.188679</td>\n",
       "    </tr>\n",
       "    <tr>\n",
       "      <th>9</th>\n",
       "      <td>50.0</td>\n",
       "      <td>6.0</td>\n",
       "      <td>0.020000</td>\n",
       "      <td>0.166667</td>\n",
       "    </tr>\n",
       "    <tr>\n",
       "      <th>10</th>\n",
       "      <td>70.0</td>\n",
       "      <td>5.1</td>\n",
       "      <td>0.014286</td>\n",
       "      <td>0.196078</td>\n",
       "    </tr>\n",
       "    <tr>\n",
       "      <th>11</th>\n",
       "      <td>75.0</td>\n",
       "      <td>5.7</td>\n",
       "      <td>0.013333</td>\n",
       "      <td>0.175439</td>\n",
       "    </tr>\n",
       "    <tr>\n",
       "      <th>12</th>\n",
       "      <td>100.0</td>\n",
       "      <td>5.8</td>\n",
       "      <td>0.010000</td>\n",
       "      <td>0.172414</td>\n",
       "    </tr>\n",
       "  </tbody>\n",
       "</table>\n",
       "</div>"
      ],
      "text/plain": [
       "        s    v       1/s       1/v\n",
       "0     0.5  0.6  2.000000  1.666667\n",
       "1     1.0  1.1  1.000000  0.909091\n",
       "2     2.5  2.1  0.400000  0.476190\n",
       "3     3.5  2.3  0.285714  0.434783\n",
       "4     5.0  3.7  0.200000  0.270270\n",
       "5     7.5  3.0  0.133333  0.333333\n",
       "6    10.0  4.3  0.100000  0.232558\n",
       "7    15.0  4.8  0.066667  0.208333\n",
       "8    25.0  5.3  0.040000  0.188679\n",
       "9    50.0  6.0  0.020000  0.166667\n",
       "10   70.0  5.1  0.014286  0.196078\n",
       "11   75.0  5.7  0.013333  0.175439\n",
       "12  100.0  5.8  0.010000  0.172414"
      ]
     },
     "execution_count": 5,
     "metadata": {},
     "output_type": "execute_result"
    }
   ],
   "source": [
    "df['1/s'] = 1 / df['s']\n",
    "df['1/v'] = 1 / df['v']\n",
    "df"
   ]
  },
  {
   "cell_type": "markdown",
   "metadata": {
    "colab_type": "text",
    "id": "QWpufrdMoXKu"
   },
   "source": [
    "Ora plottiamo `1/v` su `1/s`."
   ]
  },
  {
   "cell_type": "code",
   "execution_count": 6,
   "metadata": {
    "colab": {
     "base_uri": "https://localhost:8080/",
     "height": 297
    },
    "colab_type": "code",
    "executionInfo": {
     "elapsed": 1231,
     "status": "ok",
     "timestamp": 1554563947051,
     "user": {
      "displayName": "Domenico Zambella",
      "photoUrl": "https://lh3.googleusercontent.com/-BraGnYy55AA/AAAAAAAAAAI/AAAAAAAAAAA/ApUkkU1ZK3k/s64/photo.jpg",
      "userId": "03818394449923864400"
     },
     "user_tz": -120
    },
    "id": "hTOe2CZnobFt",
    "outputId": "4c280ad0-2fc9-40d8-84ef-aae76fd636ea"
   },
   "outputs": [
    {
     "data": {
      "text/html": [
       "\n",
       "\n",
       "\n",
       "\n",
       "\n",
       "\n",
       "  <div class=\"bk-root\" id=\"4cf1953e-7482-4862-8ac4-b51dca1a5404\"></div>\n"
      ]
     },
     "metadata": {},
     "output_type": "display_data"
    },
    {
     "data": {
      "application/javascript": [
       "(function(root) {\n",
       "  function embed_document(root) {\n",
       "    \n",
       "  var docs_json = {\"81d73e7c-a941-4b3f-9526-ba4e0843053e\":{\"roots\":{\"references\":[{\"attributes\":{\"below\":[{\"id\":\"1114\",\"type\":\"LinearAxis\"}],\"left\":[{\"id\":\"1119\",\"type\":\"LinearAxis\"}],\"plot_height\":250,\"plot_width\":700,\"renderers\":[{\"id\":\"1114\",\"type\":\"LinearAxis\"},{\"id\":\"1118\",\"type\":\"Grid\"},{\"id\":\"1119\",\"type\":\"LinearAxis\"},{\"id\":\"1123\",\"type\":\"Grid\"},{\"id\":\"1132\",\"type\":\"BoxAnnotation\"},{\"id\":\"1141\",\"type\":\"GlyphRenderer\"}],\"title\":{\"id\":\"1103\",\"type\":\"Title\"},\"toolbar\":{\"id\":\"1129\",\"type\":\"Toolbar\"},\"x_range\":{\"id\":\"1106\",\"type\":\"DataRange1d\"},\"x_scale\":{\"id\":\"1110\",\"type\":\"LinearScale\"},\"y_range\":{\"id\":\"1108\",\"type\":\"DataRange1d\"},\"y_scale\":{\"id\":\"1112\",\"type\":\"LinearScale\"}},\"id\":\"1104\",\"subtype\":\"Figure\",\"type\":\"Plot\"},{\"attributes\":{},\"id\":\"1125\",\"type\":\"ResetTool\"},{\"attributes\":{\"fill_alpha\":{\"value\":0.1},\"fill_color\":{\"value\":\"#1f77b4\"},\"line_alpha\":{\"value\":0.1},\"line_color\":{\"value\":\"#1f77b4\"},\"x\":{\"field\":\"1/s\"},\"y\":{\"field\":\"1/v\"}},\"id\":\"1140\",\"type\":\"Circle\"},{\"attributes\":{\"source\":{\"id\":\"1137\",\"type\":\"ColumnDataSource\"}},\"id\":\"1142\",\"type\":\"CDSView\"},{\"attributes\":{},\"id\":\"1126\",\"type\":\"PanTool\"},{\"attributes\":{},\"id\":\"1153\",\"type\":\"BasicTickFormatter\"},{\"attributes\":{},\"id\":\"1155\",\"type\":\"BasicTickFormatter\"},{\"attributes\":{\"overlay\":{\"id\":\"1132\",\"type\":\"BoxAnnotation\"}},\"id\":\"1127\",\"type\":\"BoxZoomTool\"},{\"attributes\":{\"callback\":null,\"data\":{\"1/s\":{\"__ndarray__\":\"AAAAAAAAAEAAAAAAAADwP5qZmZmZmdk/kiRJkiRJ0j+amZmZmZnJPxEREREREcE/mpmZmZmZuT8RERERERGxP3sUrkfheqQ/exSuR+F6lD8d1EEd1EGNP08b6LSBTos/exSuR+F6hD8=\",\"dtype\":\"float64\",\"shape\":[13]},\"1/v\":{\"__ndarray__\":\"q6qqqqqq+j8XXXTRRRftP57neZ7ned4/vulNb3rT2z/BFPmsG0zRP1VVVVVVVdU/cUfcEXfEzT+rqqqqqqrKP/JW9jmkJsg/VVVVVVVVxT8aGRkZGRnJP0xnMZ3FdMY/fBphuacRxj8=\",\"dtype\":\"float64\",\"shape\":[13]},\"index\":[0,1,2,3,4,5,6,7,8,9,10,11,12],\"s\":{\"__ndarray__\":\"AAAAAAAA4D8AAAAAAADwPwAAAAAAAARAAAAAAAAADEAAAAAAAAAUQAAAAAAAAB5AAAAAAAAAJEAAAAAAAAAuQAAAAAAAADlAAAAAAAAASUAAAAAAAIBRQAAAAAAAwFJAAAAAAAAAWUA=\",\"dtype\":\"float64\",\"shape\":[13]},\"v\":{\"__ndarray__\":\"MzMzMzMz4z+amZmZmZnxP83MzMzMzABAZmZmZmZmAkCamZmZmZkNQAAAAAAAAAhAMzMzMzMzEUAzMzMzMzMTQDMzMzMzMxVAAAAAAAAAGEBmZmZmZmYUQM3MzMzMzBZAMzMzMzMzF0A=\",\"dtype\":\"float64\",\"shape\":[13]}},\"selected\":{\"id\":\"1158\",\"type\":\"Selection\"},\"selection_policy\":{\"id\":\"1159\",\"type\":\"UnionRenderers\"}},\"id\":\"1137\",\"type\":\"ColumnDataSource\"},{\"attributes\":{},\"id\":\"1159\",\"type\":\"UnionRenderers\"},{\"attributes\":{\"active_drag\":\"auto\",\"active_inspect\":\"auto\",\"active_multi\":null,\"active_scroll\":\"auto\",\"active_tap\":\"auto\",\"tools\":[{\"id\":\"1124\",\"type\":\"WheelZoomTool\"},{\"id\":\"1125\",\"type\":\"ResetTool\"},{\"id\":\"1126\",\"type\":\"PanTool\"},{\"id\":\"1127\",\"type\":\"BoxZoomTool\"},{\"id\":\"1128\",\"type\":\"HoverTool\"}]},\"id\":\"1129\",\"type\":\"Toolbar\"},{\"attributes\":{\"bottom_units\":\"screen\",\"fill_alpha\":{\"value\":0.5},\"fill_color\":{\"value\":\"lightgrey\"},\"left_units\":\"screen\",\"level\":\"overlay\",\"line_alpha\":{\"value\":1.0},\"line_color\":{\"value\":\"black\"},\"line_dash\":[4,4],\"line_width\":{\"value\":2},\"plot\":null,\"render_mode\":\"css\",\"right_units\":\"screen\",\"top_units\":\"screen\"},\"id\":\"1132\",\"type\":\"BoxAnnotation\"},{\"attributes\":{\"dimension\":1,\"plot\":{\"id\":\"1104\",\"subtype\":\"Figure\",\"type\":\"Plot\"},\"ticker\":{\"id\":\"1120\",\"type\":\"BasicTicker\"}},\"id\":\"1123\",\"type\":\"Grid\"},{\"attributes\":{\"axis_label\":\"1/s\",\"formatter\":{\"id\":\"1153\",\"type\":\"BasicTickFormatter\"},\"plot\":{\"id\":\"1104\",\"subtype\":\"Figure\",\"type\":\"Plot\"},\"ticker\":{\"id\":\"1115\",\"type\":\"BasicTicker\"}},\"id\":\"1114\",\"type\":\"LinearAxis\"},{\"attributes\":{},\"id\":\"1115\",\"type\":\"BasicTicker\"},{\"attributes\":{},\"id\":\"1158\",\"type\":\"Selection\"},{\"attributes\":{\"axis_label\":\"1/v\",\"formatter\":{\"id\":\"1155\",\"type\":\"BasicTickFormatter\"},\"plot\":{\"id\":\"1104\",\"subtype\":\"Figure\",\"type\":\"Plot\"},\"ticker\":{\"id\":\"1120\",\"type\":\"BasicTicker\"}},\"id\":\"1119\",\"type\":\"LinearAxis\"},{\"attributes\":{\"plot\":null,\"text\":\"Linearizzazione di Lineweaver-Burk\"},\"id\":\"1103\",\"type\":\"Title\"},{\"attributes\":{},\"id\":\"1124\",\"type\":\"WheelZoomTool\"},{\"attributes\":{\"callback\":null,\"tooltips\":[[\"substrate\",\"@s\"],[\"velocity\",\"@v\"]]},\"id\":\"1128\",\"type\":\"HoverTool\"},{\"attributes\":{},\"id\":\"1112\",\"type\":\"LinearScale\"},{\"attributes\":{\"data_source\":{\"id\":\"1137\",\"type\":\"ColumnDataSource\"},\"glyph\":{\"id\":\"1139\",\"type\":\"Circle\"},\"hover_glyph\":null,\"muted_glyph\":null,\"nonselection_glyph\":{\"id\":\"1140\",\"type\":\"Circle\"},\"selection_glyph\":null,\"view\":{\"id\":\"1142\",\"type\":\"CDSView\"}},\"id\":\"1141\",\"type\":\"GlyphRenderer\"},{\"attributes\":{\"callback\":null},\"id\":\"1108\",\"type\":\"DataRange1d\"},{\"attributes\":{\"plot\":{\"id\":\"1104\",\"subtype\":\"Figure\",\"type\":\"Plot\"},\"ticker\":{\"id\":\"1115\",\"type\":\"BasicTicker\"}},\"id\":\"1118\",\"type\":\"Grid\"},{\"attributes\":{},\"id\":\"1120\",\"type\":\"BasicTicker\"},{\"attributes\":{},\"id\":\"1110\",\"type\":\"LinearScale\"},{\"attributes\":{\"callback\":null},\"id\":\"1106\",\"type\":\"DataRange1d\"},{\"attributes\":{\"fill_color\":{\"value\":\"#1f77b4\"},\"line_color\":{\"value\":\"#1f77b4\"},\"x\":{\"field\":\"1/s\"},\"y\":{\"field\":\"1/v\"}},\"id\":\"1139\",\"type\":\"Circle\"}],\"root_ids\":[\"1104\"]},\"title\":\"Bokeh Application\",\"version\":\"1.0.2\"}};\n",
       "  var render_items = [{\"docid\":\"81d73e7c-a941-4b3f-9526-ba4e0843053e\",\"roots\":{\"1104\":\"4cf1953e-7482-4862-8ac4-b51dca1a5404\"}}];\n",
       "  root.Bokeh.embed.embed_items_notebook(docs_json, render_items);\n",
       "\n",
       "  }\n",
       "  if (root.Bokeh !== undefined) {\n",
       "    embed_document(root);\n",
       "  } else {\n",
       "    var attempts = 0;\n",
       "    var timer = setInterval(function(root) {\n",
       "      if (root.Bokeh !== undefined) {\n",
       "        embed_document(root);\n",
       "        clearInterval(timer);\n",
       "      }\n",
       "      attempts++;\n",
       "      if (attempts > 100) {\n",
       "        console.log(\"Bokeh: ERROR: Unable to run BokehJS code because BokehJS library is missing\");\n",
       "        clearInterval(timer);\n",
       "      }\n",
       "    }, 10, root)\n",
       "  }\n",
       "})(window);"
      ],
      "application/vnd.bokehjs_exec.v0+json": ""
     },
     "metadata": {
      "application/vnd.bokehjs_exec.v0+json": {
       "id": "1104"
      }
     },
     "output_type": "display_data"
    }
   ],
   "source": [
    "p1 = figure(title = 'Linearizzazione di Lineweaver-Burk',\n",
    "            x_axis_label= '1/s', \n",
    "            y_axis_label= '1/v',\n",
    "            **param,\n",
    "            )\n",
    "p1.circle( '1/s', '1/v', source=df ) # Plotto i punti (1/s,1/v)\n",
    "show( p1 )"
   ]
  },
  {
   "cell_type": "markdown",
   "metadata": {},
   "source": [
    "Vediamo che i dati seguono un andamento ragionevolmente lineare. Ora calcoliamo il valore della pendenza e dell'intercetta usando la funzione `linregress` della libreria `scipy.stats`.\n",
    "\n",
    "La funzione `linregress` produce 5 valori, nel nostro caso `r_value`, `p_value`, `std_err` sono di difficile interpretazione perché la liearizzazione rende gli errori non uniformi e non distribuiti normalmente."
   ]
  },
  {
   "cell_type": "code",
   "execution_count": 7,
   "metadata": {
    "colab": {
     "base_uri": "https://localhost:8080/",
     "height": 102
    },
    "colab_type": "code",
    "executionInfo": {
     "elapsed": 1224,
     "status": "ok",
     "timestamp": 1554563947053,
     "user": {
      "displayName": "Domenico Zambella",
      "photoUrl": "https://lh3.googleusercontent.com/-BraGnYy55AA/AAAAAAAAAAI/AAAAAAAAAAA/ApUkkU1ZK3k/s64/photo.jpg",
      "userId": "03818394449923864400"
     },
     "user_tz": -120
    },
    "id": "8ODmvOwWo6Yh",
    "outputId": "ee3b3e37-3360-4cec-d5dc-b30c083c7414"
   },
   "outputs": [
    {
     "data": {
      "text/plain": [
       "(0.7480681984452995, 0.17125207846346693)"
      ]
     },
     "execution_count": 7,
     "metadata": {},
     "output_type": "execute_result"
    }
   ],
   "source": [
    "from scipy.stats import linregress\n",
    "slope, intercept, r_value, p_value, std_err = linregress( df['1/s'], df['1/v'] )\n",
    "slope, intercept             # Questi sono gli unici valori che mi interessano"
   ]
  },
  {
   "cell_type": "markdown",
   "metadata": {},
   "source": [
    "Calcoliamo i valori di $V_\\textrm{max}$ e $K_\\textrm{m}$."
   ]
  },
  {
   "cell_type": "code",
   "execution_count": 8,
   "metadata": {},
   "outputs": [],
   "source": [
    "Vmax1 = 1 / intercept\n",
    "Km1 = slope / intercept "
   ]
  },
  {
   "cell_type": "markdown",
   "metadata": {},
   "source": [
    "Per controllo, aggiungiamo alla figura precedente la retta interpolante. Prima creiamo una retta un segmento dal valore minimo di `1/s` al valore massimo di `1/s`. "
   ]
  },
  {
   "cell_type": "code",
   "execution_count": 9,
   "metadata": {
    "colab": {},
    "colab_type": "code",
    "id": "e3ON-bsJr85c"
   },
   "outputs": [],
   "source": [
    "from numpy import array    \n",
    "xmin = df['1/s'].min()        # Estremo sinistro dei valori osservati (var. ind.)\n",
    "xmax = df['1/s'].max()        # Estremo destro dei valori osservati (var. ind.)\n",
    "x = array( [xmin, xmax] )     # Un array di 2 punti tra xmin e xmax\n",
    "y = x * slope + intercept     # I valori previsti dalla retta interpolante"
   ]
  },
  {
   "cell_type": "markdown",
   "metadata": {},
   "source": [
    "Ora aggiungiamo il segmento alla figura `p1` e plottiamo."
   ]
  },
  {
   "cell_type": "code",
   "execution_count": 10,
   "metadata": {},
   "outputs": [
    {
     "data": {
      "text/html": [
       "\n",
       "\n",
       "\n",
       "\n",
       "\n",
       "\n",
       "  <div class=\"bk-root\" id=\"39e6e24e-cc0a-48a9-8a87-955825e28648\"></div>\n"
      ]
     },
     "metadata": {},
     "output_type": "display_data"
    },
    {
     "data": {
      "application/javascript": [
       "(function(root) {\n",
       "  function embed_document(root) {\n",
       "    \n",
       "  var docs_json = {\"d46df472-96b2-44c6-842b-d06fcfcc49b0\":{\"roots\":{\"references\":[{\"attributes\":{\"below\":[{\"id\":\"1114\",\"type\":\"LinearAxis\"}],\"left\":[{\"id\":\"1119\",\"type\":\"LinearAxis\"}],\"plot_height\":250,\"plot_width\":700,\"renderers\":[{\"id\":\"1114\",\"type\":\"LinearAxis\"},{\"id\":\"1118\",\"type\":\"Grid\"},{\"id\":\"1119\",\"type\":\"LinearAxis\"},{\"id\":\"1123\",\"type\":\"Grid\"},{\"id\":\"1132\",\"type\":\"BoxAnnotation\"},{\"id\":\"1141\",\"type\":\"GlyphRenderer\"},{\"id\":\"1211\",\"type\":\"GlyphRenderer\"}],\"title\":{\"id\":\"1103\",\"type\":\"Title\"},\"toolbar\":{\"id\":\"1129\",\"type\":\"Toolbar\"},\"x_range\":{\"id\":\"1106\",\"type\":\"DataRange1d\"},\"x_scale\":{\"id\":\"1110\",\"type\":\"LinearScale\"},\"y_range\":{\"id\":\"1108\",\"type\":\"DataRange1d\"},\"y_scale\":{\"id\":\"1112\",\"type\":\"LinearScale\"}},\"id\":\"1104\",\"subtype\":\"Figure\",\"type\":\"Plot\"},{\"attributes\":{},\"id\":\"1125\",\"type\":\"ResetTool\"},{\"attributes\":{\"fill_alpha\":{\"value\":0.1},\"fill_color\":{\"value\":\"#1f77b4\"},\"line_alpha\":{\"value\":0.1},\"line_color\":{\"value\":\"#1f77b4\"},\"x\":{\"field\":\"1/s\"},\"y\":{\"field\":\"1/v\"}},\"id\":\"1140\",\"type\":\"Circle\"},{\"attributes\":{\"source\":{\"id\":\"1137\",\"type\":\"ColumnDataSource\"}},\"id\":\"1142\",\"type\":\"CDSView\"},{\"attributes\":{},\"id\":\"1126\",\"type\":\"PanTool\"},{\"attributes\":{},\"id\":\"1153\",\"type\":\"BasicTickFormatter\"},{\"attributes\":{},\"id\":\"1155\",\"type\":\"BasicTickFormatter\"},{\"attributes\":{\"overlay\":{\"id\":\"1132\",\"type\":\"BoxAnnotation\"}},\"id\":\"1127\",\"type\":\"BoxZoomTool\"},{\"attributes\":{\"callback\":null,\"data\":{\"1/s\":{\"__ndarray__\":\"AAAAAAAAAEAAAAAAAADwP5qZmZmZmdk/kiRJkiRJ0j+amZmZmZnJPxEREREREcE/mpmZmZmZuT8RERERERGxP3sUrkfheqQ/exSuR+F6lD8d1EEd1EGNP08b6LSBTos/exSuR+F6hD8=\",\"dtype\":\"float64\",\"shape\":[13]},\"1/v\":{\"__ndarray__\":\"q6qqqqqq+j8XXXTRRRftP57neZ7ned4/vulNb3rT2z/BFPmsG0zRP1VVVVVVVdU/cUfcEXfEzT+rqqqqqqrKP/JW9jmkJsg/VVVVVVVVxT8aGRkZGRnJP0xnMZ3FdMY/fBphuacRxj8=\",\"dtype\":\"float64\",\"shape\":[13]},\"index\":[0,1,2,3,4,5,6,7,8,9,10,11,12],\"s\":{\"__ndarray__\":\"AAAAAAAA4D8AAAAAAADwPwAAAAAAAARAAAAAAAAADEAAAAAAAAAUQAAAAAAAAB5AAAAAAAAAJEAAAAAAAAAuQAAAAAAAADlAAAAAAAAASUAAAAAAAIBRQAAAAAAAwFJAAAAAAAAAWUA=\",\"dtype\":\"float64\",\"shape\":[13]},\"v\":{\"__ndarray__\":\"MzMzMzMz4z+amZmZmZnxP83MzMzMzABAZmZmZmZmAkCamZmZmZkNQAAAAAAAAAhAMzMzMzMzEUAzMzMzMzMTQDMzMzMzMxVAAAAAAAAAGEBmZmZmZmYUQM3MzMzMzBZAMzMzMzMzF0A=\",\"dtype\":\"float64\",\"shape\":[13]}},\"selected\":{\"id\":\"1158\",\"type\":\"Selection\"},\"selection_policy\":{\"id\":\"1159\",\"type\":\"UnionRenderers\"}},\"id\":\"1137\",\"type\":\"ColumnDataSource\"},{\"attributes\":{\"line_alpha\":0.1,\"line_color\":\"#1f77b4\",\"x\":{\"field\":\"x\"},\"y\":{\"field\":\"y\"}},\"id\":\"1210\",\"type\":\"Line\"},{\"attributes\":{\"source\":{\"id\":\"1208\",\"type\":\"ColumnDataSource\"}},\"id\":\"1212\",\"type\":\"CDSView\"},{\"attributes\":{},\"id\":\"1159\",\"type\":\"UnionRenderers\"},{\"attributes\":{\"active_drag\":\"auto\",\"active_inspect\":\"auto\",\"active_multi\":null,\"active_scroll\":\"auto\",\"active_tap\":\"auto\",\"tools\":[{\"id\":\"1124\",\"type\":\"WheelZoomTool\"},{\"id\":\"1125\",\"type\":\"ResetTool\"},{\"id\":\"1126\",\"type\":\"PanTool\"},{\"id\":\"1127\",\"type\":\"BoxZoomTool\"},{\"id\":\"1128\",\"type\":\"HoverTool\"}]},\"id\":\"1129\",\"type\":\"Toolbar\"},{\"attributes\":{\"bottom_units\":\"screen\",\"fill_alpha\":{\"value\":0.5},\"fill_color\":{\"value\":\"lightgrey\"},\"left_units\":\"screen\",\"level\":\"overlay\",\"line_alpha\":{\"value\":1.0},\"line_color\":{\"value\":\"black\"},\"line_dash\":[4,4],\"line_width\":{\"value\":2},\"plot\":null,\"render_mode\":\"css\",\"right_units\":\"screen\",\"top_units\":\"screen\"},\"id\":\"1132\",\"type\":\"BoxAnnotation\"},{\"attributes\":{},\"id\":\"1230\",\"type\":\"Selection\"},{\"attributes\":{\"dimension\":1,\"plot\":{\"id\":\"1104\",\"subtype\":\"Figure\",\"type\":\"Plot\"},\"ticker\":{\"id\":\"1120\",\"type\":\"BasicTicker\"}},\"id\":\"1123\",\"type\":\"Grid\"},{\"attributes\":{},\"id\":\"1231\",\"type\":\"UnionRenderers\"},{\"attributes\":{\"axis_label\":\"1/s\",\"formatter\":{\"id\":\"1153\",\"type\":\"BasicTickFormatter\"},\"plot\":{\"id\":\"1104\",\"subtype\":\"Figure\",\"type\":\"Plot\"},\"ticker\":{\"id\":\"1115\",\"type\":\"BasicTicker\"}},\"id\":\"1114\",\"type\":\"LinearAxis\"},{\"attributes\":{},\"id\":\"1115\",\"type\":\"BasicTicker\"},{\"attributes\":{},\"id\":\"1158\",\"type\":\"Selection\"},{\"attributes\":{\"axis_label\":\"1/v\",\"formatter\":{\"id\":\"1155\",\"type\":\"BasicTickFormatter\"},\"plot\":{\"id\":\"1104\",\"subtype\":\"Figure\",\"type\":\"Plot\"},\"ticker\":{\"id\":\"1120\",\"type\":\"BasicTicker\"}},\"id\":\"1119\",\"type\":\"LinearAxis\"},{\"attributes\":{\"plot\":null,\"text\":\"Linearizzazione di Lineweaver-Burk\"},\"id\":\"1103\",\"type\":\"Title\"},{\"attributes\":{},\"id\":\"1124\",\"type\":\"WheelZoomTool\"},{\"attributes\":{\"callback\":null,\"tooltips\":[[\"substrate\",\"@s\"],[\"velocity\",\"@v\"]]},\"id\":\"1128\",\"type\":\"HoverTool\"},{\"attributes\":{},\"id\":\"1112\",\"type\":\"LinearScale\"},{\"attributes\":{\"data_source\":{\"id\":\"1137\",\"type\":\"ColumnDataSource\"},\"glyph\":{\"id\":\"1139\",\"type\":\"Circle\"},\"hover_glyph\":null,\"muted_glyph\":null,\"nonselection_glyph\":{\"id\":\"1140\",\"type\":\"Circle\"},\"selection_glyph\":null,\"view\":{\"id\":\"1142\",\"type\":\"CDSView\"}},\"id\":\"1141\",\"type\":\"GlyphRenderer\"},{\"attributes\":{\"callback\":null},\"id\":\"1108\",\"type\":\"DataRange1d\"},{\"attributes\":{\"line_color\":\"brown\",\"x\":{\"field\":\"x\"},\"y\":{\"field\":\"y\"}},\"id\":\"1209\",\"type\":\"Line\"},{\"attributes\":{\"plot\":{\"id\":\"1104\",\"subtype\":\"Figure\",\"type\":\"Plot\"},\"ticker\":{\"id\":\"1115\",\"type\":\"BasicTicker\"}},\"id\":\"1118\",\"type\":\"Grid\"},{\"attributes\":{},\"id\":\"1120\",\"type\":\"BasicTicker\"},{\"attributes\":{\"fill_color\":{\"value\":\"#1f77b4\"},\"line_color\":{\"value\":\"#1f77b4\"},\"x\":{\"field\":\"1/s\"},\"y\":{\"field\":\"1/v\"}},\"id\":\"1139\",\"type\":\"Circle\"},{\"attributes\":{\"callback\":null,\"data\":{\"x\":{\"__ndarray__\":\"exSuR+F6hD8AAAAAAAAAQA==\",\"dtype\":\"float64\",\"shape\":[2]},\"y\":{\"__ndarray__\":\"w35sELfgxj/f97WJn636Pw==\",\"dtype\":\"float64\",\"shape\":[2]}},\"selected\":{\"id\":\"1230\",\"type\":\"Selection\"},\"selection_policy\":{\"id\":\"1231\",\"type\":\"UnionRenderers\"}},\"id\":\"1208\",\"type\":\"ColumnDataSource\"},{\"attributes\":{},\"id\":\"1110\",\"type\":\"LinearScale\"},{\"attributes\":{\"callback\":null},\"id\":\"1106\",\"type\":\"DataRange1d\"},{\"attributes\":{\"data_source\":{\"id\":\"1208\",\"type\":\"ColumnDataSource\"},\"glyph\":{\"id\":\"1209\",\"type\":\"Line\"},\"hover_glyph\":null,\"muted_glyph\":null,\"nonselection_glyph\":{\"id\":\"1210\",\"type\":\"Line\"},\"selection_glyph\":null,\"view\":{\"id\":\"1212\",\"type\":\"CDSView\"}},\"id\":\"1211\",\"type\":\"GlyphRenderer\"}],\"root_ids\":[\"1104\"]},\"title\":\"Bokeh Application\",\"version\":\"1.0.2\"}};\n",
       "  var render_items = [{\"docid\":\"d46df472-96b2-44c6-842b-d06fcfcc49b0\",\"roots\":{\"1104\":\"39e6e24e-cc0a-48a9-8a87-955825e28648\"}}];\n",
       "  root.Bokeh.embed.embed_items_notebook(docs_json, render_items);\n",
       "\n",
       "  }\n",
       "  if (root.Bokeh !== undefined) {\n",
       "    embed_document(root);\n",
       "  } else {\n",
       "    var attempts = 0;\n",
       "    var timer = setInterval(function(root) {\n",
       "      if (root.Bokeh !== undefined) {\n",
       "        embed_document(root);\n",
       "        clearInterval(timer);\n",
       "      }\n",
       "      attempts++;\n",
       "      if (attempts > 100) {\n",
       "        console.log(\"Bokeh: ERROR: Unable to run BokehJS code because BokehJS library is missing\");\n",
       "        clearInterval(timer);\n",
       "      }\n",
       "    }, 10, root)\n",
       "  }\n",
       "})(window);"
      ],
      "application/vnd.bokehjs_exec.v0+json": ""
     },
     "metadata": {
      "application/vnd.bokehjs_exec.v0+json": {
       "id": "1104"
      }
     },
     "output_type": "display_data"
    },
    {
     "data": {
      "text/plain": [
       "'Vmax = 5.839345186186042, Km = 4.368228433530424'"
      ]
     },
     "execution_count": 10,
     "metadata": {},
     "output_type": "execute_result"
    }
   ],
   "source": [
    "p1.line( x, y, color='brown')  # Aggiungiamo la retta al grafico\n",
    "show( p1 )\n",
    "'Vmax = {}, Km = {}'.format(Vmax1, Km1) "
   ]
  },
  {
   "cell_type": "markdown",
   "metadata": {
    "colab_type": "text",
    "id": "flAGQs9m0pLs"
   },
   "source": [
    "Altra breve introduzione teorica:\n",
    "<hr><br>\n",
    "\n",
    "# Linearizzazione 2: Eadie-Hofstee\n",
    "\n",
    "<br>\n",
    "\n",
    "\n",
    "$$\n",
    "v\n",
    "=\n",
    "-K_\\text{m}\\dfrac{v}{s}\\ +\\ V_\\text{max}\n",
    "$$\n",
    "\n",
    "<br><hr><br>\n",
    "\n",
    "Espandiamo il dataframe con i valori di `v/s`. "
   ]
  },
  {
   "cell_type": "code",
   "execution_count": 11,
   "metadata": {
    "colab": {
     "base_uri": "https://localhost:8080/",
     "height": 443
    },
    "colab_type": "code",
    "executionInfo": {
     "elapsed": 975,
     "status": "ok",
     "timestamp": 1554564011236,
     "user": {
      "displayName": "Domenico Zambella",
      "photoUrl": "https://lh3.googleusercontent.com/-BraGnYy55AA/AAAAAAAAAAI/AAAAAAAAAAA/ApUkkU1ZK3k/s64/photo.jpg",
      "userId": "03818394449923864400"
     },
     "user_tz": -120
    },
    "id": "jWKcvD_rxKx8",
    "outputId": "7ff6b653-31bc-4ff7-9e75-d2df373f7857"
   },
   "outputs": [
    {
     "data": {
      "text/html": [
       "<div>\n",
       "<style scoped>\n",
       "    .dataframe tbody tr th:only-of-type {\n",
       "        vertical-align: middle;\n",
       "    }\n",
       "\n",
       "    .dataframe tbody tr th {\n",
       "        vertical-align: top;\n",
       "    }\n",
       "\n",
       "    .dataframe thead th {\n",
       "        text-align: right;\n",
       "    }\n",
       "</style>\n",
       "<table border=\"1\" class=\"dataframe\">\n",
       "  <thead>\n",
       "    <tr style=\"text-align: right;\">\n",
       "      <th></th>\n",
       "      <th>s</th>\n",
       "      <th>v</th>\n",
       "      <th>1/s</th>\n",
       "      <th>1/v</th>\n",
       "      <th>v/s</th>\n",
       "    </tr>\n",
       "  </thead>\n",
       "  <tbody>\n",
       "    <tr>\n",
       "      <th>0</th>\n",
       "      <td>0.5</td>\n",
       "      <td>0.6</td>\n",
       "      <td>2.000000</td>\n",
       "      <td>1.666667</td>\n",
       "      <td>1.200000</td>\n",
       "    </tr>\n",
       "    <tr>\n",
       "      <th>1</th>\n",
       "      <td>1.0</td>\n",
       "      <td>1.1</td>\n",
       "      <td>1.000000</td>\n",
       "      <td>0.909091</td>\n",
       "      <td>1.100000</td>\n",
       "    </tr>\n",
       "    <tr>\n",
       "      <th>2</th>\n",
       "      <td>2.5</td>\n",
       "      <td>2.1</td>\n",
       "      <td>0.400000</td>\n",
       "      <td>0.476190</td>\n",
       "      <td>0.840000</td>\n",
       "    </tr>\n",
       "    <tr>\n",
       "      <th>3</th>\n",
       "      <td>3.5</td>\n",
       "      <td>2.3</td>\n",
       "      <td>0.285714</td>\n",
       "      <td>0.434783</td>\n",
       "      <td>0.657143</td>\n",
       "    </tr>\n",
       "    <tr>\n",
       "      <th>4</th>\n",
       "      <td>5.0</td>\n",
       "      <td>3.7</td>\n",
       "      <td>0.200000</td>\n",
       "      <td>0.270270</td>\n",
       "      <td>0.740000</td>\n",
       "    </tr>\n",
       "    <tr>\n",
       "      <th>5</th>\n",
       "      <td>7.5</td>\n",
       "      <td>3.0</td>\n",
       "      <td>0.133333</td>\n",
       "      <td>0.333333</td>\n",
       "      <td>0.400000</td>\n",
       "    </tr>\n",
       "    <tr>\n",
       "      <th>6</th>\n",
       "      <td>10.0</td>\n",
       "      <td>4.3</td>\n",
       "      <td>0.100000</td>\n",
       "      <td>0.232558</td>\n",
       "      <td>0.430000</td>\n",
       "    </tr>\n",
       "    <tr>\n",
       "      <th>7</th>\n",
       "      <td>15.0</td>\n",
       "      <td>4.8</td>\n",
       "      <td>0.066667</td>\n",
       "      <td>0.208333</td>\n",
       "      <td>0.320000</td>\n",
       "    </tr>\n",
       "    <tr>\n",
       "      <th>8</th>\n",
       "      <td>25.0</td>\n",
       "      <td>5.3</td>\n",
       "      <td>0.040000</td>\n",
       "      <td>0.188679</td>\n",
       "      <td>0.212000</td>\n",
       "    </tr>\n",
       "    <tr>\n",
       "      <th>9</th>\n",
       "      <td>50.0</td>\n",
       "      <td>6.0</td>\n",
       "      <td>0.020000</td>\n",
       "      <td>0.166667</td>\n",
       "      <td>0.120000</td>\n",
       "    </tr>\n",
       "    <tr>\n",
       "      <th>10</th>\n",
       "      <td>70.0</td>\n",
       "      <td>5.1</td>\n",
       "      <td>0.014286</td>\n",
       "      <td>0.196078</td>\n",
       "      <td>0.072857</td>\n",
       "    </tr>\n",
       "    <tr>\n",
       "      <th>11</th>\n",
       "      <td>75.0</td>\n",
       "      <td>5.7</td>\n",
       "      <td>0.013333</td>\n",
       "      <td>0.175439</td>\n",
       "      <td>0.076000</td>\n",
       "    </tr>\n",
       "    <tr>\n",
       "      <th>12</th>\n",
       "      <td>100.0</td>\n",
       "      <td>5.8</td>\n",
       "      <td>0.010000</td>\n",
       "      <td>0.172414</td>\n",
       "      <td>0.058000</td>\n",
       "    </tr>\n",
       "  </tbody>\n",
       "</table>\n",
       "</div>"
      ],
      "text/plain": [
       "        s    v       1/s       1/v       v/s\n",
       "0     0.5  0.6  2.000000  1.666667  1.200000\n",
       "1     1.0  1.1  1.000000  0.909091  1.100000\n",
       "2     2.5  2.1  0.400000  0.476190  0.840000\n",
       "3     3.5  2.3  0.285714  0.434783  0.657143\n",
       "4     5.0  3.7  0.200000  0.270270  0.740000\n",
       "5     7.5  3.0  0.133333  0.333333  0.400000\n",
       "6    10.0  4.3  0.100000  0.232558  0.430000\n",
       "7    15.0  4.8  0.066667  0.208333  0.320000\n",
       "8    25.0  5.3  0.040000  0.188679  0.212000\n",
       "9    50.0  6.0  0.020000  0.166667  0.120000\n",
       "10   70.0  5.1  0.014286  0.196078  0.072857\n",
       "11   75.0  5.7  0.013333  0.175439  0.076000\n",
       "12  100.0  5.8  0.010000  0.172414  0.058000"
      ]
     },
     "execution_count": 11,
     "metadata": {},
     "output_type": "execute_result"
    }
   ],
   "source": [
    "df['v/s'] = df['v'] / df['s']\n",
    "df"
   ]
  },
  {
   "cell_type": "code",
   "execution_count": 12,
   "metadata": {
    "colab": {
     "base_uri": "https://localhost:8080/",
     "height": 297
    },
    "colab_type": "code",
    "executionInfo": {
     "elapsed": 848,
     "status": "ok",
     "timestamp": 1554564017252,
     "user": {
      "displayName": "Domenico Zambella",
      "photoUrl": "https://lh3.googleusercontent.com/-BraGnYy55AA/AAAAAAAAAAI/AAAAAAAAAAA/ApUkkU1ZK3k/s64/photo.jpg",
      "userId": "03818394449923864400"
     },
     "user_tz": -120
    },
    "id": "7R868qF62GDL",
    "outputId": "72bfbf01-122c-43ae-ed0c-319c980880f8"
   },
   "outputs": [
    {
     "data": {
      "text/html": [
       "\n",
       "\n",
       "\n",
       "\n",
       "\n",
       "\n",
       "  <div class=\"bk-root\" id=\"6a7d8098-8a6d-4a73-beb2-a2ca5b51c5ef\"></div>\n"
      ]
     },
     "metadata": {},
     "output_type": "display_data"
    },
    {
     "data": {
      "application/javascript": [
       "(function(root) {\n",
       "  function embed_document(root) {\n",
       "    \n",
       "  var docs_json = {\"0722d3e3-84a5-4725-a354-0640c7dbc66e\":{\"roots\":{\"references\":[{\"attributes\":{\"below\":[{\"id\":\"1303\",\"type\":\"LinearAxis\"}],\"left\":[{\"id\":\"1308\",\"type\":\"LinearAxis\"}],\"plot_height\":250,\"plot_width\":700,\"renderers\":[{\"id\":\"1303\",\"type\":\"LinearAxis\"},{\"id\":\"1307\",\"type\":\"Grid\"},{\"id\":\"1308\",\"type\":\"LinearAxis\"},{\"id\":\"1312\",\"type\":\"Grid\"},{\"id\":\"1321\",\"type\":\"BoxAnnotation\"},{\"id\":\"1330\",\"type\":\"GlyphRenderer\"}],\"title\":{\"id\":\"1292\",\"type\":\"Title\"},\"toolbar\":{\"id\":\"1318\",\"type\":\"Toolbar\"},\"x_range\":{\"id\":\"1295\",\"type\":\"DataRange1d\"},\"x_scale\":{\"id\":\"1299\",\"type\":\"LinearScale\"},\"y_range\":{\"id\":\"1297\",\"type\":\"DataRange1d\"},\"y_scale\":{\"id\":\"1301\",\"type\":\"LinearScale\"}},\"id\":\"1293\",\"subtype\":\"Figure\",\"type\":\"Plot\"},{\"attributes\":{},\"id\":\"1313\",\"type\":\"WheelZoomTool\"},{\"attributes\":{},\"id\":\"1354\",\"type\":\"BasicTickFormatter\"},{\"attributes\":{},\"id\":\"1299\",\"type\":\"LinearScale\"},{\"attributes\":{},\"id\":\"1357\",\"type\":\"Selection\"},{\"attributes\":{\"axis_label\":\"v/s\",\"formatter\":{\"id\":\"1352\",\"type\":\"BasicTickFormatter\"},\"plot\":{\"id\":\"1293\",\"subtype\":\"Figure\",\"type\":\"Plot\"},\"ticker\":{\"id\":\"1304\",\"type\":\"BasicTicker\"}},\"id\":\"1303\",\"type\":\"LinearAxis\"},{\"attributes\":{},\"id\":\"1301\",\"type\":\"LinearScale\"},{\"attributes\":{},\"id\":\"1358\",\"type\":\"UnionRenderers\"},{\"attributes\":{\"callback\":null,\"tooltips\":[[\"substrate\",\"@s\"],[\"velocity\",\"@v\"]]},\"id\":\"1317\",\"type\":\"HoverTool\"},{\"attributes\":{\"active_drag\":\"auto\",\"active_inspect\":\"auto\",\"active_multi\":null,\"active_scroll\":\"auto\",\"active_tap\":\"auto\",\"tools\":[{\"id\":\"1313\",\"type\":\"WheelZoomTool\"},{\"id\":\"1314\",\"type\":\"ResetTool\"},{\"id\":\"1315\",\"type\":\"PanTool\"},{\"id\":\"1316\",\"type\":\"BoxZoomTool\"},{\"id\":\"1317\",\"type\":\"HoverTool\"}]},\"id\":\"1318\",\"type\":\"Toolbar\"},{\"attributes\":{},\"id\":\"1304\",\"type\":\"BasicTicker\"},{\"attributes\":{\"fill_alpha\":{\"value\":0.1},\"fill_color\":{\"value\":\"#1f77b4\"},\"line_alpha\":{\"value\":0.1},\"line_color\":{\"value\":\"#1f77b4\"},\"x\":{\"field\":\"v/s\"},\"y\":{\"field\":\"v\"}},\"id\":\"1329\",\"type\":\"Circle\"},{\"attributes\":{\"overlay\":{\"id\":\"1321\",\"type\":\"BoxAnnotation\"}},\"id\":\"1316\",\"type\":\"BoxZoomTool\"},{\"attributes\":{},\"id\":\"1352\",\"type\":\"BasicTickFormatter\"},{\"attributes\":{\"callback\":null,\"data\":{\"1/s\":{\"__ndarray__\":\"AAAAAAAAAEAAAAAAAADwP5qZmZmZmdk/kiRJkiRJ0j+amZmZmZnJPxEREREREcE/mpmZmZmZuT8RERERERGxP3sUrkfheqQ/exSuR+F6lD8d1EEd1EGNP08b6LSBTos/exSuR+F6hD8=\",\"dtype\":\"float64\",\"shape\":[13]},\"1/v\":{\"__ndarray__\":\"q6qqqqqq+j8XXXTRRRftP57neZ7ned4/vulNb3rT2z/BFPmsG0zRP1VVVVVVVdU/cUfcEXfEzT+rqqqqqqrKP/JW9jmkJsg/VVVVVVVVxT8aGRkZGRnJP0xnMZ3FdMY/fBphuacRxj8=\",\"dtype\":\"float64\",\"shape\":[13]},\"index\":[0,1,2,3,4,5,6,7,8,9,10,11,12],\"s\":{\"__ndarray__\":\"AAAAAAAA4D8AAAAAAADwPwAAAAAAAARAAAAAAAAADEAAAAAAAAAUQAAAAAAAAB5AAAAAAAAAJEAAAAAAAAAuQAAAAAAAADlAAAAAAAAASUAAAAAAAIBRQAAAAAAAwFJAAAAAAAAAWUA=\",\"dtype\":\"float64\",\"shape\":[13]},\"v\":{\"__ndarray__\":\"MzMzMzMz4z+amZmZmZnxP83MzMzMzABAZmZmZmZmAkCamZmZmZkNQAAAAAAAAAhAMzMzMzMzEUAzMzMzMzMTQDMzMzMzMxVAAAAAAAAAGEBmZmZmZmYUQM3MzMzMzBZAMzMzMzMzF0A=\",\"dtype\":\"float64\",\"shape\":[13]},\"v/s\":{\"__ndarray__\":\"MzMzMzMz8z+amZmZmZnxP+J6FK5H4eo/dVAHdVAH5T+uR+F6FK7nP5qZmZmZmdk/hetRuB6F2z97FK5H4XrUP4lBYOXQIss/uB6F61G4vj8599kFxKayP9v5fmq8dLM/GARWDi2yrT8=\",\"dtype\":\"float64\",\"shape\":[13]}},\"selected\":{\"id\":\"1357\",\"type\":\"Selection\"},\"selection_policy\":{\"id\":\"1358\",\"type\":\"UnionRenderers\"}},\"id\":\"1326\",\"type\":\"ColumnDataSource\"},{\"attributes\":{\"dimension\":1,\"plot\":{\"id\":\"1293\",\"subtype\":\"Figure\",\"type\":\"Plot\"},\"ticker\":{\"id\":\"1309\",\"type\":\"BasicTicker\"}},\"id\":\"1312\",\"type\":\"Grid\"},{\"attributes\":{\"plot\":null,\"text\":\"Eadie-Hofstee\"},\"id\":\"1292\",\"type\":\"Title\"},{\"attributes\":{\"callback\":null},\"id\":\"1297\",\"type\":\"DataRange1d\"},{\"attributes\":{\"callback\":null},\"id\":\"1295\",\"type\":\"DataRange1d\"},{\"attributes\":{\"plot\":{\"id\":\"1293\",\"subtype\":\"Figure\",\"type\":\"Plot\"},\"ticker\":{\"id\":\"1304\",\"type\":\"BasicTicker\"}},\"id\":\"1307\",\"type\":\"Grid\"},{\"attributes\":{\"bottom_units\":\"screen\",\"fill_alpha\":{\"value\":0.5},\"fill_color\":{\"value\":\"lightgrey\"},\"left_units\":\"screen\",\"level\":\"overlay\",\"line_alpha\":{\"value\":1.0},\"line_color\":{\"value\":\"black\"},\"line_dash\":[4,4],\"line_width\":{\"value\":2},\"plot\":null,\"render_mode\":\"css\",\"right_units\":\"screen\",\"top_units\":\"screen\"},\"id\":\"1321\",\"type\":\"BoxAnnotation\"},{\"attributes\":{\"axis_label\":\"v\",\"formatter\":{\"id\":\"1354\",\"type\":\"BasicTickFormatter\"},\"plot\":{\"id\":\"1293\",\"subtype\":\"Figure\",\"type\":\"Plot\"},\"ticker\":{\"id\":\"1309\",\"type\":\"BasicTicker\"}},\"id\":\"1308\",\"type\":\"LinearAxis\"},{\"attributes\":{},\"id\":\"1314\",\"type\":\"ResetTool\"},{\"attributes\":{},\"id\":\"1309\",\"type\":\"BasicTicker\"},{\"attributes\":{},\"id\":\"1315\",\"type\":\"PanTool\"},{\"attributes\":{\"data_source\":{\"id\":\"1326\",\"type\":\"ColumnDataSource\"},\"glyph\":{\"id\":\"1328\",\"type\":\"Circle\"},\"hover_glyph\":null,\"muted_glyph\":null,\"nonselection_glyph\":{\"id\":\"1329\",\"type\":\"Circle\"},\"selection_glyph\":null,\"view\":{\"id\":\"1331\",\"type\":\"CDSView\"}},\"id\":\"1330\",\"type\":\"GlyphRenderer\"},{\"attributes\":{\"fill_color\":{\"value\":\"#1f77b4\"},\"line_color\":{\"value\":\"#1f77b4\"},\"x\":{\"field\":\"v/s\"},\"y\":{\"field\":\"v\"}},\"id\":\"1328\",\"type\":\"Circle\"},{\"attributes\":{\"source\":{\"id\":\"1326\",\"type\":\"ColumnDataSource\"}},\"id\":\"1331\",\"type\":\"CDSView\"}],\"root_ids\":[\"1293\"]},\"title\":\"Bokeh Application\",\"version\":\"1.0.2\"}};\n",
       "  var render_items = [{\"docid\":\"0722d3e3-84a5-4725-a354-0640c7dbc66e\",\"roots\":{\"1293\":\"6a7d8098-8a6d-4a73-beb2-a2ca5b51c5ef\"}}];\n",
       "  root.Bokeh.embed.embed_items_notebook(docs_json, render_items);\n",
       "\n",
       "  }\n",
       "  if (root.Bokeh !== undefined) {\n",
       "    embed_document(root);\n",
       "  } else {\n",
       "    var attempts = 0;\n",
       "    var timer = setInterval(function(root) {\n",
       "      if (root.Bokeh !== undefined) {\n",
       "        embed_document(root);\n",
       "        clearInterval(timer);\n",
       "      }\n",
       "      attempts++;\n",
       "      if (attempts > 100) {\n",
       "        console.log(\"Bokeh: ERROR: Unable to run BokehJS code because BokehJS library is missing\");\n",
       "        clearInterval(timer);\n",
       "      }\n",
       "    }, 10, root)\n",
       "  }\n",
       "})(window);"
      ],
      "application/vnd.bokehjs_exec.v0+json": ""
     },
     "metadata": {
      "application/vnd.bokehjs_exec.v0+json": {
       "id": "1293"
      }
     },
     "output_type": "display_data"
    }
   ],
   "source": [
    "p2 = figure(title = 'Eadie-Hofstee', x_axis_label='v/s', y_axis_label='v', **param )\n",
    "p2.circle( 'v/s', 'v', source=df ) # Plotto i punti (v/s, v)\n",
    "show( p2 )"
   ]
  },
  {
   "cell_type": "markdown",
   "metadata": {
    "colab_type": "text",
    "id": "2X7Xt1GNQnnE"
   },
   "source": [
    "Interpoliamo questi valori con una regressione lineare.\n",
    "\n",
    "Calcoliamo anche i valori di $V_\\text{max}$ e $K_\\text{m}$.\n",
    "\n",
    "Aggiungiamo la retta interpolante alla figura precedente."
   ]
  },
  {
   "cell_type": "code",
   "execution_count": 13,
   "metadata": {
    "colab": {
     "base_uri": "https://localhost:8080/",
     "height": 314
    },
    "colab_type": "code",
    "executionInfo": {
     "elapsed": 1597,
     "status": "ok",
     "timestamp": 1554563947469,
     "user": {
      "displayName": "Domenico Zambella",
      "photoUrl": "https://lh3.googleusercontent.com/-BraGnYy55AA/AAAAAAAAAAI/AAAAAAAAAAA/ApUkkU1ZK3k/s64/photo.jpg",
      "userId": "03818394449923864400"
     },
     "user_tz": -120
    },
    "id": "2ddo6SVa5DFV",
    "outputId": "177436b0-5b09-4abf-e959-46706a141dbc"
   },
   "outputs": [
    {
     "data": {
      "text/html": [
       "\n",
       "\n",
       "\n",
       "\n",
       "\n",
       "\n",
       "  <div class=\"bk-root\" id=\"0ac1eee1-8ad9-4289-8ff9-ae04703f608b\"></div>\n"
      ]
     },
     "metadata": {},
     "output_type": "display_data"
    },
    {
     "data": {
      "application/javascript": [
       "(function(root) {\n",
       "  function embed_document(root) {\n",
       "    \n",
       "  var docs_json = {\"591b0b0a-a70f-423a-b64f-9404d38cc69a\":{\"roots\":{\"references\":[{\"attributes\":{\"below\":[{\"id\":\"1303\",\"type\":\"LinearAxis\"}],\"left\":[{\"id\":\"1308\",\"type\":\"LinearAxis\"}],\"plot_height\":250,\"plot_width\":700,\"renderers\":[{\"id\":\"1303\",\"type\":\"LinearAxis\"},{\"id\":\"1307\",\"type\":\"Grid\"},{\"id\":\"1308\",\"type\":\"LinearAxis\"},{\"id\":\"1312\",\"type\":\"Grid\"},{\"id\":\"1321\",\"type\":\"BoxAnnotation\"},{\"id\":\"1330\",\"type\":\"GlyphRenderer\"},{\"id\":\"1410\",\"type\":\"GlyphRenderer\"}],\"title\":{\"id\":\"1292\",\"type\":\"Title\"},\"toolbar\":{\"id\":\"1318\",\"type\":\"Toolbar\"},\"x_range\":{\"id\":\"1295\",\"type\":\"DataRange1d\"},\"x_scale\":{\"id\":\"1299\",\"type\":\"LinearScale\"},\"y_range\":{\"id\":\"1297\",\"type\":\"DataRange1d\"},\"y_scale\":{\"id\":\"1301\",\"type\":\"LinearScale\"}},\"id\":\"1293\",\"subtype\":\"Figure\",\"type\":\"Plot\"},{\"attributes\":{},\"id\":\"1313\",\"type\":\"WheelZoomTool\"},{\"attributes\":{},\"id\":\"1354\",\"type\":\"BasicTickFormatter\"},{\"attributes\":{},\"id\":\"1299\",\"type\":\"LinearScale\"},{\"attributes\":{\"line_color\":\"brown\",\"x\":{\"field\":\"x\"},\"y\":{\"field\":\"y\"}},\"id\":\"1408\",\"type\":\"Line\"},{\"attributes\":{},\"id\":\"1357\",\"type\":\"Selection\"},{\"attributes\":{\"line_alpha\":0.1,\"line_color\":\"#1f77b4\",\"x\":{\"field\":\"x\"},\"y\":{\"field\":\"y\"}},\"id\":\"1409\",\"type\":\"Line\"},{\"attributes\":{\"axis_label\":\"v/s\",\"formatter\":{\"id\":\"1352\",\"type\":\"BasicTickFormatter\"},\"plot\":{\"id\":\"1293\",\"subtype\":\"Figure\",\"type\":\"Plot\"},\"ticker\":{\"id\":\"1304\",\"type\":\"BasicTicker\"}},\"id\":\"1303\",\"type\":\"LinearAxis\"},{\"attributes\":{},\"id\":\"1301\",\"type\":\"LinearScale\"},{\"attributes\":{},\"id\":\"1358\",\"type\":\"UnionRenderers\"},{\"attributes\":{\"data_source\":{\"id\":\"1407\",\"type\":\"ColumnDataSource\"},\"glyph\":{\"id\":\"1408\",\"type\":\"Line\"},\"hover_glyph\":null,\"muted_glyph\":null,\"nonselection_glyph\":{\"id\":\"1409\",\"type\":\"Line\"},\"selection_glyph\":null,\"view\":{\"id\":\"1411\",\"type\":\"CDSView\"}},\"id\":\"1410\",\"type\":\"GlyphRenderer\"},{\"attributes\":{\"callback\":null,\"tooltips\":[[\"substrate\",\"@s\"],[\"velocity\",\"@v\"]]},\"id\":\"1317\",\"type\":\"HoverTool\"},{\"attributes\":{\"active_drag\":\"auto\",\"active_inspect\":\"auto\",\"active_multi\":null,\"active_scroll\":\"auto\",\"active_tap\":\"auto\",\"tools\":[{\"id\":\"1313\",\"type\":\"WheelZoomTool\"},{\"id\":\"1314\",\"type\":\"ResetTool\"},{\"id\":\"1315\",\"type\":\"PanTool\"},{\"id\":\"1316\",\"type\":\"BoxZoomTool\"},{\"id\":\"1317\",\"type\":\"HoverTool\"}]},\"id\":\"1318\",\"type\":\"Toolbar\"},{\"attributes\":{},\"id\":\"1439\",\"type\":\"Selection\"},{\"attributes\":{},\"id\":\"1304\",\"type\":\"BasicTicker\"},{\"attributes\":{\"source\":{\"id\":\"1407\",\"type\":\"ColumnDataSource\"}},\"id\":\"1411\",\"type\":\"CDSView\"},{\"attributes\":{\"callback\":null,\"data\":{\"x\":{\"__ndarray__\":\"GARWDi2yrT8zMzMzMzPzPw==\",\"dtype\":\"float64\",\"shape\":[2]},\"y\":{\"__ndarray__\":\"eif0++rPFkCoVXOF6fLjPw==\",\"dtype\":\"float64\",\"shape\":[2]}},\"selected\":{\"id\":\"1439\",\"type\":\"Selection\"},\"selection_policy\":{\"id\":\"1440\",\"type\":\"UnionRenderers\"}},\"id\":\"1407\",\"type\":\"ColumnDataSource\"},{\"attributes\":{\"fill_alpha\":{\"value\":0.1},\"fill_color\":{\"value\":\"#1f77b4\"},\"line_alpha\":{\"value\":0.1},\"line_color\":{\"value\":\"#1f77b4\"},\"x\":{\"field\":\"v/s\"},\"y\":{\"field\":\"v\"}},\"id\":\"1329\",\"type\":\"Circle\"},{\"attributes\":{\"overlay\":{\"id\":\"1321\",\"type\":\"BoxAnnotation\"}},\"id\":\"1316\",\"type\":\"BoxZoomTool\"},{\"attributes\":{},\"id\":\"1352\",\"type\":\"BasicTickFormatter\"},{\"attributes\":{\"callback\":null,\"data\":{\"1/s\":{\"__ndarray__\":\"AAAAAAAAAEAAAAAAAADwP5qZmZmZmdk/kiRJkiRJ0j+amZmZmZnJPxEREREREcE/mpmZmZmZuT8RERERERGxP3sUrkfheqQ/exSuR+F6lD8d1EEd1EGNP08b6LSBTos/exSuR+F6hD8=\",\"dtype\":\"float64\",\"shape\":[13]},\"1/v\":{\"__ndarray__\":\"q6qqqqqq+j8XXXTRRRftP57neZ7ned4/vulNb3rT2z/BFPmsG0zRP1VVVVVVVdU/cUfcEXfEzT+rqqqqqqrKP/JW9jmkJsg/VVVVVVVVxT8aGRkZGRnJP0xnMZ3FdMY/fBphuacRxj8=\",\"dtype\":\"float64\",\"shape\":[13]},\"index\":[0,1,2,3,4,5,6,7,8,9,10,11,12],\"s\":{\"__ndarray__\":\"AAAAAAAA4D8AAAAAAADwPwAAAAAAAARAAAAAAAAADEAAAAAAAAAUQAAAAAAAAB5AAAAAAAAAJEAAAAAAAAAuQAAAAAAAADlAAAAAAAAASUAAAAAAAIBRQAAAAAAAwFJAAAAAAAAAWUA=\",\"dtype\":\"float64\",\"shape\":[13]},\"v\":{\"__ndarray__\":\"MzMzMzMz4z+amZmZmZnxP83MzMzMzABAZmZmZmZmAkCamZmZmZkNQAAAAAAAAAhAMzMzMzMzEUAzMzMzMzMTQDMzMzMzMxVAAAAAAAAAGEBmZmZmZmYUQM3MzMzMzBZAMzMzMzMzF0A=\",\"dtype\":\"float64\",\"shape\":[13]},\"v/s\":{\"__ndarray__\":\"MzMzMzMz8z+amZmZmZnxP+J6FK5H4eo/dVAHdVAH5T+uR+F6FK7nP5qZmZmZmdk/hetRuB6F2z97FK5H4XrUP4lBYOXQIss/uB6F61G4vj8599kFxKayP9v5fmq8dLM/GARWDi2yrT8=\",\"dtype\":\"float64\",\"shape\":[13]}},\"selected\":{\"id\":\"1357\",\"type\":\"Selection\"},\"selection_policy\":{\"id\":\"1358\",\"type\":\"UnionRenderers\"}},\"id\":\"1326\",\"type\":\"ColumnDataSource\"},{\"attributes\":{\"dimension\":1,\"plot\":{\"id\":\"1293\",\"subtype\":\"Figure\",\"type\":\"Plot\"},\"ticker\":{\"id\":\"1309\",\"type\":\"BasicTicker\"}},\"id\":\"1312\",\"type\":\"Grid\"},{\"attributes\":{\"plot\":null,\"text\":\"Eadie-Hofstee\"},\"id\":\"1292\",\"type\":\"Title\"},{\"attributes\":{\"callback\":null},\"id\":\"1297\",\"type\":\"DataRange1d\"},{\"attributes\":{\"callback\":null},\"id\":\"1295\",\"type\":\"DataRange1d\"},{\"attributes\":{\"plot\":{\"id\":\"1293\",\"subtype\":\"Figure\",\"type\":\"Plot\"},\"ticker\":{\"id\":\"1304\",\"type\":\"BasicTicker\"}},\"id\":\"1307\",\"type\":\"Grid\"},{\"attributes\":{\"bottom_units\":\"screen\",\"fill_alpha\":{\"value\":0.5},\"fill_color\":{\"value\":\"lightgrey\"},\"left_units\":\"screen\",\"level\":\"overlay\",\"line_alpha\":{\"value\":1.0},\"line_color\":{\"value\":\"black\"},\"line_dash\":[4,4],\"line_width\":{\"value\":2},\"plot\":null,\"render_mode\":\"css\",\"right_units\":\"screen\",\"top_units\":\"screen\"},\"id\":\"1321\",\"type\":\"BoxAnnotation\"},{\"attributes\":{\"axis_label\":\"v\",\"formatter\":{\"id\":\"1354\",\"type\":\"BasicTickFormatter\"},\"plot\":{\"id\":\"1293\",\"subtype\":\"Figure\",\"type\":\"Plot\"},\"ticker\":{\"id\":\"1309\",\"type\":\"BasicTicker\"}},\"id\":\"1308\",\"type\":\"LinearAxis\"},{\"attributes\":{},\"id\":\"1314\",\"type\":\"ResetTool\"},{\"attributes\":{},\"id\":\"1309\",\"type\":\"BasicTicker\"},{\"attributes\":{},\"id\":\"1315\",\"type\":\"PanTool\"},{\"attributes\":{\"data_source\":{\"id\":\"1326\",\"type\":\"ColumnDataSource\"},\"glyph\":{\"id\":\"1328\",\"type\":\"Circle\"},\"hover_glyph\":null,\"muted_glyph\":null,\"nonselection_glyph\":{\"id\":\"1329\",\"type\":\"Circle\"},\"selection_glyph\":null,\"view\":{\"id\":\"1331\",\"type\":\"CDSView\"}},\"id\":\"1330\",\"type\":\"GlyphRenderer\"},{\"attributes\":{\"fill_color\":{\"value\":\"#1f77b4\"},\"line_color\":{\"value\":\"#1f77b4\"},\"x\":{\"field\":\"v/s\"},\"y\":{\"field\":\"v\"}},\"id\":\"1328\",\"type\":\"Circle\"},{\"attributes\":{},\"id\":\"1440\",\"type\":\"UnionRenderers\"},{\"attributes\":{\"source\":{\"id\":\"1326\",\"type\":\"ColumnDataSource\"}},\"id\":\"1331\",\"type\":\"CDSView\"}],\"root_ids\":[\"1293\"]},\"title\":\"Bokeh Application\",\"version\":\"1.0.2\"}};\n",
       "  var render_items = [{\"docid\":\"591b0b0a-a70f-423a-b64f-9404d38cc69a\",\"roots\":{\"1293\":\"0ac1eee1-8ad9-4289-8ff9-ae04703f608b\"}}];\n",
       "  root.Bokeh.embed.embed_items_notebook(docs_json, render_items);\n",
       "\n",
       "  }\n",
       "  if (root.Bokeh !== undefined) {\n",
       "    embed_document(root);\n",
       "  } else {\n",
       "    var attempts = 0;\n",
       "    var timer = setInterval(function(root) {\n",
       "      if (root.Bokeh !== undefined) {\n",
       "        embed_document(root);\n",
       "        clearInterval(timer);\n",
       "      }\n",
       "      attempts++;\n",
       "      if (attempts > 100) {\n",
       "        console.log(\"Bokeh: ERROR: Unable to run BokehJS code because BokehJS library is missing\");\n",
       "        clearInterval(timer);\n",
       "      }\n",
       "    }, 10, root)\n",
       "  }\n",
       "})(window);"
      ],
      "application/vnd.bokehjs_exec.v0+json": ""
     },
     "metadata": {
      "application/vnd.bokehjs_exec.v0+json": {
       "id": "1293"
      }
     },
     "output_type": "display_data"
    },
    {
     "data": {
      "text/plain": [
       "'Vmax = 5.961030175109625, Km = 4.448023173213158'"
      ]
     },
     "execution_count": 13,
     "metadata": {},
     "output_type": "execute_result"
    }
   ],
   "source": [
    "slope, intercept, r_value, p_value, std_err = linregress( df['v/s'], df['v'] )\n",
    "xmin = df['v/s'].min()        # Estremo sinistro dei valori osservati (var. ind.)\n",
    "xmax = df['v/s'].max()        # Estremo destro dei valori osservati (var. ind.)\n",
    "x = array( [xmin, xmax] )     # Un array di 2 punti tra xmin e xmax\n",
    "y = x * slope + intercept     # I valori previsti dalla retta interpolante\n",
    "Vmax2 = intercept\n",
    "Km2   = - slope\n",
    "p2.line( x, y, color='brown') # Aggiungiamo la retta al grafico\n",
    "show( p2 )\n",
    "'Vmax = {}, Km = {}'.format(Vmax2, Km2) "
   ]
  },
  {
   "cell_type": "markdown",
   "metadata": {},
   "source": [
    "Altra breve introduzione teorica:\n",
    "<hr><br>\n",
    "\n",
    "# Linearizzazione 3: Hanes\n",
    "\n",
    "<br>\n",
    "\n",
    "$$\n",
    "\\dfrac{s}{v}\n",
    "=\n",
    "\\dfrac{1}{V_\\text{max}}\\cdot s\\ +\\ \\dfrac{K_\\text{m}}{V_\\text{max}}\n",
    "$$\n",
    "\n",
    "Espandiamo il dataframe con i valori de `s/v` e calcoliamo i valori di $K_\\text{m}$ e $V_\\text{max}$ usano una regressione lineare in maniera del tutto analoga a quanto fatto sopra."
   ]
  },
  {
   "cell_type": "code",
   "execution_count": 14,
   "metadata": {
    "scrolled": true
   },
   "outputs": [
    {
     "data": {
      "text/html": [
       "\n",
       "\n",
       "\n",
       "\n",
       "\n",
       "\n",
       "  <div class=\"bk-root\" id=\"7c5c27a0-564d-480d-a4c9-71bdbc76704d\"></div>\n"
      ]
     },
     "metadata": {},
     "output_type": "display_data"
    },
    {
     "data": {
      "application/javascript": [
       "(function(root) {\n",
       "  function embed_document(root) {\n",
       "    \n",
       "  var docs_json = {\"297ab4c2-d60f-4b93-b6c5-7fa6884fc4b3\":{\"roots\":{\"references\":[{\"attributes\":{\"below\":[{\"id\":\"1512\",\"type\":\"LinearAxis\"}],\"left\":[{\"id\":\"1517\",\"type\":\"LinearAxis\"}],\"plot_height\":250,\"plot_width\":700,\"renderers\":[{\"id\":\"1512\",\"type\":\"LinearAxis\"},{\"id\":\"1516\",\"type\":\"Grid\"},{\"id\":\"1517\",\"type\":\"LinearAxis\"},{\"id\":\"1521\",\"type\":\"Grid\"},{\"id\":\"1530\",\"type\":\"BoxAnnotation\"},{\"id\":\"1539\",\"type\":\"GlyphRenderer\"},{\"id\":\"1544\",\"type\":\"GlyphRenderer\"}],\"title\":{\"id\":\"1501\",\"type\":\"Title\"},\"toolbar\":{\"id\":\"1527\",\"type\":\"Toolbar\"},\"x_range\":{\"id\":\"1504\",\"type\":\"DataRange1d\"},\"x_scale\":{\"id\":\"1508\",\"type\":\"LinearScale\"},\"y_range\":{\"id\":\"1506\",\"type\":\"DataRange1d\"},\"y_scale\":{\"id\":\"1510\",\"type\":\"LinearScale\"}},\"id\":\"1502\",\"subtype\":\"Figure\",\"type\":\"Plot\"},{\"attributes\":{\"bottom_units\":\"screen\",\"fill_alpha\":{\"value\":0.5},\"fill_color\":{\"value\":\"lightgrey\"},\"left_units\":\"screen\",\"level\":\"overlay\",\"line_alpha\":{\"value\":1.0},\"line_color\":{\"value\":\"black\"},\"line_dash\":[4,4],\"line_width\":{\"value\":2},\"plot\":null,\"render_mode\":\"css\",\"right_units\":\"screen\",\"top_units\":\"screen\"},\"id\":\"1530\",\"type\":\"BoxAnnotation\"},{\"attributes\":{\"callback\":null},\"id\":\"1504\",\"type\":\"DataRange1d\"},{\"attributes\":{\"callback\":null},\"id\":\"1506\",\"type\":\"DataRange1d\"},{\"attributes\":{\"source\":{\"id\":\"1535\",\"type\":\"ColumnDataSource\"}},\"id\":\"1540\",\"type\":\"CDSView\"},{\"attributes\":{},\"id\":\"1508\",\"type\":\"LinearScale\"},{\"attributes\":{},\"id\":\"1510\",\"type\":\"LinearScale\"},{\"attributes\":{\"axis_label\":\"s\",\"formatter\":{\"id\":\"1576\",\"type\":\"BasicTickFormatter\"},\"plot\":{\"id\":\"1502\",\"subtype\":\"Figure\",\"type\":\"Plot\"},\"ticker\":{\"id\":\"1513\",\"type\":\"BasicTicker\"}},\"id\":\"1512\",\"type\":\"LinearAxis\"},{\"attributes\":{\"data_source\":{\"id\":\"1535\",\"type\":\"ColumnDataSource\"},\"glyph\":{\"id\":\"1537\",\"type\":\"Circle\"},\"hover_glyph\":null,\"muted_glyph\":null,\"nonselection_glyph\":{\"id\":\"1538\",\"type\":\"Circle\"},\"selection_glyph\":null,\"view\":{\"id\":\"1540\",\"type\":\"CDSView\"}},\"id\":\"1539\",\"type\":\"GlyphRenderer\"},{\"attributes\":{},\"id\":\"1513\",\"type\":\"BasicTicker\"},{\"attributes\":{\"fill_alpha\":{\"value\":0.1},\"fill_color\":{\"value\":\"#1f77b4\"},\"line_alpha\":{\"value\":0.1},\"line_color\":{\"value\":\"#1f77b4\"},\"x\":{\"field\":\"s\"},\"y\":{\"field\":\"s/v\"}},\"id\":\"1538\",\"type\":\"Circle\"},{\"attributes\":{\"plot\":{\"id\":\"1502\",\"subtype\":\"Figure\",\"type\":\"Plot\"},\"ticker\":{\"id\":\"1513\",\"type\":\"BasicTicker\"}},\"id\":\"1516\",\"type\":\"Grid\"},{\"attributes\":{\"callback\":null,\"data\":{\"x\":{\"__ndarray__\":\"AAAAAAAA4D8AAAAAAABZQA==\",\"dtype\":\"float64\",\"shape\":[2]},\"y\":{\"__ndarray__\":\"H5CeaCmK6j91AgN/EIYxQA==\",\"dtype\":\"float64\",\"shape\":[2]}},\"selected\":{\"id\":\"1583\",\"type\":\"Selection\"},\"selection_policy\":{\"id\":\"1584\",\"type\":\"UnionRenderers\"}},\"id\":\"1541\",\"type\":\"ColumnDataSource\"},{\"attributes\":{\"fill_color\":{\"value\":\"#1f77b4\"},\"line_color\":{\"value\":\"#1f77b4\"},\"x\":{\"field\":\"s\"},\"y\":{\"field\":\"s/v\"}},\"id\":\"1537\",\"type\":\"Circle\"},{\"attributes\":{\"axis_label\":\"s/v\",\"formatter\":{\"id\":\"1578\",\"type\":\"BasicTickFormatter\"},\"plot\":{\"id\":\"1502\",\"subtype\":\"Figure\",\"type\":\"Plot\"},\"ticker\":{\"id\":\"1518\",\"type\":\"BasicTicker\"}},\"id\":\"1517\",\"type\":\"LinearAxis\"},{\"attributes\":{},\"id\":\"1518\",\"type\":\"BasicTicker\"},{\"attributes\":{},\"id\":\"1576\",\"type\":\"BasicTickFormatter\"},{\"attributes\":{\"line_color\":\"brown\",\"x\":{\"field\":\"x\"},\"y\":{\"field\":\"y\"}},\"id\":\"1542\",\"type\":\"Line\"},{\"attributes\":{\"dimension\":1,\"plot\":{\"id\":\"1502\",\"subtype\":\"Figure\",\"type\":\"Plot\"},\"ticker\":{\"id\":\"1518\",\"type\":\"BasicTicker\"}},\"id\":\"1521\",\"type\":\"Grid\"},{\"attributes\":{\"line_alpha\":0.1,\"line_color\":\"#1f77b4\",\"x\":{\"field\":\"x\"},\"y\":{\"field\":\"y\"}},\"id\":\"1543\",\"type\":\"Line\"},{\"attributes\":{\"plot\":null,\"text\":\"Hanes\"},\"id\":\"1501\",\"type\":\"Title\"},{\"attributes\":{\"data_source\":{\"id\":\"1541\",\"type\":\"ColumnDataSource\"},\"glyph\":{\"id\":\"1542\",\"type\":\"Line\"},\"hover_glyph\":null,\"muted_glyph\":null,\"nonselection_glyph\":{\"id\":\"1543\",\"type\":\"Line\"},\"selection_glyph\":null,\"view\":{\"id\":\"1545\",\"type\":\"CDSView\"}},\"id\":\"1544\",\"type\":\"GlyphRenderer\"},{\"attributes\":{\"callback\":null,\"tooltips\":[[\"substrate\",\"@s\"],[\"velocity\",\"@v\"]]},\"id\":\"1526\",\"type\":\"HoverTool\"},{\"attributes\":{},\"id\":\"1522\",\"type\":\"WheelZoomTool\"},{\"attributes\":{\"source\":{\"id\":\"1541\",\"type\":\"ColumnDataSource\"}},\"id\":\"1545\",\"type\":\"CDSView\"},{\"attributes\":{\"callback\":null,\"data\":{\"1/s\":{\"__ndarray__\":\"AAAAAAAAAEAAAAAAAADwP5qZmZmZmdk/kiRJkiRJ0j+amZmZmZnJPxEREREREcE/mpmZmZmZuT8RERERERGxP3sUrkfheqQ/exSuR+F6lD8d1EEd1EGNP08b6LSBTos/exSuR+F6hD8=\",\"dtype\":\"float64\",\"shape\":[13]},\"1/v\":{\"__ndarray__\":\"q6qqqqqq+j8XXXTRRRftP57neZ7ned4/vulNb3rT2z/BFPmsG0zRP1VVVVVVVdU/cUfcEXfEzT+rqqqqqqrKP/JW9jmkJsg/VVVVVVVVxT8aGRkZGRnJP0xnMZ3FdMY/fBphuacRxj8=\",\"dtype\":\"float64\",\"shape\":[13]},\"index\":[0,1,2,3,4,5,6,7,8,9,10,11,12],\"s\":{\"__ndarray__\":\"AAAAAAAA4D8AAAAAAADwPwAAAAAAAARAAAAAAAAADEAAAAAAAAAUQAAAAAAAAB5AAAAAAAAAJEAAAAAAAAAuQAAAAAAAADlAAAAAAAAASUAAAAAAAIBRQAAAAAAAwFJAAAAAAAAAWUA=\",\"dtype\":\"float64\",\"shape\":[13]},\"s/v\":{\"__ndarray__\":\"q6qqqqqq6j8XXXTRRRftP8MwDMMwDPM/hixkIQtZ+D/yWTeYIp/1PwAAAAAAAARAp6wpa8qaAkAAAAAAAAAJQO1zSE0w3hJAq6qqqqqqIEB0c3Nzc3MrQA3lNZTXUCpAsdzTCMs9MUA=\",\"dtype\":\"float64\",\"shape\":[13]},\"v\":{\"__ndarray__\":\"MzMzMzMz4z+amZmZmZnxP83MzMzMzABAZmZmZmZmAkCamZmZmZkNQAAAAAAAAAhAMzMzMzMzEUAzMzMzMzMTQDMzMzMzMxVAAAAAAAAAGEBmZmZmZmYUQM3MzMzMzBZAMzMzMzMzF0A=\",\"dtype\":\"float64\",\"shape\":[13]},\"v/s\":{\"__ndarray__\":\"MzMzMzMz8z+amZmZmZnxP+J6FK5H4eo/dVAHdVAH5T+uR+F6FK7nP5qZmZmZmdk/hetRuB6F2z97FK5H4XrUP4lBYOXQIss/uB6F61G4vj8599kFxKayP9v5fmq8dLM/GARWDi2yrT8=\",\"dtype\":\"float64\",\"shape\":[13]}},\"selected\":{\"id\":\"1581\",\"type\":\"Selection\"},\"selection_policy\":{\"id\":\"1582\",\"type\":\"UnionRenderers\"}},\"id\":\"1535\",\"type\":\"ColumnDataSource\"},{\"attributes\":{},\"id\":\"1523\",\"type\":\"ResetTool\"},{\"attributes\":{},\"id\":\"1578\",\"type\":\"BasicTickFormatter\"},{\"attributes\":{},\"id\":\"1582\",\"type\":\"UnionRenderers\"},{\"attributes\":{},\"id\":\"1524\",\"type\":\"PanTool\"},{\"attributes\":{},\"id\":\"1583\",\"type\":\"Selection\"},{\"attributes\":{\"overlay\":{\"id\":\"1530\",\"type\":\"BoxAnnotation\"}},\"id\":\"1525\",\"type\":\"BoxZoomTool\"},{\"attributes\":{},\"id\":\"1584\",\"type\":\"UnionRenderers\"},{\"attributes\":{\"active_drag\":\"auto\",\"active_inspect\":\"auto\",\"active_multi\":null,\"active_scroll\":\"auto\",\"active_tap\":\"auto\",\"tools\":[{\"id\":\"1522\",\"type\":\"WheelZoomTool\"},{\"id\":\"1523\",\"type\":\"ResetTool\"},{\"id\":\"1524\",\"type\":\"PanTool\"},{\"id\":\"1525\",\"type\":\"BoxZoomTool\"},{\"id\":\"1526\",\"type\":\"HoverTool\"}]},\"id\":\"1527\",\"type\":\"Toolbar\"},{\"attributes\":{},\"id\":\"1581\",\"type\":\"Selection\"}],\"root_ids\":[\"1502\"]},\"title\":\"Bokeh Application\",\"version\":\"1.0.2\"}};\n",
       "  var render_items = [{\"docid\":\"297ab4c2-d60f-4b93-b6c5-7fa6884fc4b3\",\"roots\":{\"1502\":\"7c5c27a0-564d-480d-a4c9-71bdbc76704d\"}}];\n",
       "  root.Bokeh.embed.embed_items_notebook(docs_json, render_items);\n",
       "\n",
       "  }\n",
       "  if (root.Bokeh !== undefined) {\n",
       "    embed_document(root);\n",
       "  } else {\n",
       "    var attempts = 0;\n",
       "    var timer = setInterval(function(root) {\n",
       "      if (root.Bokeh !== undefined) {\n",
       "        embed_document(root);\n",
       "        clearInterval(timer);\n",
       "      }\n",
       "      attempts++;\n",
       "      if (attempts > 100) {\n",
       "        console.log(\"Bokeh: ERROR: Unable to run BokehJS code because BokehJS library is missing\");\n",
       "        clearInterval(timer);\n",
       "      }\n",
       "    }, 10, root)\n",
       "  }\n",
       "})(window);"
      ],
      "application/vnd.bokehjs_exec.v0+json": ""
     },
     "metadata": {
      "application/vnd.bokehjs_exec.v0+json": {
       "id": "1502"
      }
     },
     "output_type": "display_data"
    },
    {
     "data": {
      "text/plain": [
       "'Vmax = 5.960109640483074, Km = 4.443109003999383'"
      ]
     },
     "execution_count": 14,
     "metadata": {},
     "output_type": "execute_result"
    }
   ],
   "source": [
    "df['s/v'] = df['s'] / df['v']\n",
    "slope, intercept, r_value, p_value, std_err = linregress( df['s'], df['s/v'] )\n",
    "xmin = df['s'].min()              # Estremo sinistro dei valori osservati (var. ind.)\n",
    "xmax = df['s'].max()              # Estremo destro dei valori osservati (var. ind.)\n",
    "x = array( [xmin, xmax] )         # Un array di 2 punti tra xmin e xmax\n",
    "y = x * slope + intercept         # I valori previsti dalla retta interpolante\n",
    "Vmax3 = 1 / slope\n",
    "Km3   = intercept / slope\n",
    "p3 = figure(title = 'Hanes', x_axis_label='s', y_axis_label='s/v', **param)\n",
    "p3.circle( 's', 's/v', source=df ) # Plotto i punti (s, s/v)\n",
    "p3.line( x, y, color='brown')      # Aggiungiamo la retta al grafico\n",
    "show( p3 )\n",
    "'Vmax = {}, Km = {}'.format(Vmax3, Km3)"
   ]
  },
  {
   "cell_type": "markdown",
   "metadata": {},
   "source": [
    "<hr><br>\n",
    "\n",
    "# Regressione non-lineare\n",
    "\n",
    "Possiamo calcolare $V_\\text{max}$ e $K_\\text{m}$ senza prima linearizzare. Useremo una regressione non-lineare.\n",
    "\n",
    "Per prima cosa bisogna definire la funzione che calcola le distanze da minimizzare (precisamente si inimizzano la somma dei quadrati delle distanze tra valori previsti e osservati).\n",
    "\n",
    "I parametri da individuare sono rappresentati dall'array `x`\n",
    "\n",
    "`x[0]` $= V_\\text{max}$\n",
    "\n",
    "`x[1]` $= K_\\text{m}$\n",
    "\n",
    "Quindi i valori previsti sono dati da `x[0] * s / ( x[1] + s)` quelli oservati da `v`."
   ]
  },
  {
   "cell_type": "code",
   "execution_count": 15,
   "metadata": {},
   "outputs": [],
   "source": [
    "mm = lambda x, s, v:   x[0] * s / ( x[1] + s) - v"
   ]
  },
  {
   "cell_type": "markdown",
   "metadata": {},
   "source": [
    "I valori di `x` che minimizzano la somma dei quadrati delle distanze vengono ricavati con una procedura numerica. La ricerca del minimo è fatta con prove successive. Il punto di partenza è arbitrario, qui `x0 = [5,5]`. Conviene scegliere un valore ragionevolmente vicino al risultato previsto. (In teoria la procedura potrebbe trovare un minimo locale diverso.)"
   ]
  },
  {
   "cell_type": "code",
   "execution_count": 16,
   "metadata": {},
   "outputs": [],
   "source": [
    "x0 = [5,5]\n",
    "from scipy.optimize import least_squares\n",
    "lsq = least_squares(mm, x0, args=(df['s'], df['v']))"
   ]
  },
  {
   "cell_type": "markdown",
   "metadata": {},
   "source": [
    "La variabile `lsq` contiene molti dati. Il risultato che noi cerchiamo è l'array `lsq.x`"
   ]
  },
  {
   "cell_type": "code",
   "execution_count": 17,
   "metadata": {},
   "outputs": [],
   "source": [
    "Vmax = lsq.x[0]\n",
    "Km = lsq.x[1]"
   ]
  },
  {
   "cell_type": "markdown",
   "metadata": {},
   "source": [
    "Plottiamo il risultato aggiungendo il grafico della curva alla figura `p` introdotta sopra."
   ]
  },
  {
   "cell_type": "code",
   "execution_count": 18,
   "metadata": {
    "scrolled": false
   },
   "outputs": [
    {
     "data": {
      "text/html": [
       "\n",
       "\n",
       "\n",
       "\n",
       "\n",
       "\n",
       "  <div class=\"bk-root\" id=\"dae88444-0d9f-4db9-a5e5-4a37cc3e6c53\"></div>\n"
      ]
     },
     "metadata": {},
     "output_type": "display_data"
    },
    {
     "data": {
      "application/javascript": [
       "(function(root) {\n",
       "  function embed_document(root) {\n",
       "    \n",
       "  var docs_json = {\"ee3b93f6-e549-4b7d-945e-a0ebfbf5e0fa\":{\"roots\":{\"references\":[{\"attributes\":{\"below\":[{\"id\":\"1011\",\"type\":\"LinearAxis\"}],\"left\":[{\"id\":\"1016\",\"type\":\"LinearAxis\"}],\"plot_height\":250,\"plot_width\":700,\"renderers\":[{\"id\":\"1011\",\"type\":\"LinearAxis\"},{\"id\":\"1015\",\"type\":\"Grid\"},{\"id\":\"1016\",\"type\":\"LinearAxis\"},{\"id\":\"1020\",\"type\":\"Grid\"},{\"id\":\"1029\",\"type\":\"BoxAnnotation\"},{\"id\":\"1038\",\"type\":\"GlyphRenderer\"},{\"id\":\"1649\",\"type\":\"GlyphRenderer\"}],\"title\":{\"id\":\"1040\",\"type\":\"Title\"},\"toolbar\":{\"id\":\"1026\",\"type\":\"Toolbar\"},\"x_range\":{\"id\":\"1003\",\"type\":\"DataRange1d\"},\"x_scale\":{\"id\":\"1007\",\"type\":\"LinearScale\"},\"y_range\":{\"id\":\"1005\",\"type\":\"DataRange1d\"},\"y_scale\":{\"id\":\"1009\",\"type\":\"LinearScale\"}},\"id\":\"1002\",\"subtype\":\"Figure\",\"type\":\"Plot\"},{\"attributes\":{},\"id\":\"1661\",\"type\":\"UnionRenderers\"},{\"attributes\":{\"dimension\":1,\"plot\":{\"id\":\"1002\",\"subtype\":\"Figure\",\"type\":\"Plot\"},\"ticker\":{\"id\":\"1017\",\"type\":\"BasicTicker\"}},\"id\":\"1020\",\"type\":\"Grid\"},{\"attributes\":{},\"id\":\"1042\",\"type\":\"BasicTickFormatter\"},{\"attributes\":{\"callback\":null},\"id\":\"1005\",\"type\":\"DataRange1d\"},{\"attributes\":{},\"id\":\"1044\",\"type\":\"BasicTickFormatter\"},{\"attributes\":{},\"id\":\"1660\",\"type\":\"Selection\"},{\"attributes\":{\"callback\":null,\"tooltips\":[[\"substrate\",\"@s\"],[\"velocity\",\"@v\"]]},\"id\":\"1025\",\"type\":\"HoverTool\"},{\"attributes\":{},\"id\":\"1047\",\"type\":\"Selection\"},{\"attributes\":{\"plot\":null,\"text\":\"Nonlinear regression curve\"},\"id\":\"1040\",\"type\":\"Title\"},{\"attributes\":{},\"id\":\"1021\",\"type\":\"WheelZoomTool\"},{\"attributes\":{},\"id\":\"1048\",\"type\":\"UnionRenderers\"},{\"attributes\":{},\"id\":\"1022\",\"type\":\"ResetTool\"},{\"attributes\":{\"source\":{\"id\":\"1646\",\"type\":\"ColumnDataSource\"}},\"id\":\"1650\",\"type\":\"CDSView\"},{\"attributes\":{},\"id\":\"1023\",\"type\":\"PanTool\"},{\"attributes\":{\"callback\":null,\"data\":{\"index\":[0,1,2,3,4,5,6,7,8,9,10,11,12],\"s\":{\"__ndarray__\":\"AAAAAAAA4D8AAAAAAADwPwAAAAAAAARAAAAAAAAADEAAAAAAAAAUQAAAAAAAAB5AAAAAAAAAJEAAAAAAAAAuQAAAAAAAADlAAAAAAAAASUAAAAAAAIBRQAAAAAAAwFJAAAAAAAAAWUA=\",\"dtype\":\"float64\",\"shape\":[13]},\"v\":{\"__ndarray__\":\"MzMzMzMz4z+amZmZmZnxP83MzMzMzABAZmZmZmZmAkCamZmZmZkNQAAAAAAAAAhAMzMzMzMzEUAzMzMzMzMTQDMzMzMzMxVAAAAAAAAAGEBmZmZmZmYUQM3MzMzMzBZAMzMzMzMzF0A=\",\"dtype\":\"float64\",\"shape\":[13]}},\"selected\":{\"id\":\"1047\",\"type\":\"Selection\"},\"selection_policy\":{\"id\":\"1048\",\"type\":\"UnionRenderers\"}},\"id\":\"1034\",\"type\":\"ColumnDataSource\"},{\"attributes\":{\"line_alpha\":0.1,\"line_color\":\"#1f77b4\",\"x\":{\"field\":\"x\"},\"y\":{\"field\":\"y\"}},\"id\":\"1648\",\"type\":\"Line\"},{\"attributes\":{\"overlay\":{\"id\":\"1029\",\"type\":\"BoxAnnotation\"}},\"id\":\"1024\",\"type\":\"BoxZoomTool\"},{\"attributes\":{\"data_source\":{\"id\":\"1646\",\"type\":\"ColumnDataSource\"},\"glyph\":{\"id\":\"1647\",\"type\":\"Line\"},\"hover_glyph\":null,\"muted_glyph\":null,\"nonselection_glyph\":{\"id\":\"1648\",\"type\":\"Line\"},\"selection_glyph\":null,\"view\":{\"id\":\"1650\",\"type\":\"CDSView\"}},\"id\":\"1649\",\"type\":\"GlyphRenderer\"},{\"attributes\":{\"active_drag\":\"auto\",\"active_inspect\":\"auto\",\"active_multi\":null,\"active_scroll\":\"auto\",\"active_tap\":\"auto\",\"tools\":[{\"id\":\"1021\",\"type\":\"WheelZoomTool\"},{\"id\":\"1022\",\"type\":\"ResetTool\"},{\"id\":\"1023\",\"type\":\"PanTool\"},{\"id\":\"1024\",\"type\":\"BoxZoomTool\"},{\"id\":\"1025\",\"type\":\"HoverTool\"}]},\"id\":\"1026\",\"type\":\"Toolbar\"},{\"attributes\":{\"line_color\":\"brown\",\"x\":{\"field\":\"x\"},\"y\":{\"field\":\"y\"}},\"id\":\"1647\",\"type\":\"Line\"},{\"attributes\":{\"callback\":null,\"data\":{\"x\":{\"__ndarray__\":\"AAAAAAAAWUC1fqVArb9YQGr9SoFaf1hAH3zwwQc/WEDU+pUCtf5XQIl5O0NivldAPvjggw9+V0DzdobEvD1XQKj1KwVq/VZAXXTRRRe9VkAS83aGxHxWQMdxHMdxPFZAfPDBBx/8VUAxb2dIzLtVQObtDIl5e1VAm2yyySY7VUBQ61cK1PpUQAVq/UqBulRAuuiiiy56VEBvZ0jM2zlUQCTm7QyJ+VNA2WSTTTa5U0CO4ziO43hTQENi3s6QOFNA+OCDDz74UkCuXylQ67dSQGLezpCYd1JAGF100UU3UkDM2xkS8/ZRQIJav1KgtlFANtlkk012UUDsVwrU+jVRQKDWrxSo9VBAVlVVVVW1UEAK1PqVAnVQQMBSoNavNFBA6aKLLrroT0BToNavFGhPQL2dITFv505AJ5tssslmTkCRmLczJOZNQPuVArV+ZU1AZZNNNtnkTEDPkJi3M2RMQDmO4ziO40tAo4suuuhiS0ANiXk7Q+JKQHeGxLydYUpA4oMPPvjgSUBMgVq/UmBJQLZ+pUCt30hAIHzwwQdfSECKeTtDYt5HQPR2hsS8XUdAXnTRRRfdRkDIcRzHcVxGQDJvZ0jM20VAnGyyySZbRUAGav1KgdpEQHBnSMzbWURA2mSTTTbZQ0BEYt7OkFhDQK5fKVDr10JAGF100UVXQkCCWr9SoNZBQOxXCtT6VUFAVlVVVVXVQEDAUqDWr1RAQFSg1q8UqD9AKJtsssmmPkD8lQK1fqU9QNCQmLczpDxApIsuuuiiO0B4hsS8naE6QEyBWr9SoDlAIHzwwQefOED0dobEvJ03QMhxHMdxnDZAnGyyySabNUBwZ0jM25k0QERi3s6QmDNAGF100UWXMkDsVwrU+pUxQMBSoNavlDBAKJtssskmL0DQkJi3MyQtQHiGxLydIStAIHzwwQcfKUDIcRzHcRwnQHBnSMzbGSVAGF100UUXI0DAUqDWrxQhQNCQmLczJB5AIHzwwQcfGkBwZ0jM2xkWQMBSoNavFBJAQHzwwQcfDEDgUqDWrxQEQABToNavFPg/AAAAAAAA4D8=\",\"dtype\":\"float64\",\"shape\":[100]},\"y\":{\"__ndarray__\":\"1NN1BVMvF0Arv2O6niwXQJq5OOLcKRdAaHEXFg0nF0AVFgfrLiQXQCtVvvFBIRdAuhlrtkUeF0Ce0nbAORsXQPb+RpIdGBdAh7r5qPAUF0D//R18shEXQHRAZ31iDhdAOCBcGAALF0Bnsf+xigcXQLQHdagBBBdAroecUmQAF0DhgKr/sfwWQPGGtvbp+BZAvfJCdgv1FkCV5ruzFfEWQLog7doH7RZALtZtDeHoFkBZvAFioOQWQM9S7uNE4BZAj2ZDks3bFkCNrRVfOdcWQNo7qi6H0hZAkXKR1rXNFkDV468cxMgWQMZ9M7awwxZA8h9zRnq+FkClirZdH7kWQP9c5HeesxZAjZQT+/WtFkDftv01JKgWQDt5Tl4nohZAeFvNjv2bFkDoPl3FpJUWQI6HzeAajxZANsp3nl2IFkC+aqSXaoEWQAPYrz4/ehZAekLp29hyFkDduyKKNGsWQFWb6TJPYxZAb8VciiVbFkCxCZUKtFIWQLEgku72SRZAKuucLOpAFkCfVw1wiTcWQPO6XxLQLRZAA16CE7kjFkBMckARPxkWQJtuqz1cDhZAAOReVAoDFkAbAnWOQvcVQO8R+5T96hVA9OqscTPeFUCohrR929AVQBkAH07swhVA+guqnVu0FUABvXszHqUVQDKCQcYnlRVAV9UZ22qEFUDz44yf2HIVQO8nsr1gYBVAY4ZxKfFMFUBRtJPldTgVQCYnDL/YIhVAy4+K/AAMFUAcS+3/0vMUQBf+mdYv2hRAz+oDtfS+FEDCILNY+qEUQH5a4koUgxRAZiYq/A9iFEA4I4yvsz4UQJvTVyi9GBRAvYWOCuDvE0CgaTnYw8MTQE9EA28BlBNAfoCA3x9gE0CN8KRpkCcTQNiVEFap6RJADXItR5+lEkBmYvJyfFoSQE3cGfcUBxJAFwyQGfepEUAkiV+xVUERQHXyPgbqyhBAX1eI78hDEEAu4iDYSFAPQDIvIfHc5Q1A+vw/wZM6DED5gb9ATTsKQPHdTdaSzAdAxDqgwH3FBEBgsUeuWeYAQISE64tbjPc/MmELenOr4j8=\",\"dtype\":\"float64\",\"shape\":[100]}},\"selected\":{\"id\":\"1660\",\"type\":\"Selection\"},\"selection_policy\":{\"id\":\"1661\",\"type\":\"UnionRenderers\"}},\"id\":\"1646\",\"type\":\"ColumnDataSource\"},{\"attributes\":{\"bottom_units\":\"screen\",\"fill_alpha\":{\"value\":0.5},\"fill_color\":{\"value\":\"lightgrey\"},\"left_units\":\"screen\",\"level\":\"overlay\",\"line_alpha\":{\"value\":1.0},\"line_color\":{\"value\":\"black\"},\"line_dash\":[4,4],\"line_width\":{\"value\":2},\"plot\":null,\"render_mode\":\"css\",\"right_units\":\"screen\",\"top_units\":\"screen\"},\"id\":\"1029\",\"type\":\"BoxAnnotation\"},{\"attributes\":{},\"id\":\"1007\",\"type\":\"LinearScale\"},{\"attributes\":{\"fill_alpha\":{\"value\":0.1},\"fill_color\":{\"value\":\"#1f77b4\"},\"line_alpha\":{\"value\":0.1},\"line_color\":{\"value\":\"#1f77b4\"},\"x\":{\"field\":\"s\"},\"y\":{\"field\":\"v\"}},\"id\":\"1037\",\"type\":\"Circle\"},{\"attributes\":{},\"id\":\"1009\",\"type\":\"LinearScale\"},{\"attributes\":{\"callback\":null},\"id\":\"1003\",\"type\":\"DataRange1d\"},{\"attributes\":{\"axis_label\":\"Concentrazione substrato\",\"formatter\":{\"id\":\"1042\",\"type\":\"BasicTickFormatter\"},\"plot\":{\"id\":\"1002\",\"subtype\":\"Figure\",\"type\":\"Plot\"},\"ticker\":{\"id\":\"1012\",\"type\":\"BasicTicker\"}},\"id\":\"1011\",\"type\":\"LinearAxis\"},{\"attributes\":{},\"id\":\"1012\",\"type\":\"BasicTicker\"},{\"attributes\":{\"fill_color\":{\"value\":\"#1f77b4\"},\"line_color\":{\"value\":\"#1f77b4\"},\"x\":{\"field\":\"s\"},\"y\":{\"field\":\"v\"}},\"id\":\"1036\",\"type\":\"Circle\"},{\"attributes\":{\"plot\":{\"id\":\"1002\",\"subtype\":\"Figure\",\"type\":\"Plot\"},\"ticker\":{\"id\":\"1012\",\"type\":\"BasicTicker\"}},\"id\":\"1015\",\"type\":\"Grid\"},{\"attributes\":{\"data_source\":{\"id\":\"1034\",\"type\":\"ColumnDataSource\"},\"glyph\":{\"id\":\"1036\",\"type\":\"Circle\"},\"hover_glyph\":null,\"muted_glyph\":null,\"nonselection_glyph\":{\"id\":\"1037\",\"type\":\"Circle\"},\"selection_glyph\":null,\"view\":{\"id\":\"1039\",\"type\":\"CDSView\"}},\"id\":\"1038\",\"type\":\"GlyphRenderer\"},{\"attributes\":{\"axis_label\":\"Velocit\\u00e0 di reazione\",\"formatter\":{\"id\":\"1044\",\"type\":\"BasicTickFormatter\"},\"plot\":{\"id\":\"1002\",\"subtype\":\"Figure\",\"type\":\"Plot\"},\"ticker\":{\"id\":\"1017\",\"type\":\"BasicTicker\"}},\"id\":\"1016\",\"type\":\"LinearAxis\"},{\"attributes\":{\"source\":{\"id\":\"1034\",\"type\":\"ColumnDataSource\"}},\"id\":\"1039\",\"type\":\"CDSView\"},{\"attributes\":{},\"id\":\"1017\",\"type\":\"BasicTicker\"}],\"root_ids\":[\"1002\"]},\"title\":\"Bokeh Application\",\"version\":\"1.0.2\"}};\n",
       "  var render_items = [{\"docid\":\"ee3b93f6-e549-4b7d-945e-a0ebfbf5e0fa\",\"roots\":{\"1002\":\"dae88444-0d9f-4db9-a5e5-4a37cc3e6c53\"}}];\n",
       "  root.Bokeh.embed.embed_items_notebook(docs_json, render_items);\n",
       "\n",
       "  }\n",
       "  if (root.Bokeh !== undefined) {\n",
       "    embed_document(root);\n",
       "  } else {\n",
       "    var attempts = 0;\n",
       "    var timer = setInterval(function(root) {\n",
       "      if (root.Bokeh !== undefined) {\n",
       "        embed_document(root);\n",
       "        clearInterval(timer);\n",
       "      }\n",
       "      attempts++;\n",
       "      if (attempts > 100) {\n",
       "        console.log(\"Bokeh: ERROR: Unable to run BokehJS code because BokehJS library is missing\");\n",
       "        clearInterval(timer);\n",
       "      }\n",
       "    }, 10, root)\n",
       "  }\n",
       "})(window);"
      ],
      "application/vnd.bokehjs_exec.v0+json": ""
     },
     "metadata": {
      "application/vnd.bokehjs_exec.v0+json": {
       "id": "1002"
      }
     },
     "output_type": "display_data"
    },
    {
     "data": {
      "text/plain": [
       "'Vmax = 6.068688200320752, Km = 4.700879022975601'"
      ]
     },
     "execution_count": 18,
     "metadata": {},
     "output_type": "execute_result"
    }
   ],
   "source": [
    "from numpy import linspace       \n",
    "xmin = df['s'].min()             # Estremo sinistro dei valori osservati (var. ind.)\n",
    "xmax = df['s'].max()             # Estremo destro dei valori osservati (var. ind.)\n",
    "s = linspace( xmax, xmin, 100  ) # Un array di 100 punti tra xmin e xmax\n",
    "v = Vmax * s / ( Km + s )        # I valori della curva interpolante\n",
    "p.title.text = 'Nonlinear regression curve'\n",
    "p.line( s, v, color='brown' )    # Aggiungiamo la curva al grafico\n",
    "show( p )\n",
    "'Vmax = {}, Km = {}'.format(Vmax, Km) "
   ]
  },
  {
   "cell_type": "markdown",
   "metadata": {},
   "source": [
    "The End\n",
    "\n",
    "<hr><hr><hr>\n",
    "\n",
    "Next cell loads some html style files (it may be either run/ignored/deleted)\n"
   ]
  },
  {
   "cell_type": "code",
   "execution_count": 19,
   "metadata": {},
   "outputs": [
    {
     "data": {
      "text/html": [
       "<style>\n",
       "div.jp-MarkdownOutput {font-family: \"Times New Roman\", Times, serif;   \n",
       "    /* background-color: #eee;  */\n",
       "    /* border-left: 5px solid #00b5b4; */\n",
       "    font-size: 10pt;\n",
       "    line-height: 140%;\n",
       "}\n",
       ".text_cell_render {\n",
       "    font-family: \"Times New Roman\", Times, serif;    \n",
       "    /* background-color: #eee;  */\n",
       "    /* border-left: 5px solid #00b5b4; */\n",
       "    font-size: 14pt;\n",
       "    line-height: 140%;s\n",
       "}\n",
       "\n",
       "h1 {\n",
       "    font-size: xx-large  !important;\n",
       "    margin-top: 0ex !important;\n",
       "}\n",
       "\n",
       "h2 {\n",
       "    font-size: larger !important;\n",
       "    margin-top: 0ex !important;\n",
       "    margin-bottom: 0ex !important;\n",
       "    padding-bottom: 0ex !important;\n",
       "}\n",
       "\n",
       "h3 {\n",
       "    font-size: large !important;\n",
       "    margin-top: 0ex !important;\n",
       "    margin-bottom: 0ex !important;\n",
       "    padding-bottom: 0ex !important;\n",
       "}\n",
       "\n",
       "mark {\n",
       "    background-color: #ffdd00;\n",
       "    border-top-right-radius: 5px;\n",
       "    border-top-left-radius: 5px;\n",
       "    border-bottom-right-radius: 5px;\n",
       "    border-bottom-left-radius: 5px;\n",
       "    padding-top: 0.1ex;\n",
       "    padding-bottom: 0.2ex;\n",
       "    padding-left: 0.7ex;\n",
       "    padding-right: 0.7ex;\n",
       "}\n",
       "\n",
       ".ita {\n",
       "    background-color: #bbddee;\n",
       "}\n",
       "\n",
       ".errore {background-color:#d88;\n",
       "        width:310px;\n",
       "        height:17ex;\n",
       "        display:inline-block;\n",
       "        margin:5px;\n",
       "        padding:8px;\n",
       "}\n",
       "\n",
       ".corretto {background-color:#2d8;\n",
       "        width:310px;\n",
       "        height:17ex;\n",
       "        display:inline-block;\n",
       "        margin:5px;\n",
       "        padding:8px;\n",
       "}\n",
       "\n",
       "n-a {background-color: #ffdddd;}\n",
       "\n",
       "ul, ol {\n",
       "     padding-left: 2ex !important;\n",
       "}\n",
       "ul {\n",
       "     margin-top: 0ex !important;\n",
       "     margin-bottom: 0ex !important;\n",
       "     list-style-type: square !important;\n",
       "}\n",
       "\n",
       "div.warn {    \n",
       "    background-color: #fcf2f2;\n",
       "    border-color: #dFb5b4;\n",
       "    border-left: 5px solid #dfb5b4;\n",
       "    margin-top: 1ex;\n",
       "    padding: 1ex;\n",
       "}\n",
       ".right{\n",
       "    float:right\n",
       "}\n",
       "\n",
       "hr { \n",
       "    display: block;\n",
       "    margin-top: 0.5ex;\n",
       "    margin-bottom: 0.5ex;\n",
       "    margin-left: auto;\n",
       "    margin-right: auto;\n",
       "    border-style: inset;\n",
       "    border-width: 1px;\n",
       "}\n",
       "</style>\n"
      ],
      "text/plain": [
       "<IPython.core.display.HTML object>"
      ]
     },
     "execution_count": 19,
     "metadata": {},
     "output_type": "execute_result"
    }
   ],
   "source": [
    "import requests\n",
    "from IPython.core.display import HTML\n",
    "html_style = requests.get(  baseURL + 'lezioni/style/custom.css' ).text\n",
    "HTML( html_style )"
   ]
  }
 ],
 "metadata": {
  "colab": {
   "collapsed_sections": [],
   "name": "5_.ipynb",
   "provenance": [],
   "version": "0.3.2"
  },
  "kernelspec": {
   "display_name": "Python 3",
   "language": "python",
   "name": "python3"
  },
  "language_info": {
   "codemirror_mode": {
    "name": "ipython",
    "version": 3
   },
   "file_extension": ".py",
   "mimetype": "text/x-python",
   "name": "python",
   "nbconvert_exporter": "python",
   "pygments_lexer": "ipython3",
   "version": "3.7.1"
  }
 },
 "nbformat": 4,
 "nbformat_minor": 1
}
